{
 "cells": [
  {
   "cell_type": "markdown",
   "metadata": {},
   "source": [
    "# MATH50003 Numerical Analysis (2022–23)\n",
    "# Lab 6: Least squares, QR and Cholesky\n",
    "This lab explores the the least squares problem for fitting functions with polynomials,\n",
    "computing the QR factorisation with both reflections and rotations,\n",
    "and implementing a tridiagonal Cholesky decomposition (which we shall see later arises in the 1D Poisson equation)."
   ]
  },
  {
   "cell_type": "code",
   "execution_count": 4,
   "metadata": {},
   "outputs": [],
   "source": [
    "using Plots, Test, LinearAlgebra"
   ]
  },
  {
   "cell_type": "markdown",
   "metadata": {},
   "source": [
    "------"
   ]
  },
  {
   "cell_type": "markdown",
   "metadata": {},
   "source": [
    "When $m = n$ a least squares fit by a polynomial becomes _interpolation_:\n",
    "the approximating polynomial will fit the data exactly. That is, for\n",
    "$$\n",
    "p(x) = ∑_{k = 0}^{n-1} p_k x^k\n",
    "$$\n",
    "and $x_1, …, x_n ∈ ℝ$, we choose $p_k$ so that $p(x_j) = f(x_j)$ for\n",
    "$j = 1, …, n$."
   ]
  },
  {
   "attachments": {},
   "cell_type": "markdown",
   "metadata": {},
   "source": [
    "**(REVIEW) Problem 1.1** Complete the following function which returns a rectangular _Vandermonde matrix_:\n",
    "a matrix $V ∈ ℝ^{m × n}$ such that\n",
    "$$\n",
    "V * \\begin{bmatrix} p_0\\\\ ⋮ \\\\p_n \\end{bmatrix} = \\begin{bmatrix} p(x_1)\\\\ ⋮ \\\\p(x_m) \\end{bmatrix}\n",
    "$$"
   ]
  },
  {
   "cell_type": "code",
   "execution_count": 23,
   "metadata": {},
   "outputs": [
    {
     "data": {
      "text/plain": [
       "\u001b[32m\u001b[1mTest Passed\u001b[22m\u001b[39m"
      ]
     },
     "metadata": {},
     "output_type": "display_data"
    }
   ],
   "source": [
    "function vandermonde(𝐱, n) # 𝐱 = [x_1,…,x_m]\n",
    "    m = length(𝐱)\n",
    "    𝐱 .^ (0:(n-1))'\n",
    "end\n",
    "\n",
    "n = 1000\n",
    "𝐱 = range(0, 0.5; length=n)\n",
    "V = vandermonde(𝐱, n) # square Vandermonde matrix\n",
    "# if all coefficients are 1 then p(x) = (1-x^n)/(1-x)\n",
    "@test V * ones(n) ≈ (1 .- 𝐱 .^ n) ./ (1 .- 𝐱)"
   ]
  },
  {
   "cell_type": "markdown",
   "metadata": {},
   "source": [
    "Inverting the square Vandermonde matrix is a way of computing coefficients from function\n",
    "samples. That is, solving\n",
    "$$\n",
    "V𝐜 = \\begin{bmatrix} f(x_1) \\\\ ⋮ \\\\ f(x_n) \\end{bmatrix}\n",
    "$$\n",
    "Gives the coefficients of a polynomial $p(x)$ so that $p(x_j) = f(x_j)$.\n",
    "Whether an interpolation is actually close to a function is a subtle question,\n",
    "involving properties of the function, distribution of the sample points $x_1,…,x_n$,\n",
    "and round-off error.\n",
    "A classic example is:\n",
    "$$\n",
    "  f_M(x) = {1 \\over M x^2 + 1}\n",
    "$$\n",
    "where the choice of $M$ can dictate whether interpolation at evenly spaced points converges."
   ]
  },
  {
   "attachments": {},
   "cell_type": "markdown",
   "metadata": {},
   "source": [
    "**(REVIEW) Problem 1.2** Interpolate $1/(4x^2+1)$ and $1/(25x^2 + 1)$ at an evenly spaced grid of $n$\n",
    "points, plotting the solution at a grid of $1000$ points. For $n = 50$ does your interpolation match\n",
    "the true function?  Does increasing $n$ to 400 improve the accuracy? How about using `BigFloat`?"
   ]
  },
  {
   "cell_type": "code",
   "execution_count": 3,
   "metadata": {},
   "outputs": [
    {
     "data": {
      "text/plain": [
       "-1.0:0.002002002002002002:1.0"
      ]
     },
     "execution_count": 3,
     "metadata": {},
     "output_type": "execute_result"
    }
   ],
   "source": [
    "n = 50\n",
    "𝐱 = range(-1, 1; length=n)\n",
    "𝐠 = range(-1, 1; length=1000) # plotting grid\n",
    "\n",
    "# TODO: interpolate 1/(10x^2 + 1) and 1/(25x^2 + 1) at $𝐱$, plotting both solutions evaluated at\n",
    "# the grid 𝐠. Hint: use a rectangular Vandermonde matrix to evaluate your polynomial on 𝐠. Remember\n",
    "# `plot(𝐱, 𝐟)` will create a new plot whilst `plot!(𝐱, 𝐟)` will add to an existing plot.\n",
    "f = x -> 1 / (4*x^2 + 1)\n",
    "g = x -> 1 / (25*x^2 + 1)\n",
    "\n"
   ]
  },
  {
   "cell_type": "code",
   "execution_count": 6,
   "metadata": {},
   "outputs": [
    {
     "data": {
      "image/png": "[encoded data removed]",
      "image/svg+xml": "<?xml version=\"1.0\" encoding=\"utf-8\"?>\n<svg xmlns=\"http://www.w3.org/2000/svg\" xmlns:xlink=\"http://www.w3.org/1999/xlink\" width=\"600\" height=\"400\" viewBox=\"0 0 2400 1600\">\n<defs>\n  <clipPath id=\"clip800\">\n    <rect x=\"0\" y=\"0\" width=\"2400\" height=\"1600\"/>\n  </clipPath>\n</defs>\n<path clip-path=\"url(#clip800)\" d=\"\nM0 1600 L2400 1600 L2400 0 L0 0  Z\n  \" fill=\"#ffffff\" fill-rule=\"evenodd\" fill-opacity=\"1\"/>\n<defs>\n  <clipPath id=\"clip801\">\n    <rect x=\"480\" y=\"0\" width=\"1681\" height=\"1600\"/>\n  </clipPath>\n</defs>\n<path clip-path=\"url(#clip800)\" d=\"\nM193.936 1486.45 L2352.76 1486.45 L2352.76 47.2441 L193.936 47.2441  Z\n  \" fill=\"#ffffff\" fill-rule=\"evenodd\" fill-opacity=\"1\"/>\n<defs>\n  <clipPath id=\"clip802\">\n    <rect x=\"193\" y=\"47\" width=\"2160\" height=\"1440\"/>\n  </clipPath>\n</defs>\n<polyline clip-path=\"url(#clip802)\" style=\"stroke:#000000; stroke-linecap:round; stroke-linejoin:round; stroke-width:2; stroke-opacity:0.1; fill:none\" points=\"\n  255.035,1486.45 255.035,47.2441 \n  \"/>\n<polyline clip-path=\"url(#clip802)\" style=\"stroke:#000000; stroke-linecap:round; stroke-linejoin:round; stroke-width:2; stroke-opacity:0.1; fill:none\" points=\"\n  764.19,1486.45 764.19,47.2441 \n  \"/>\n<polyline clip-path=\"url(#clip802)\" style=\"stroke:#000000; stroke-linecap:round; stroke-linejoin:round; stroke-width:2; stroke-opacity:0.1; fill:none\" points=\"\n  1273.35,1486.45 1273.35,47.2441 \n  \"/>\n<polyline clip-path=\"url(#clip802)\" style=\"stroke:#000000; stroke-linecap:round; stroke-linejoin:round; stroke-width:2; stroke-opacity:0.1; fill:none\" points=\"\n  1782.5,1486.45 1782.5,47.2441 \n  \"/>\n<polyline clip-path=\"url(#clip802)\" style=\"stroke:#000000; stroke-linecap:round; stroke-linejoin:round; stroke-width:2; stroke-opacity:0.1; fill:none\" points=\"\n  2291.66,1486.45 2291.66,47.2441 \n  \"/>\n<polyline clip-path=\"url(#clip800)\" style=\"stroke:#000000; stroke-linecap:round; stroke-linejoin:round; stroke-width:4; stroke-opacity:1; fill:none\" points=\"\n  193.936,1486.45 2352.76,1486.45 \n  \"/>\n<polyline clip-path=\"url(#clip800)\" style=\"stroke:#000000; stroke-linecap:round; stroke-linejoin:round; stroke-width:4; stroke-opacity:1; fill:none\" points=\"\n  255.035,1486.45 255.035,1467.55 \n  \"/>\n<polyline clip-path=\"url(#clip800)\" style=\"stroke:#000000; stroke-linecap:round; stroke-linejoin:round; stroke-width:4; stroke-opacity:1; fill:none\" points=\"\n  764.19,1486.45 764.19,1467.55 \n  \"/>\n<polyline clip-path=\"url(#clip800)\" style=\"stroke:#000000; stroke-linecap:round; stroke-linejoin:round; stroke-width:4; stroke-opacity:1; fill:none\" points=\"\n  1273.35,1486.45 1273.35,1467.55 \n  \"/>\n<polyline clip-path=\"url(#clip800)\" style=\"stroke:#000000; stroke-linecap:round; stroke-linejoin:round; stroke-width:4; stroke-opacity:1; fill:none\" points=\"\n  1782.5,1486.45 1782.5,1467.55 \n  \"/>\n<polyline clip-path=\"url(#clip800)\" style=\"stroke:#000000; stroke-linecap:round; stroke-linejoin:round; stroke-width:4; stroke-opacity:1; fill:none\" points=\"\n  2291.66,1486.45 2291.66,1467.55 \n  \"/>\n<path clip-path=\"url(#clip800)\" d=\"M201.563 1532.02 L231.239 1532.02 L231.239 1535.95 L201.563 1535.95 L201.563 1532.02 Z\" fill=\"#000000\" fill-rule=\"evenodd\" fill-opacity=\"1\" /><path clip-path=\"url(#clip800)\" d=\"M242.141 1544.91 L249.78 1544.91 L249.78 1518.55 L241.47 1520.21 L241.47 1515.95 L249.734 1514.29 L254.41 1514.29 L254.41 1544.91 L262.049 1544.91 L262.049 1548.85 L242.141 1548.85 L242.141 1544.91 Z\" fill=\"#000000\" fill-rule=\"evenodd\" fill-opacity=\"1\" /><path clip-path=\"url(#clip800)\" d=\"M271.493 1542.97 L276.377 1542.97 L276.377 1548.85 L271.493 1548.85 L271.493 1542.97 Z\" fill=\"#000000\" fill-rule=\"evenodd\" fill-opacity=\"1\" /><path clip-path=\"url(#clip800)\" d=\"M296.562 1517.37 Q292.951 1517.37 291.122 1520.93 Q289.317 1524.47 289.317 1531.6 Q289.317 1538.71 291.122 1542.27 Q292.951 1545.82 296.562 1545.82 Q300.196 1545.82 302.002 1542.27 Q303.831 1538.71 303.831 1531.6 Q303.831 1524.47 302.002 1520.93 Q300.196 1517.37 296.562 1517.37 M296.562 1513.66 Q302.372 1513.66 305.428 1518.27 Q308.507 1522.85 308.507 1531.6 Q308.507 1540.33 305.428 1544.94 Q302.372 1549.52 296.562 1549.52 Q290.752 1549.52 287.673 1544.94 Q284.618 1540.33 284.618 1531.6 Q284.618 1522.85 287.673 1518.27 Q290.752 1513.66 296.562 1513.66 Z\" fill=\"#000000\" fill-rule=\"evenodd\" fill-opacity=\"1\" /><path clip-path=\"url(#clip800)\" d=\"M711.216 1532.02 L740.892 1532.02 L740.892 1535.95 L711.216 1535.95 L711.216 1532.02 Z\" fill=\"#000000\" fill-rule=\"evenodd\" fill-opacity=\"1\" /><path clip-path=\"url(#clip800)\" d=\"M760.984 1517.37 Q757.373 1517.37 755.545 1520.93 Q753.739 1524.47 753.739 1531.6 Q753.739 1538.71 755.545 1542.27 Q757.373 1545.82 760.984 1545.82 Q764.619 1545.82 766.424 1542.27 Q768.253 1538.71 768.253 1531.6 Q768.253 1524.47 766.424 1520.93 Q764.619 1517.37 760.984 1517.37 M760.984 1513.66 Q766.794 1513.66 769.85 1518.27 Q772.929 1522.85 772.929 1531.6 Q772.929 1540.33 769.85 1544.94 Q766.794 1549.52 760.984 1549.52 Q755.174 1549.52 752.095 1544.94 Q749.04 1540.33 749.04 1531.6 Q749.04 1522.85 752.095 1518.27 Q755.174 1513.66 760.984 1513.66 Z\" fill=\"#000000\" fill-rule=\"evenodd\" fill-opacity=\"1\" /><path clip-path=\"url(#clip800)\" d=\"M781.146 1542.97 L786.03 1542.97 L786.03 1548.85 L781.146 1548.85 L781.146 1542.97 Z\" fill=\"#000000\" fill-rule=\"evenodd\" fill-opacity=\"1\" /><path clip-path=\"url(#clip800)\" d=\"M796.262 1514.29 L814.618 1514.29 L814.618 1518.22 L800.544 1518.22 L800.544 1526.7 Q801.563 1526.35 802.581 1526.19 Q803.6 1526 804.618 1526 Q810.405 1526 813.785 1529.17 Q817.165 1532.34 817.165 1537.76 Q817.165 1543.34 813.692 1546.44 Q810.22 1549.52 803.901 1549.52 Q801.725 1549.52 799.456 1549.15 Q797.211 1548.78 794.804 1548.04 L794.804 1543.34 Q796.887 1544.47 799.109 1545.03 Q801.331 1545.58 803.808 1545.58 Q807.813 1545.58 810.151 1543.48 Q812.489 1541.37 812.489 1537.76 Q812.489 1534.15 810.151 1532.04 Q807.813 1529.94 803.808 1529.94 Q801.933 1529.94 800.058 1530.35 Q798.206 1530.77 796.262 1531.65 L796.262 1514.29 Z\" fill=\"#000000\" fill-rule=\"evenodd\" fill-opacity=\"1\" /><path clip-path=\"url(#clip800)\" d=\"M1250.73 1517.37 Q1247.12 1517.37 1245.29 1520.93 Q1243.49 1524.47 1243.49 1531.6 Q1243.49 1538.71 1245.29 1542.27 Q1247.12 1545.82 1250.73 1545.82 Q1254.36 1545.82 1256.17 1542.27 Q1258 1538.71 1258 1531.6 Q1258 1524.47 1256.17 1520.93 Q1254.36 1517.37 1250.73 1517.37 M1250.73 1513.66 Q1256.54 1513.66 1259.6 1518.27 Q1262.67 1522.85 1262.67 1531.6 Q1262.67 1540.33 1259.6 1544.94 Q1256.54 1549.52 1250.73 1549.52 Q1244.92 1549.52 1241.84 1544.94 Q1238.79 1540.33 1238.79 1531.6 Q1238.79 1522.85 1241.84 1518.27 Q1244.92 1513.66 1250.73 1513.66 Z\" fill=\"#000000\" fill-rule=\"evenodd\" fill-opacity=\"1\" /><path clip-path=\"url(#clip800)\" d=\"M1270.89 1542.97 L1275.78 1542.97 L1275.78 1548.85 L1270.89 1548.85 L1270.89 1542.97 Z\" fill=\"#000000\" fill-rule=\"evenodd\" fill-opacity=\"1\" /><path clip-path=\"url(#clip800)\" d=\"M1295.96 1517.37 Q1292.35 1517.37 1290.52 1520.93 Q1288.72 1524.47 1288.72 1531.6 Q1288.72 1538.71 1290.52 1542.27 Q1292.35 1545.82 1295.96 1545.82 Q1299.6 1545.82 1301.4 1542.27 Q1303.23 1538.71 1303.23 1531.6 Q1303.23 1524.47 1301.4 1520.93 Q1299.6 1517.37 1295.96 1517.37 M1295.96 1513.66 Q1301.77 1513.66 1304.83 1518.27 Q1307.91 1522.85 1307.91 1531.6 Q1307.91 1540.33 1304.83 1544.94 Q1301.77 1549.52 1295.96 1549.52 Q1290.15 1549.52 1287.07 1544.94 Q1284.02 1540.33 1284.02 1531.6 Q1284.02 1522.85 1287.07 1518.27 Q1290.15 1513.66 1295.96 1513.66 Z\" fill=\"#000000\" fill-rule=\"evenodd\" fill-opacity=\"1\" /><path clip-path=\"url(#clip800)\" d=\"M1760.38 1517.37 Q1756.77 1517.37 1754.94 1520.93 Q1753.14 1524.47 1753.14 1531.6 Q1753.14 1538.71 1754.94 1542.27 Q1756.77 1545.82 1760.38 1545.82 Q1764.02 1545.82 1765.82 1542.27 Q1767.65 1538.71 1767.65 1531.6 Q1767.65 1524.47 1765.82 1520.93 Q1764.02 1517.37 1760.38 1517.37 M1760.38 1513.66 Q1766.19 1513.66 1769.25 1518.27 Q1772.33 1522.85 1772.33 1531.6 Q1772.33 1540.33 1769.25 1544.94 Q1766.19 1549.52 1760.38 1549.52 Q1754.57 1549.52 1751.49 1544.94 Q1748.44 1540.33 1748.44 1531.6 Q1748.44 1522.85 1751.49 1518.27 Q1754.57 1513.66 1760.38 1513.66 Z\" fill=\"#000000\" fill-rule=\"evenodd\" fill-opacity=\"1\" /><path clip-path=\"url(#clip800)\" d=\"M1780.55 1542.97 L1785.43 1542.97 L1785.43 1548.85 L1780.55 1548.85 L1780.55 1542.97 Z\" fill=\"#000000\" fill-rule=\"evenodd\" fill-opacity=\"1\" /><path clip-path=\"url(#clip800)\" d=\"M1795.66 1514.29 L1814.02 1514.29 L1814.02 1518.22 L1799.94 1518.22 L1799.94 1526.7 Q1800.96 1526.35 1801.98 1526.19 Q1803 1526 1804.02 1526 Q1809.8 1526 1813.18 1529.17 Q1816.56 1532.34 1816.56 1537.76 Q1816.56 1543.34 1813.09 1546.44 Q1809.62 1549.52 1803.3 1549.52 Q1801.12 1549.52 1798.86 1549.15 Q1796.61 1548.78 1794.2 1548.04 L1794.2 1543.34 Q1796.29 1544.47 1798.51 1545.03 Q1800.73 1545.58 1803.21 1545.58 Q1807.21 1545.58 1809.55 1543.48 Q1811.89 1541.37 1811.89 1537.76 Q1811.89 1534.15 1809.55 1532.04 Q1807.21 1529.94 1803.21 1529.94 Q1801.33 1529.94 1799.46 1530.35 Q1797.61 1530.77 1795.66 1531.65 L1795.66 1514.29 Z\" fill=\"#000000\" fill-rule=\"evenodd\" fill-opacity=\"1\" /><path clip-path=\"url(#clip800)\" d=\"M2258.81 1544.91 L2266.45 1544.91 L2266.45 1518.55 L2258.14 1520.21 L2258.14 1515.95 L2266.4 1514.29 L2271.08 1514.29 L2271.08 1544.91 L2278.72 1544.91 L2278.72 1548.85 L2258.81 1548.85 L2258.81 1544.91 Z\" fill=\"#000000\" fill-rule=\"evenodd\" fill-opacity=\"1\" /><path clip-path=\"url(#clip800)\" d=\"M2288.16 1542.97 L2293.05 1542.97 L2293.05 1548.85 L2288.16 1548.85 L2288.16 1542.97 Z\" fill=\"#000000\" fill-rule=\"evenodd\" fill-opacity=\"1\" /><path clip-path=\"url(#clip800)\" d=\"M2313.23 1517.37 Q2309.62 1517.37 2307.79 1520.93 Q2305.99 1524.47 2305.99 1531.6 Q2305.99 1538.71 2307.79 1542.27 Q2309.62 1545.82 2313.23 1545.82 Q2316.87 1545.82 2318.67 1542.27 Q2320.5 1538.71 2320.5 1531.6 Q2320.5 1524.47 2318.67 1520.93 Q2316.87 1517.37 2313.23 1517.37 M2313.23 1513.66 Q2319.04 1513.66 2322.1 1518.27 Q2325.18 1522.85 2325.18 1531.6 Q2325.18 1540.33 2322.1 1544.94 Q2319.04 1549.52 2313.23 1549.52 Q2307.42 1549.52 2304.34 1544.94 Q2301.29 1540.33 2301.29 1531.6 Q2301.29 1522.85 2304.34 1518.27 Q2307.42 1513.66 2313.23 1513.66 Z\" fill=\"#000000\" fill-rule=\"evenodd\" fill-opacity=\"1\" /><polyline clip-path=\"url(#clip802)\" style=\"stroke:#000000; stroke-linecap:round; stroke-linejoin:round; stroke-width:2; stroke-opacity:0.1; fill:none\" points=\"\n  193.936,1486.45 2352.76,1486.45 \n  \"/>\n<polyline clip-path=\"url(#clip802)\" style=\"stroke:#000000; stroke-linecap:round; stroke-linejoin:round; stroke-width:2; stroke-opacity:0.1; fill:none\" points=\"\n  193.936,1126.65 2352.76,1126.65 \n  \"/>\n<polyline clip-path=\"url(#clip802)\" style=\"stroke:#000000; stroke-linecap:round; stroke-linejoin:round; stroke-width:2; stroke-opacity:0.1; fill:none\" points=\"\n  193.936,766.846 2352.76,766.846 \n  \"/>\n<polyline clip-path=\"url(#clip802)\" style=\"stroke:#000000; stroke-linecap:round; stroke-linejoin:round; stroke-width:2; stroke-opacity:0.1; fill:none\" points=\"\n  193.936,407.045 2352.76,407.045 \n  \"/>\n<polyline clip-path=\"url(#clip802)\" style=\"stroke:#000000; stroke-linecap:round; stroke-linejoin:round; stroke-width:2; stroke-opacity:0.1; fill:none\" points=\"\n  193.936,47.2441 2352.76,47.2441 \n  \"/>\n<polyline clip-path=\"url(#clip800)\" style=\"stroke:#000000; stroke-linecap:round; stroke-linejoin:round; stroke-width:4; stroke-opacity:1; fill:none\" points=\"\n  193.936,1486.45 193.936,47.2441 \n  \"/>\n<polyline clip-path=\"url(#clip800)\" style=\"stroke:#000000; stroke-linecap:round; stroke-linejoin:round; stroke-width:4; stroke-opacity:1; fill:none\" points=\"\n  193.936,1486.45 212.834,1486.45 \n  \"/>\n<polyline clip-path=\"url(#clip800)\" style=\"stroke:#000000; stroke-linecap:round; stroke-linejoin:round; stroke-width:4; stroke-opacity:1; fill:none\" points=\"\n  193.936,1126.65 212.834,1126.65 \n  \"/>\n<polyline clip-path=\"url(#clip800)\" style=\"stroke:#000000; stroke-linecap:round; stroke-linejoin:round; stroke-width:4; stroke-opacity:1; fill:none\" points=\"\n  193.936,766.846 212.834,766.846 \n  \"/>\n<polyline clip-path=\"url(#clip800)\" style=\"stroke:#000000; stroke-linecap:round; stroke-linejoin:round; stroke-width:4; stroke-opacity:1; fill:none\" points=\"\n  193.936,407.045 212.834,407.045 \n  \"/>\n<polyline clip-path=\"url(#clip800)\" style=\"stroke:#000000; stroke-linecap:round; stroke-linejoin:round; stroke-width:4; stroke-opacity:1; fill:none\" points=\"\n  193.936,47.2441 212.834,47.2441 \n  \"/>\n<path clip-path=\"url(#clip800)\" d=\"M50.9921 1486.9 L80.6679 1486.9 L80.6679 1490.83 L50.9921 1490.83 L50.9921 1486.9 Z\" fill=\"#000000\" fill-rule=\"evenodd\" fill-opacity=\"1\" /><path clip-path=\"url(#clip800)\" d=\"M91.5706 1499.79 L99.2095 1499.79 L99.2095 1473.43 L90.8993 1475.09 L90.8993 1470.83 L99.1632 1469.17 L103.839 1469.17 L103.839 1499.79 L111.478 1499.79 L111.478 1503.73 L91.5706 1503.73 L91.5706 1499.79 Z\" fill=\"#000000\" fill-rule=\"evenodd\" fill-opacity=\"1\" /><path clip-path=\"url(#clip800)\" d=\"M120.922 1497.85 L125.807 1497.85 L125.807 1503.73 L120.922 1503.73 L120.922 1497.85 Z\" fill=\"#000000\" fill-rule=\"evenodd\" fill-opacity=\"1\" /><path clip-path=\"url(#clip800)\" d=\"M145.992 1472.25 Q142.381 1472.25 140.552 1475.81 Q138.746 1479.35 138.746 1486.48 Q138.746 1493.59 140.552 1497.15 Q142.381 1500.7 145.992 1500.7 Q149.626 1500.7 151.431 1497.15 Q153.26 1493.59 153.26 1486.48 Q153.26 1479.35 151.431 1475.81 Q149.626 1472.25 145.992 1472.25 M145.992 1468.54 Q151.802 1468.54 154.857 1473.15 Q157.936 1477.73 157.936 1486.48 Q157.936 1495.21 154.857 1499.82 Q151.802 1504.4 145.992 1504.4 Q140.181 1504.4 137.103 1499.82 Q134.047 1495.21 134.047 1486.48 Q134.047 1477.73 137.103 1473.15 Q140.181 1468.54 145.992 1468.54 Z\" fill=\"#000000\" fill-rule=\"evenodd\" fill-opacity=\"1\" /><path clip-path=\"url(#clip800)\" d=\"M51.9875 1127.1 L81.6633 1127.1 L81.6633 1131.03 L51.9875 1131.03 L51.9875 1127.1 Z\" fill=\"#000000\" fill-rule=\"evenodd\" fill-opacity=\"1\" /><path clip-path=\"url(#clip800)\" d=\"M101.756 1112.45 Q98.1447 1112.45 96.316 1116.01 Q94.5104 1119.55 94.5104 1126.68 Q94.5104 1133.79 96.316 1137.35 Q98.1447 1140.89 101.756 1140.89 Q105.39 1140.89 107.196 1137.35 Q109.024 1133.79 109.024 1126.68 Q109.024 1119.55 107.196 1116.01 Q105.39 1112.45 101.756 1112.45 M101.756 1108.74 Q107.566 1108.74 110.621 1113.35 Q113.7 1117.93 113.7 1126.68 Q113.7 1135.41 110.621 1140.01 Q107.566 1144.6 101.756 1144.6 Q95.9456 1144.6 92.8669 1140.01 Q89.8114 1135.41 89.8114 1126.68 Q89.8114 1117.93 92.8669 1113.35 Q95.9456 1108.74 101.756 1108.74 Z\" fill=\"#000000\" fill-rule=\"evenodd\" fill-opacity=\"1\" /><path clip-path=\"url(#clip800)\" d=\"M121.918 1138.05 L126.802 1138.05 L126.802 1143.93 L121.918 1143.93 L121.918 1138.05 Z\" fill=\"#000000\" fill-rule=\"evenodd\" fill-opacity=\"1\" /><path clip-path=\"url(#clip800)\" d=\"M137.033 1109.37 L155.39 1109.37 L155.39 1113.3 L141.316 1113.3 L141.316 1121.77 Q142.334 1121.43 143.353 1121.27 Q144.371 1121.08 145.39 1121.08 Q151.177 1121.08 154.556 1124.25 Q157.936 1127.42 157.936 1132.84 Q157.936 1138.42 154.464 1141.52 Q150.992 1144.6 144.672 1144.6 Q142.496 1144.6 140.228 1144.23 Q137.982 1143.86 135.575 1143.12 L135.575 1138.42 Q137.658 1139.55 139.881 1140.11 Q142.103 1140.66 144.58 1140.66 Q148.584 1140.66 150.922 1138.56 Q153.26 1136.45 153.26 1132.84 Q153.26 1129.23 150.922 1127.12 Q148.584 1125.01 144.58 1125.01 Q142.705 1125.01 140.83 1125.43 Q138.978 1125.85 137.033 1126.73 L137.033 1109.37 Z\" fill=\"#000000\" fill-rule=\"evenodd\" fill-opacity=\"1\" /><path clip-path=\"url(#clip800)\" d=\"M100.76 752.645 Q97.1493 752.645 95.3206 756.209 Q93.515 759.751 93.515 766.881 Q93.515 773.987 95.3206 777.552 Q97.1493 781.094 100.76 781.094 Q104.395 781.094 106.2 777.552 Q108.029 773.987 108.029 766.881 Q108.029 759.751 106.2 756.209 Q104.395 752.645 100.76 752.645 M100.76 748.941 Q106.571 748.941 109.626 753.547 Q112.705 758.131 112.705 766.881 Q112.705 775.608 109.626 780.214 Q106.571 784.797 100.76 784.797 Q94.9502 784.797 91.8715 780.214 Q88.816 775.608 88.816 766.881 Q88.816 758.131 91.8715 753.547 Q94.9502 748.941 100.76 748.941 Z\" fill=\"#000000\" fill-rule=\"evenodd\" fill-opacity=\"1\" /><path clip-path=\"url(#clip800)\" d=\"M120.922 778.246 L125.807 778.246 L125.807 784.126 L120.922 784.126 L120.922 778.246 Z\" fill=\"#000000\" fill-rule=\"evenodd\" fill-opacity=\"1\" /><path clip-path=\"url(#clip800)\" d=\"M145.992 752.645 Q142.381 752.645 140.552 756.209 Q138.746 759.751 138.746 766.881 Q138.746 773.987 140.552 777.552 Q142.381 781.094 145.992 781.094 Q149.626 781.094 151.431 777.552 Q153.26 773.987 153.26 766.881 Q153.26 759.751 151.431 756.209 Q149.626 752.645 145.992 752.645 M145.992 748.941 Q151.802 748.941 154.857 753.547 Q157.936 758.131 157.936 766.881 Q157.936 775.608 154.857 780.214 Q151.802 784.797 145.992 784.797 Q140.181 784.797 137.103 780.214 Q134.047 775.608 134.047 766.881 Q134.047 758.131 137.103 753.547 Q140.181 748.941 145.992 748.941 Z\" fill=\"#000000\" fill-rule=\"evenodd\" fill-opacity=\"1\" /><path clip-path=\"url(#clip800)\" d=\"M101.756 392.844 Q98.1447 392.844 96.316 396.409 Q94.5104 399.95 94.5104 407.08 Q94.5104 414.186 96.316 417.751 Q98.1447 421.293 101.756 421.293 Q105.39 421.293 107.196 417.751 Q109.024 414.186 109.024 407.08 Q109.024 399.95 107.196 396.409 Q105.39 392.844 101.756 392.844 M101.756 389.14 Q107.566 389.14 110.621 393.746 Q113.7 398.33 113.7 407.08 Q113.7 415.807 110.621 420.413 Q107.566 424.996 101.756 424.996 Q95.9456 424.996 92.8669 420.413 Q89.8114 415.807 89.8114 407.08 Q89.8114 398.33 92.8669 393.746 Q95.9456 389.14 101.756 389.14 Z\" fill=\"#000000\" fill-rule=\"evenodd\" fill-opacity=\"1\" /><path clip-path=\"url(#clip800)\" d=\"M121.918 418.445 L126.802 418.445 L126.802 424.325 L121.918 424.325 L121.918 418.445 Z\" fill=\"#000000\" fill-rule=\"evenodd\" fill-opacity=\"1\" /><path clip-path=\"url(#clip800)\" d=\"M137.033 389.765 L155.39 389.765 L155.39 393.7 L141.316 393.7 L141.316 402.172 Q142.334 401.825 143.353 401.663 Q144.371 401.478 145.39 401.478 Q151.177 401.478 154.556 404.649 Q157.936 407.82 157.936 413.237 Q157.936 418.816 154.464 421.918 Q150.992 424.996 144.672 424.996 Q142.496 424.996 140.228 424.626 Q137.982 424.256 135.575 423.515 L135.575 418.816 Q137.658 419.95 139.881 420.506 Q142.103 421.061 144.58 421.061 Q148.584 421.061 150.922 418.955 Q153.26 416.848 153.26 413.237 Q153.26 409.626 150.922 407.52 Q148.584 405.413 144.58 405.413 Q142.705 405.413 140.83 405.83 Q138.978 406.246 137.033 407.126 L137.033 389.765 Z\" fill=\"#000000\" fill-rule=\"evenodd\" fill-opacity=\"1\" /><path clip-path=\"url(#clip800)\" d=\"M91.5706 60.5889 L99.2095 60.5889 L99.2095 34.2233 L90.8993 35.89 L90.8993 31.6308 L99.1632 29.9641 L103.839 29.9641 L103.839 60.5889 L111.478 60.5889 L111.478 64.5241 L91.5706 64.5241 L91.5706 60.5889 Z\" fill=\"#000000\" fill-rule=\"evenodd\" fill-opacity=\"1\" /><path clip-path=\"url(#clip800)\" d=\"M120.922 58.6445 L125.807 58.6445 L125.807 64.5241 L120.922 64.5241 L120.922 58.6445 Z\" fill=\"#000000\" fill-rule=\"evenodd\" fill-opacity=\"1\" /><path clip-path=\"url(#clip800)\" d=\"M145.992 33.0428 Q142.381 33.0428 140.552 36.6076 Q138.746 40.1492 138.746 47.2788 Q138.746 54.3853 140.552 57.9501 Q142.381 61.4917 145.992 61.4917 Q149.626 61.4917 151.431 57.9501 Q153.26 54.3853 153.26 47.2788 Q153.26 40.1492 151.431 36.6076 Q149.626 33.0428 145.992 33.0428 M145.992 29.3391 Q151.802 29.3391 154.857 33.9456 Q157.936 38.5289 157.936 47.2788 Q157.936 56.0056 154.857 60.6121 Q151.802 65.1954 145.992 65.1954 Q140.181 65.1954 137.103 60.6121 Q134.047 56.0056 134.047 47.2788 Q134.047 38.5289 137.103 33.9456 Q140.181 29.3391 145.992 29.3391 Z\" fill=\"#000000\" fill-rule=\"evenodd\" fill-opacity=\"1\" /><polyline clip-path=\"url(#clip802)\" style=\"stroke:#009af9; stroke-linecap:round; stroke-linejoin:round; stroke-width:4; stroke-opacity:1; fill:none\" points=\"\n  255.035,622.926 257.073,509.589 259.112,606.306 261.151,625.494 263.189,622.908 265.228,620.601 267.267,619.93 269.305,619.604 271.344,619.188 273.383,618.704 \n  275.421,618.212 277.46,617.727 279.499,617.243 281.537,616.757 283.576,616.268 285.615,615.776 287.653,615.282 289.692,614.786 291.731,614.288 293.769,613.788 \n  295.808,613.285 297.847,612.78 299.885,612.273 301.924,611.763 303.963,611.251 306.001,610.737 308.04,610.221 310.079,609.702 312.117,609.181 314.156,608.658 \n  316.195,608.132 318.233,607.604 320.272,607.073 322.31,606.54 324.349,606.005 326.388,605.467 328.426,604.927 330.465,604.384 332.504,603.839 334.542,603.291 \n  336.581,602.741 338.62,602.188 340.658,601.633 342.697,601.076 344.736,600.515 346.774,599.953 348.813,599.387 350.852,598.819 352.89,598.249 354.929,597.675 \n  356.968,597.1 359.006,596.521 361.045,595.94 363.084,595.356 365.122,594.77 367.161,594.181 369.2,593.589 371.238,592.994 373.277,592.397 375.316,591.797 \n  377.354,591.194 379.393,590.589 381.432,589.98 383.47,589.369 385.509,588.755 387.548,588.138 389.586,587.518 391.625,586.896 393.664,586.27 395.702,585.642 \n  397.741,585.011 399.78,584.376 401.818,583.739 403.857,583.099 405.896,582.456 407.934,581.81 409.973,581.161 412.012,580.509 414.05,579.853 416.089,579.195 \n  418.128,578.534 420.166,577.869 422.205,577.202 424.244,576.531 426.282,575.858 428.321,575.181 430.36,574.501 432.398,573.817 434.437,573.131 436.476,572.441 \n  438.514,571.748 440.553,571.052 442.592,570.353 444.63,569.65 446.669,568.944 448.707,568.235 450.746,567.522 452.785,566.806 454.823,566.087 456.862,565.364 \n  458.901,564.638 460.939,563.908 462.978,563.175 465.017,562.439 467.055,561.699 469.094,560.956 471.133,560.209 473.171,559.458 475.21,558.704 477.249,557.947 \n  479.287,557.186 481.326,556.421 483.365,555.653 485.403,554.881 487.442,554.105 489.481,553.326 491.519,552.543 493.558,551.756 495.597,550.966 497.635,550.172 \n  499.674,549.374 501.713,548.572 503.751,547.767 505.79,546.958 507.829,546.145 509.867,545.328 511.906,544.507 513.945,543.682 515.983,542.854 518.022,542.021 \n  520.061,541.185 522.099,540.344 524.138,539.5 526.177,538.652 528.215,537.799 530.254,536.943 532.293,536.082 534.331,535.218 536.37,534.349 538.409,533.476 \n  540.447,532.6 542.486,531.718 544.525,530.833 546.563,529.944 548.602,529.05 550.641,528.152 552.679,527.25 554.718,526.344 556.757,525.433 558.795,524.518 \n  560.834,523.599 562.873,522.675 564.911,521.747 566.95,520.815 568.989,519.878 571.027,518.937 573.066,517.992 575.104,517.041 577.143,516.087 579.182,515.128 \n  581.22,514.164 583.259,513.196 585.298,512.223 587.336,511.246 589.375,510.264 591.414,509.278 593.452,508.287 595.491,507.291 597.53,506.29 599.568,505.285 \n  601.607,504.275 603.646,503.261 605.684,502.241 607.723,501.217 609.762,500.188 611.8,499.155 613.839,498.116 615.878,497.073 617.916,496.025 619.955,494.971 \n  621.994,493.913 624.032,492.85 626.071,491.783 628.11,490.71 630.148,489.632 632.187,488.549 634.226,487.461 636.264,486.368 638.303,485.27 640.342,484.167 \n  642.38,483.059 644.419,481.946 646.458,480.828 648.496,479.704 650.535,478.576 652.574,477.442 654.612,476.303 656.651,475.159 658.69,474.009 660.728,472.855 \n  662.767,471.695 664.806,470.53 666.844,469.359 668.883,468.183 670.922,467.002 672.96,465.816 674.999,464.624 677.038,463.427 679.076,462.224 681.115,461.016 \n  683.154,459.803 685.192,458.584 687.231,457.36 689.27,456.13 691.308,454.895 693.347,453.654 695.385,452.408 697.424,451.156 699.463,449.899 701.501,448.636 \n  703.54,447.368 705.579,446.094 707.617,444.814 709.656,443.529 711.695,442.238 713.733,440.942 715.772,439.64 717.811,438.333 719.849,437.019 721.888,435.701 \n  723.927,434.376 725.965,433.046 728.004,431.71 730.043,430.368 732.081,429.021 734.12,427.668 736.159,426.309 738.197,424.945 740.236,423.575 742.275,422.199 \n  744.313,420.817 746.352,419.43 748.391,418.037 750.429,416.638 752.468,415.233 754.507,413.823 756.545,412.407 758.584,410.985 760.623,409.557 762.661,408.124 \n  764.7,406.685 766.739,405.24 768.777,403.789 770.816,402.333 772.855,400.87 774.893,399.402 776.932,397.928 778.971,396.449 781.009,394.964 783.048,393.472 \n  785.087,391.976 787.125,390.473 789.164,388.965 791.203,387.451 793.241,385.931 795.28,384.406 797.319,382.875 799.357,381.338 801.396,379.795 803.435,378.247 \n  805.473,376.694 807.512,375.134 809.551,373.569 811.589,371.998 813.628,370.422 815.667,368.84 817.705,367.253 819.744,365.66 821.782,364.062 823.821,362.458 \n  825.86,360.848 827.898,359.233 829.937,357.613 831.976,355.987 834.014,354.356 836.053,352.72 838.092,351.078 840.13,349.431 842.169,347.778 844.208,346.121 \n  846.246,344.458 848.285,342.79 850.324,341.117 852.362,339.438 854.401,337.755 856.44,336.066 858.478,334.373 860.517,332.675 862.556,330.971 864.594,329.263 \n  866.633,327.55 868.672,325.832 870.71,324.109 872.749,322.382 874.788,320.65 876.826,318.914 878.865,317.172 880.904,315.427 882.942,313.677 884.981,311.922 \n  887.02,310.163 889.058,308.4 891.097,306.633 893.136,304.861 895.174,303.085 897.213,301.306 899.252,299.522 901.29,297.734 903.329,295.943 905.368,294.148 \n  907.406,292.349 909.445,290.546 911.484,288.74 913.522,286.93 915.561,285.117 917.6,283.301 919.638,281.481 921.677,279.659 923.716,277.833 925.754,276.004 \n  927.793,274.172 929.832,272.337 931.87,270.5 933.909,268.66 935.948,266.818 937.986,264.973 940.025,263.125 942.064,261.276 944.102,259.424 946.141,257.57 \n  948.179,255.714 950.218,253.856 952.257,251.997 954.295,250.136 956.334,248.273 958.373,246.409 960.411,244.544 962.45,242.678 964.489,240.81 966.527,238.942 \n  968.566,237.073 970.605,235.203 972.643,233.332 974.682,231.461 976.721,229.59 978.759,227.719 980.798,225.847 982.837,223.976 984.875,222.105 986.914,220.234 \n  988.953,218.364 990.991,216.494 993.03,214.625 995.069,212.758 997.107,210.891 999.146,209.025 1001.18,207.161 1003.22,205.299 1005.26,203.438 1007.3,201.579 \n  1009.34,199.722 1011.38,197.867 1013.42,196.015 1015.46,194.165 1017.49,192.318 1019.53,190.473 1021.57,188.632 1023.61,186.794 1025.65,184.959 1027.69,183.128 \n  1029.73,181.3 1031.76,179.476 1033.8,177.657 1035.84,175.841 1037.88,174.03 1039.92,172.224 1041.96,170.423 1044,168.626 1046.04,166.835 1048.07,165.049 \n  1050.11,163.269 1052.15,161.494 1054.19,159.726 1056.23,157.963 1058.27,156.207 1060.31,154.457 1062.34,152.715 1064.38,150.979 1066.42,149.25 1068.46,147.529 \n  1070.5,145.815 1072.54,144.109 1074.58,142.411 1076.62,140.721 1078.65,139.04 1080.69,137.367 1082.73,135.703 1084.77,134.048 1086.81,132.402 1088.85,130.766 \n  1090.89,129.139 1092.92,127.522 1094.96,125.915 1097,124.319 1099.04,122.733 1101.08,121.158 1103.12,119.594 1105.16,118.041 1107.2,116.499 1109.23,114.969 \n  1111.27,113.45 1113.31,111.944 1115.35,110.45 1117.39,108.969 1119.43,107.5 1121.47,106.044 1123.5,104.601 1125.54,103.171 1127.58,101.755 1129.62,100.353 \n  1131.66,98.9641 1133.7,97.5898 1135.74,96.23 1137.77,94.8847 1139.81,93.5541 1141.85,92.2386 1143.89,90.9383 1145.93,89.6534 1147.97,88.3842 1150.01,87.1307 \n  1152.05,85.8933 1154.08,84.6721 1156.12,83.4673 1158.16,82.2791 1160.2,81.1077 1162.24,79.9534 1164.28,78.8163 1166.32,77.6965 1168.35,76.5943 1170.39,75.5099 \n  1172.43,74.4434 1174.47,73.3951 1176.51,72.3651 1178.55,71.3536 1180.59,70.3607 1182.63,69.3867 1184.66,68.4317 1186.7,67.4958 1188.74,66.5793 1190.78,65.6823 \n  1192.82,64.805 1194.86,63.9475 1196.9,63.1099 1198.93,62.2925 1200.97,61.4953 1203.01,60.7186 1205.05,59.9624 1207.09,59.2268 1209.13,58.5122 1211.17,57.8184 \n  1213.21,57.1458 1215.24,56.4943 1217.28,55.8642 1219.32,55.2556 1221.36,54.6685 1223.4,54.103 1225.44,53.5593 1227.48,53.0375 1229.51,52.5377 1231.55,52.06 \n  1233.59,51.6044 1235.63,51.171 1237.67,50.76 1239.71,50.3713 1241.75,50.0052 1243.79,49.6616 1245.82,49.3406 1247.86,49.0422 1249.9,48.7666 1251.94,48.5138 \n  1253.98,48.2838 1256.02,48.0767 1258.06,47.8925 1260.09,47.7312 1262.13,47.5929 1264.17,47.4777 1266.21,47.3854 1268.25,47.3162 1270.29,47.2701 1272.33,47.247 \n  1274.37,47.247 1276.4,47.2701 1278.44,47.3162 1280.48,47.3854 1282.52,47.4777 1284.56,47.5929 1286.6,47.7312 1288.64,47.8925 1290.67,48.0767 1292.71,48.2838 \n  1294.75,48.5138 1296.79,48.7666 1298.83,49.0422 1300.87,49.3405 1302.91,49.6616 1304.95,50.0052 1306.98,50.3713 1309.02,50.76 1311.06,51.171 1313.1,51.6044 \n  1315.14,52.06 1317.18,52.5377 1319.22,53.0375 1321.25,53.5593 1323.29,54.103 1325.33,54.6684 1327.37,55.2556 1329.41,55.8642 1331.45,56.4943 1333.49,57.1458 \n  1335.53,57.8184 1337.56,58.5121 1339.6,59.2268 1341.64,59.9623 1343.68,60.7185 1345.72,61.4953 1347.76,62.2925 1349.8,63.1099 1351.83,63.9474 1353.87,64.805 \n  1355.91,65.6823 1357.95,66.5793 1359.99,67.4958 1362.03,68.4317 1364.07,69.3867 1366.11,70.3607 1368.14,71.3536 1370.18,72.3651 1372.22,73.3951 1374.26,74.4434 \n  1376.3,75.5099 1378.34,76.5943 1380.38,77.6965 1382.41,78.8162 1384.45,79.9534 1386.49,81.1077 1388.53,82.2791 1390.57,83.4673 1392.61,84.672 1394.65,85.8933 \n  1396.68,87.1307 1398.72,88.3841 1400.76,89.6534 1402.8,90.9383 1404.84,92.2386 1406.88,93.5541 1408.92,94.8846 1410.96,96.2299 1412.99,97.5898 1415.03,98.9641 \n  1417.07,100.353 1419.11,101.755 1421.15,103.171 1423.19,104.601 1425.23,106.044 1427.26,107.5 1429.3,108.969 1431.34,110.45 1433.38,111.944 1435.42,113.45 \n  1437.46,114.969 1439.5,116.499 1441.54,118.041 1443.57,119.594 1445.61,121.158 1447.65,122.733 1449.69,124.319 1451.73,125.915 1453.77,127.522 1455.81,129.139 \n  1457.84,130.766 1459.88,132.402 1461.92,134.048 1463.96,135.703 1466,137.367 1468.04,139.04 1470.08,140.721 1472.12,142.411 1474.15,144.109 1476.19,145.815 \n  1478.23,147.529 1480.27,149.25 1482.31,150.979 1484.35,152.715 1486.39,154.457 1488.42,156.207 1490.46,157.963 1492.5,159.726 1494.54,161.494 1496.58,163.269 \n  1498.62,165.049 1500.66,166.835 1502.7,168.626 1504.73,170.423 1506.77,172.224 1508.81,174.03 1510.85,175.841 1512.89,177.657 1514.93,179.476 1516.97,181.3 \n  1519,183.128 1521.04,184.959 1523.08,186.794 1525.12,188.632 1527.16,190.473 1529.2,192.318 1531.24,194.165 1533.28,196.015 1535.31,197.867 1537.35,199.722 \n  1539.39,201.579 1541.43,203.438 1543.47,205.299 1545.51,207.161 1547.55,209.025 1549.58,210.891 1551.62,212.758 1553.66,214.625 1555.7,216.494 1557.74,218.364 \n  1559.78,220.234 1561.82,222.105 1563.86,223.976 1565.89,225.847 1567.93,227.719 1569.97,229.59 1572.01,231.461 1574.05,233.332 1576.09,235.203 1578.13,237.073 \n  1580.16,238.942 1582.2,240.81 1584.24,242.678 1586.28,244.544 1588.32,246.409 1590.36,248.273 1592.4,250.136 1594.44,251.997 1596.47,253.856 1598.51,255.714 \n  1600.55,257.57 1602.59,259.424 1604.63,261.275 1606.67,263.125 1608.71,264.973 1610.74,266.818 1612.78,268.66 1614.82,270.5 1616.86,272.337 1618.9,274.172 \n  1620.94,276.004 1622.98,277.833 1625.02,279.659 1627.05,281.481 1629.09,283.301 1631.13,285.117 1633.17,286.93 1635.21,288.74 1637.25,290.546 1639.29,292.349 \n  1641.32,294.148 1643.36,295.943 1645.4,297.734 1647.44,299.522 1649.48,301.306 1651.52,303.085 1653.56,304.861 1655.59,306.633 1657.63,308.4 1659.67,310.163 \n  1661.71,311.922 1663.75,313.677 1665.79,315.427 1667.83,317.172 1669.87,318.914 1671.9,320.65 1673.94,322.382 1675.98,324.109 1678.02,325.832 1680.06,327.55 \n  1682.1,329.263 1684.14,330.971 1686.17,332.675 1688.21,334.373 1690.25,336.066 1692.29,337.755 1694.33,339.438 1696.37,341.117 1698.41,342.79 1700.45,344.458 \n  1702.48,346.121 1704.52,347.778 1706.56,349.431 1708.6,351.078 1710.64,352.72 1712.68,354.356 1714.72,355.987 1716.75,357.613 1718.79,359.233 1720.83,360.848 \n  1722.87,362.458 1724.91,364.062 1726.95,365.66 1728.99,367.253 1731.03,368.84 1733.06,370.422 1735.1,371.998 1737.14,373.569 1739.18,375.134 1741.22,376.693 \n  1743.26,378.247 1745.3,379.795 1747.33,381.338 1749.37,382.875 1751.41,384.406 1753.45,385.931 1755.49,387.451 1757.53,388.965 1759.57,390.473 1761.61,391.976 \n  1763.64,393.472 1765.68,394.963 1767.72,396.449 1769.76,397.928 1771.8,399.402 1773.84,400.87 1775.88,402.332 1777.91,403.789 1779.95,405.24 1781.99,406.685 \n  1784.03,408.124 1786.07,409.557 1788.11,410.985 1790.15,412.407 1792.19,413.823 1794.22,415.233 1796.26,416.638 1798.3,418.037 1800.34,419.43 1802.38,420.817 \n  1804.42,422.199 1806.46,423.575 1808.49,424.945 1810.53,426.309 1812.57,427.668 1814.61,429.021 1816.65,430.368 1818.69,431.71 1820.73,433.046 1822.77,434.376 \n  1824.8,435.701 1826.84,437.019 1828.88,438.333 1830.92,439.64 1832.96,440.942 1835,442.238 1837.04,443.529 1839.07,444.814 1841.11,446.094 1843.15,447.368 \n  1845.19,448.636 1847.23,449.899 1849.27,451.156 1851.31,452.408 1853.35,453.654 1855.38,454.895 1857.42,456.13 1859.46,457.36 1861.5,458.584 1863.54,459.803 \n  1865.58,461.016 1867.62,462.224 1869.65,463.427 1871.69,464.624 1873.73,465.816 1875.77,467.002 1877.81,468.183 1879.85,469.359 1881.89,470.53 1883.92,471.695 \n  1885.96,472.855 1888,474.009 1890.04,475.159 1892.08,476.303 1894.12,477.442 1896.16,478.576 1898.2,479.704 1900.23,480.828 1902.27,481.946 1904.31,483.059 \n  1906.35,484.167 1908.39,485.27 1910.43,486.368 1912.47,487.461 1914.5,488.549 1916.54,489.632 1918.58,490.71 1920.62,491.783 1922.66,492.85 1924.7,493.913 \n  1926.74,494.971 1928.78,496.025 1930.81,497.073 1932.85,498.116 1934.89,499.155 1936.93,500.188 1938.97,501.217 1941.01,502.241 1943.05,503.261 1945.08,504.275 \n  1947.12,505.285 1949.16,506.29 1951.2,507.291 1953.24,508.287 1955.28,509.278 1957.32,510.264 1959.36,511.246 1961.39,512.223 1963.43,513.196 1965.47,514.164 \n  1967.51,515.128 1969.55,516.087 1971.59,517.041 1973.63,517.992 1975.66,518.937 1977.7,519.878 1979.74,520.815 1981.78,521.747 1983.82,522.675 1985.86,523.599 \n  1987.9,524.518 1989.94,525.433 1991.97,526.344 1994.01,527.25 1996.05,528.152 1998.09,529.05 2000.13,529.944 2002.17,530.833 2004.21,531.718 2006.24,532.6 \n  2008.28,533.476 2010.32,534.349 2012.36,535.218 2014.4,536.082 2016.44,536.943 2018.48,537.799 2020.52,538.652 2022.55,539.5 2024.59,540.344 2026.63,541.185 \n  2028.67,542.021 2030.71,542.854 2032.75,543.682 2034.79,544.507 2036.82,545.328 2038.86,546.145 2040.9,546.958 2042.94,547.767 2044.98,548.572 2047.02,549.374 \n  2049.06,550.172 2051.1,550.966 2053.13,551.756 2055.17,552.543 2057.21,553.326 2059.25,554.105 2061.29,554.881 2063.33,555.653 2065.37,556.421 2067.4,557.186 \n  2069.44,557.947 2071.48,558.704 2073.52,559.458 2075.56,560.209 2077.6,560.956 2079.64,561.699 2081.68,562.439 2083.71,563.175 2085.75,563.908 2087.79,564.638 \n  2089.83,565.364 2091.87,566.087 2093.91,566.806 2095.95,567.522 2097.98,568.235 2100.02,568.944 2102.06,569.65 2104.1,570.353 2106.14,571.052 2108.18,571.748 \n  2110.22,572.441 2112.26,573.131 2114.29,573.817 2116.33,574.501 2118.37,575.181 2120.41,575.858 2122.45,576.531 2124.49,577.202 2126.53,577.869 2128.56,578.534 \n  2130.6,579.195 2132.64,579.853 2134.68,580.509 2136.72,581.161 2138.76,581.81 2140.8,582.456 2142.83,583.099 2144.87,583.739 2146.91,584.376 2148.95,585.011 \n  2150.99,585.642 2153.03,586.27 2155.07,586.896 2157.11,587.518 2159.14,588.138 2161.18,588.755 2163.22,589.369 2165.26,589.98 2167.3,590.589 2169.34,591.194 \n  2171.38,591.797 2173.41,592.397 2175.45,592.995 2177.49,593.589 2179.53,594.181 2181.57,594.77 2183.61,595.357 2185.65,595.94 2187.69,596.521 2189.72,597.1 \n  2191.76,597.676 2193.8,598.249 2195.84,598.819 2197.88,599.387 2199.92,599.953 2201.96,600.515 2203.99,601.076 2206.03,601.633 2208.07,602.188 2210.11,602.741 \n  2212.15,603.291 2214.19,603.839 2216.23,604.384 2218.27,604.927 2220.3,605.467 2222.34,606.005 2224.38,606.54 2226.42,607.073 2228.46,607.604 2230.5,608.132 \n  2232.54,608.658 2234.57,609.181 2236.61,609.702 2238.65,610.221 2240.69,610.737 2242.73,611.251 2244.77,611.763 2246.81,612.273 2248.85,612.78 2250.88,613.285 \n  2252.92,613.787 2254.96,614.288 2257,614.786 2259.04,615.282 2261.08,615.776 2263.12,616.267 2265.15,616.757 2267.19,617.245 2269.23,617.73 2271.27,618.212 \n  2273.31,618.687 2275.35,619.164 2277.39,619.668 2279.43,620.21 2281.46,620.592 2283.5,620.251 2285.54,619.795 2287.58,628.871 2289.62,671.894 2291.66,622.926 \n  \n  \"/>\n<polyline clip-path=\"url(#clip802)\" style=\"stroke:#e26f46; stroke-linecap:round; stroke-linejoin:round; stroke-width:4; stroke-opacity:1; fill:none\" points=\"\n  255.035,739.088 257.073,-4.1943e+06 259.112,-1.30181e+06 261.151,323448 263.189,148014 265.228,1181.8 267.267,-14035.1 269.305,-2568.32 271.344,1948.48 273.383,1547.34 \n  275.421,741.927 277.46,578.643 279.499,685.41 281.537,757.607 283.576,758.511 285.615,739.069 287.653,731.033 289.692,733.13 291.731,736.928 293.769,737.549 \n  295.808,736.346 297.847,734.683 299.885,733.908 301.924,733.95 303.963,733.692 306.001,733.485 308.04,733.461 310.079,733.605 312.117,734.723 314.156,735.648 \n  316.195,736.555 318.233,736.844 320.272,736.711 322.31,735.854 324.349,734.835 326.388,733.802 328.426,732.992 330.465,732.662 332.504,732.661 334.542,733.027 \n  336.581,733.48 338.62,733.932 340.658,734.225 342.697,734.301 344.736,734.079 346.774,733.668 348.813,733.166 350.852,732.57 352.89,732 354.929,731.468 \n  356.968,731.051 359.006,730.725 361.045,730.521 363.084,730.368 365.122,730.317 367.161,730.277 369.2,730.273 371.238,730.266 373.277,730.259 375.316,730.225 \n  377.354,730.185 379.393,730.112 381.432,730.028 383.47,729.925 385.509,729.81 387.548,729.689 389.586,729.561 391.625,729.43 393.664,729.304 395.702,729.179 \n  397.741,729.061 399.78,728.946 401.818,728.832 403.857,728.723 405.896,728.606 407.934,728.482 409.973,728.34 412.012,728.181 414.05,727.998 416.089,727.791 \n  418.128,727.559 420.166,727.302 422.205,727.021 424.244,726.724 426.282,726.415 428.321,726.1 430.36,725.79 432.398,725.488 434.437,725.202 436.476,724.94 \n  438.514,724.703 440.553,724.497 442.592,724.322 444.63,724.175 446.669,724.056 448.707,723.961 450.746,723.883 452.785,723.816 454.823,723.754 456.862,723.689 \n  458.901,723.616 460.939,723.526 462.978,723.417 465.017,723.283 467.055,723.121 469.094,722.93 471.133,722.711 473.171,722.463 475.21,722.19 477.249,721.895 \n  479.287,721.581 481.326,721.254 483.365,720.917 485.403,720.577 487.442,720.237 489.481,719.901 491.519,719.574 493.558,719.257 495.597,718.954 497.635,718.665 \n  499.674,718.391 501.713,718.132 503.751,717.886 505.79,717.652 507.829,717.427 509.867,717.21 511.906,716.997 513.945,716.786 515.983,716.574 518.022,716.357 \n  520.061,716.134 522.099,715.902 524.138,715.66 526.177,715.406 528.215,715.14 530.254,714.86 532.293,714.568 534.331,714.262 536.37,713.945 538.409,713.617 \n  540.447,713.28 542.486,712.935 544.525,712.583 546.563,712.227 548.602,711.867 550.641,711.506 552.679,711.145 554.718,710.784 556.757,710.425 558.795,710.068 \n  560.834,709.715 562.873,709.364 564.911,709.016 566.95,708.671 568.989,708.328 571.027,707.986 573.066,707.645 575.104,707.304 577.143,706.961 579.182,706.615 \n  581.22,706.266 583.259,705.913 585.298,705.553 587.336,705.188 589.375,704.815 591.414,704.435 593.452,704.048 595.491,703.652 597.53,703.247 599.568,702.835 \n  601.607,702.416 603.646,701.989 605.684,701.556 607.723,701.117 609.762,700.673 611.8,700.225 613.839,699.775 615.878,699.322 617.916,698.869 619.955,698.416 \n  621.994,697.964 624.032,697.514 626.071,697.068 628.11,696.624 630.148,696.185 632.187,695.751 634.226,695.322 636.264,694.898 638.303,694.48 640.342,694.067 \n  642.38,693.66 644.419,693.257 646.458,692.859 648.496,692.465 650.535,692.074 652.574,691.686 654.612,691.3 656.651,690.916 658.69,690.532 660.728,690.148 \n  662.767,689.762 664.806,689.375 666.844,688.985 668.883,688.592 670.922,688.194 672.96,687.792 674.999,687.385 677.038,686.972 679.076,686.553 681.115,686.127 \n  683.154,685.695 685.192,685.256 687.231,684.81 689.27,684.357 691.308,683.897 693.347,683.43 695.385,682.956 697.424,682.475 699.463,681.989 701.501,681.496 \n  703.54,680.997 705.579,680.493 707.617,679.983 709.656,679.468 711.695,678.949 713.733,678.424 715.772,677.896 717.811,677.363 719.849,676.826 721.888,676.284 \n  723.927,675.739 725.965,675.189 728.004,674.636 730.043,674.077 732.081,673.515 734.12,672.948 736.159,672.376 738.197,671.799 740.236,671.216 742.275,670.627 \n  744.313,670.032 746.352,669.431 748.391,668.823 750.429,668.207 752.468,667.583 754.507,666.951 756.545,666.31 758.584,665.661 760.623,665.002 762.661,664.333 \n  764.7,663.654 766.739,662.966 768.777,662.266 770.816,661.556 772.855,660.835 774.893,660.103 776.932,659.361 778.971,658.607 781.009,657.842 783.048,657.066 \n  785.087,656.28 787.125,655.483 789.164,654.675 791.203,653.858 793.241,653.03 795.28,652.193 797.319,651.346 799.357,650.491 801.396,649.626 803.435,648.754 \n  805.473,647.873 807.512,646.985 809.551,646.089 811.589,645.187 813.628,644.277 815.667,643.362 817.705,642.44 819.744,641.513 821.782,640.579 823.821,639.641 \n  825.86,638.697 827.898,637.747 829.937,636.793 831.976,635.833 834.014,634.869 836.053,633.899 838.092,632.923 840.13,631.942 842.169,630.956 844.208,629.963 \n  846.246,628.964 848.285,627.959 850.324,626.947 852.362,625.927 854.401,624.899 856.44,623.863 858.478,622.819 860.517,621.765 862.556,620.701 864.594,619.626 \n  866.633,618.541 868.672,617.445 870.71,616.336 872.749,615.214 874.788,614.079 876.826,612.93 878.865,611.767 880.904,610.588 882.942,609.394 884.981,608.184 \n  887.02,606.957 889.058,605.712 891.097,604.45 893.136,603.17 895.174,601.871 897.213,600.554 899.252,599.216 901.29,597.859 903.329,596.482 905.368,595.084 \n  907.406,593.666 909.445,592.226 911.484,590.766 913.522,589.284 915.561,587.78 917.6,586.255 919.638,584.708 921.677,583.139 923.716,581.548 925.754,579.935 \n  927.793,578.3 929.832,576.643 931.87,574.964 933.909,573.262 935.948,571.539 937.986,569.793 940.025,568.025 942.064,566.235 944.102,564.422 946.141,562.588 \n  948.179,560.732 950.218,558.853 952.257,556.952 954.295,555.029 956.334,553.084 958.373,551.117 960.411,549.128 962.45,547.116 964.489,545.082 966.527,543.025 \n  968.566,540.946 970.605,538.844 972.643,536.719 974.682,534.571 976.721,532.4 978.759,530.206 980.798,527.987 982.837,525.745 984.875,523.479 986.914,521.188 \n  988.953,518.873 990.991,516.532 993.03,514.166 995.069,511.775 997.107,509.357 999.146,506.913 1001.18,504.442 1003.22,501.944 1005.26,499.419 1007.3,496.866 \n  1009.34,494.284 1011.38,491.674 1013.42,489.035 1015.46,486.366 1017.49,483.668 1019.53,480.939 1021.57,478.18 1023.61,475.389 1025.65,472.567 1027.69,469.714 \n  1029.73,466.828 1031.76,463.91 1033.8,460.959 1035.84,457.975 1037.88,454.958 1039.92,451.907 1041.96,448.822 1044,445.702 1046.04,442.548 1048.07,439.36 \n  1050.11,436.136 1052.15,432.877 1054.19,429.583 1056.23,426.253 1058.27,422.888 1060.31,419.487 1062.34,416.05 1064.38,412.577 1066.42,409.068 1068.46,405.523 \n  1070.5,401.943 1072.54,398.326 1074.58,394.673 1076.62,390.985 1078.65,387.261 1080.69,383.501 1082.73,379.706 1084.77,375.876 1086.81,372.011 1088.85,368.111 \n  1090.89,364.176 1092.92,360.208 1094.96,356.205 1097,352.169 1099.04,348.1 1101.08,343.999 1103.12,339.865 1105.16,335.7 1107.2,331.504 1109.23,327.277 \n  1111.27,323.021 1113.31,318.735 1115.35,314.422 1117.39,310.08 1119.43,305.712 1121.47,301.319 1123.5,296.9 1125.54,292.458 1127.58,287.992 1129.62,283.506 \n  1131.66,278.998 1133.7,274.472 1135.74,269.927 1137.77,265.366 1139.81,260.79 1141.85,256.2 1143.89,251.598 1145.93,246.985 1147.97,242.364 1150.01,237.736 \n  1152.05,233.103 1154.08,228.467 1156.12,223.83 1158.16,219.194 1160.2,214.561 1162.24,209.934 1164.28,205.314 1166.32,200.705 1168.35,196.108 1170.39,191.526 \n  1172.43,186.963 1174.47,182.419 1176.51,177.899 1178.55,173.405 1180.59,168.94 1182.63,164.507 1184.66,160.109 1186.7,155.749 1188.74,151.43 1190.78,147.156 \n  1192.82,142.928 1194.86,138.752 1196.9,134.629 1198.93,130.564 1200.97,126.56 1203.01,122.619 1205.05,118.746 1207.09,114.943 1209.13,111.215 1211.17,107.564 \n  1213.21,103.993 1215.24,100.507 1217.28,97.1084 1219.32,93.8003 1221.36,90.5862 1223.4,87.4691 1225.44,84.4523 1227.48,81.5388 1229.51,78.7315 1231.55,76.0336 \n  1233.59,73.4477 1235.63,70.9767 1237.67,68.6232 1239.71,66.3898 1241.75,64.2789 1243.79,62.293 1245.82,60.4341 1247.86,58.7045 1249.9,57.106 1251.94,55.6405 \n  1253.98,54.3098 1256.02,53.1153 1258.06,52.0585 1260.09,51.1405 1262.13,50.3625 1264.17,49.7254 1266.21,49.23 1268.25,48.8769 1270.29,48.6664 1272.33,48.599 \n  1274.37,48.6746 1276.4,48.8932 1278.44,49.2546 1280.48,49.7583 1282.52,50.4038 1284.56,51.1904 1286.6,52.1171 1288.64,53.1829 1290.67,54.3865 1292.71,55.7266 \n  1294.75,57.2017 1296.79,58.8101 1298.83,60.5499 1300.87,62.4192 1302.91,64.4159 1304.95,66.5379 1306.98,68.7826 1309.02,71.1478 1311.06,73.6308 1313.1,76.229 \n  1315.14,78.9396 1317.18,81.7597 1319.22,84.6864 1321.25,87.7167 1323.29,90.8475 1325.33,94.0756 1327.37,97.398 1329.41,100.811 1331.45,104.312 1333.49,107.897 \n  1335.53,111.564 1337.56,115.307 1339.6,119.126 1341.64,123.015 1343.68,126.971 1345.72,130.992 1347.76,135.073 1349.8,139.212 1351.83,143.406 1353.87,147.65 \n  1355.91,151.942 1357.95,156.279 1359.99,160.657 1362.03,165.073 1364.07,169.525 1366.11,174.009 1368.14,178.522 1370.18,183.062 1372.22,187.626 1374.26,192.211 \n  1376.3,196.815 1378.34,201.435 1380.38,206.068 1382.41,210.712 1384.45,215.365 1386.49,220.024 1388.53,224.688 1390.57,229.354 1392.61,234.02 1394.65,238.685 \n  1396.68,243.346 1398.72,248.001 1400.76,252.649 1402.8,257.289 1404.84,261.918 1406.88,266.535 1408.92,271.138 1410.96,275.727 1412.99,280.3 1415.03,284.855 \n  1417.07,289.391 1419.11,293.908 1421.15,298.404 1423.19,302.877 1425.23,307.328 1427.26,311.754 1429.3,316.156 1431.34,320.531 1433.38,324.88 1435.42,329.201 \n  1437.46,333.494 1439.5,337.757 1441.54,341.991 1443.57,346.194 1445.61,350.366 1447.65,354.507 1449.69,358.614 1451.73,362.689 1453.77,366.731 1455.81,370.738 \n  1457.84,374.711 1459.88,378.649 1461.92,382.552 1463.96,386.419 1466,390.25 1468.04,394.045 1470.08,397.802 1472.12,401.523 1474.15,405.207 1476.19,408.853 \n  1478.23,412.462 1480.27,416.032 1482.31,419.565 1484.35,423.06 1486.39,426.516 1488.42,429.935 1490.46,433.315 1492.5,436.658 1494.54,439.962 1496.58,443.229 \n  1498.62,446.458 1500.66,449.649 1502.7,452.803 1504.73,455.919 1506.77,458.999 1508.81,462.042 1510.85,465.049 1512.89,468.02 1514.93,470.955 1516.97,473.856 \n  1519,476.721 1521.04,479.552 1523.08,482.35 1525.12,485.114 1527.16,487.845 1529.2,490.543 1531.24,493.21 1533.28,495.846 1535.31,498.451 1537.35,501.026 \n  1539.39,503.571 1541.43,506.087 1543.47,508.574 1545.51,511.034 1547.55,513.466 1549.58,515.871 1551.62,518.25 1553.66,520.603 1555.7,522.93 1557.74,525.233 \n  1559.78,527.511 1561.82,529.765 1563.86,531.996 1565.89,534.204 1567.93,536.388 1569.97,538.551 1572.01,540.691 1574.05,542.81 1576.09,544.907 1578.13,546.983 \n  1580.16,549.038 1582.2,551.072 1584.24,553.085 1586.28,555.079 1588.32,557.052 1590.36,559.004 1592.4,560.937 1594.44,562.85 1596.47,564.743 1598.51,566.617 \n  1600.55,568.47 1602.59,570.304 1604.63,572.118 1606.67,573.913 1608.71,575.688 1610.74,577.443 1612.78,579.179 1614.82,580.895 1616.86,582.591 1618.9,584.268 \n  1620.94,585.926 1622.98,587.564 1625.02,589.182 1627.05,590.781 1629.09,592.361 1631.13,593.922 1633.17,595.463 1635.21,596.985 1637.25,598.489 1639.29,599.973 \n  1641.32,601.439 1643.36,602.887 1645.4,604.316 1647.44,605.727 1649.48,607.121 1651.52,608.497 1653.56,609.856 1655.59,611.197 1657.63,612.522 1659.67,613.83 \n  1661.71,615.123 1663.75,616.399 1665.79,617.659 1667.83,618.905 1669.87,620.135 1671.9,621.351 1673.94,622.553 1675.98,623.74 1678.02,624.914 1680.06,626.074 \n  1682.1,627.221 1684.14,628.355 1686.17,629.477 1688.21,630.586 1690.25,631.683 1692.29,632.768 1694.33,633.841 1696.37,634.903 1698.41,635.953 1700.45,636.992 \n  1702.48,638.02 1704.52,639.037 1706.56,640.043 1708.6,641.038 1710.64,642.022 1712.68,642.996 1714.72,643.959 1716.75,644.911 1718.79,645.853 1720.83,646.784 \n  1722.87,647.704 1724.91,648.614 1726.95,649.514 1728.99,650.402 1731.03,651.28 1733.06,652.148 1735.1,653.005 1737.14,653.852 1739.18,654.688 1741.22,655.513 \n  1743.26,656.328 1745.3,657.133 1747.33,657.927 1749.37,658.711 1751.41,659.486 1753.45,660.25 1755.49,661.004 1757.53,661.749 1759.57,662.484 1761.61,663.21 \n  1763.64,663.927 1765.68,664.635 1767.72,665.335 1769.76,666.026 1771.8,666.709 1773.84,667.384 1775.88,668.052 1777.91,668.712 1779.95,669.365 1781.99,670.012 \n  1784.03,670.652 1786.07,671.285 1788.11,671.913 1790.15,672.534 1792.19,673.151 1794.22,673.762 1796.26,674.367 1798.3,674.968 1800.34,675.564 1802.38,676.155 \n  1804.42,676.741 1806.46,677.323 1808.49,677.9 1810.53,678.473 1812.57,679.041 1814.61,679.605 1816.65,680.164 1818.69,680.718 1820.73,681.267 1822.77,681.812 \n  1824.8,682.351 1826.84,682.885 1828.88,683.414 1830.92,683.937 1832.96,684.454 1835,684.966 1837.04,685.471 1839.07,685.969 1841.11,686.461 1843.15,686.947 \n  1845.19,687.425 1847.23,687.896 1849.27,688.36 1851.31,688.817 1853.35,689.266 1855.38,689.709 1857.42,690.143 1859.46,690.57 1861.5,690.99 1863.54,691.403 \n  1865.58,691.809 1867.62,692.207 1869.65,692.599 1871.69,692.985 1873.73,693.365 1875.77,693.738 1877.81,694.107 1879.85,694.47 1881.89,694.829 1883.92,695.183 \n  1885.96,695.534 1888,695.881 1890.04,696.226 1892.08,696.569 1894.12,696.909 1896.16,697.248 1898.2,697.586 1900.23,697.924 1902.27,698.261 1904.31,698.599 \n  1906.35,698.937 1908.39,699.276 1910.43,699.617 1912.47,699.958 1914.5,700.301 1916.54,700.645 1918.58,700.991 1920.62,701.338 1922.66,701.686 1924.7,702.036 \n  1926.74,702.387 1928.78,702.739 1930.81,703.092 1932.85,703.445 1934.89,703.799 1936.93,704.152 1938.97,704.506 1941.01,704.858 1943.05,705.211 1945.08,705.562 \n  1947.12,705.912 1949.16,706.261 1951.2,706.61 1953.24,706.957 1955.28,707.303 1957.32,707.649 1959.36,707.994 1961.39,708.34 1963.43,708.686 1965.47,709.033 \n  1967.51,709.382 1969.55,709.733 1971.59,710.087 1973.63,710.445 1975.66,710.807 1977.7,711.175 1979.74,711.549 1981.78,711.929 1983.82,712.315 1985.86,712.709 \n  1987.9,713.111 1989.94,713.52 1991.97,713.937 1994.01,714.36 1996.05,714.79 1998.09,715.226 2000.13,715.667 2002.17,716.112 2004.21,716.558 2006.24,717.006 \n  2008.28,717.452 2010.32,717.895 2012.36,718.334 2014.4,718.765 2016.44,719.188 2018.48,719.6 2020.52,720 2022.55,720.386 2024.59,720.757 2026.63,721.111 \n  2028.67,721.447 2030.71,721.767 2032.75,722.068 2034.79,722.352 2036.82,722.62 2038.86,722.873 2040.9,723.111 2042.94,723.337 2044.98,723.553 2047.02,723.761 \n  2049.06,723.963 2051.1,724.161 2053.13,724.358 2055.17,724.556 2057.21,724.755 2059.25,724.958 2061.29,725.166 2063.33,725.378 2065.37,725.595 2067.4,725.816 \n  2069.44,726.041 2071.48,726.266 2073.52,726.492 2075.56,726.715 2077.6,726.932 2079.64,727.142 2081.68,727.341 2083.71,727.528 2085.75,727.7 2087.79,727.855 \n  2089.83,727.991 2091.87,728.109 2093.91,728.207 2095.95,728.286 2097.98,728.347 2100.02,728.389 2102.06,728.417 2104.1,728.43 2106.14,728.431 2108.18,728.422 \n  2110.22,728.408 2112.26,728.388 2114.29,728.365 2116.33,728.343 2118.37,728.324 2120.41,728.307 2122.45,728.3 2124.49,728.301 2126.53,728.312 2128.56,728.337 \n  2130.6,728.372 2132.64,728.422 2134.68,728.486 2136.72,728.561 2138.76,728.643 2140.8,728.731 2142.83,728.814 2144.87,728.886 2146.91,728.941 2148.95,728.967 \n  2150.99,728.953 2153.03,728.904 2155.07,728.798 2157.11,728.654 2159.14,728.464 2161.18,728.242 2163.22,728.01 2165.26,727.789 2167.3,727.597 2169.34,727.48 \n  2171.38,727.426 2173.41,727.503 2175.45,727.689 2177.49,728.005 2179.53,728.419 2181.57,728.932 2183.61,729.459 2185.65,729.981 2187.69,730.481 2189.72,730.872 \n  2191.76,731.176 2193.8,731.381 2195.84,731.444 2197.88,731.473 2199.92,731.503 2201.96,731.553 2203.99,731.653 2206.03,731.849 2208.07,732.088 2210.11,732.226 \n  2212.15,732.445 2214.19,732.515 2216.23,732.548 2218.27,732.504 2220.3,732.617 2222.34,732.861 2224.38,733.471 2226.42,734.275 2228.46,735.257 2230.5,736.251 \n  2232.54,736.918 2234.57,737.04 2236.61,736.734 2238.65,736.675 2240.69,737.015 2242.73,737.988 2244.77,739.709 2246.81,740.756 2248.85,740.668 2250.88,738.603 \n  2252.92,736.586 2254.96,736.991 2257,741.311 2259.04,744.93 2261.08,740.563 2263.12,726.342 2265.15,726.114 2267.19,780.2 2269.23,857.881 2271.27,736.501 \n  2273.31,168.39 2275.35,-101.397 2277.39,2985.65 2279.43,10632.7 2281.46,448.726 2283.5,-95439.9 2285.54,-208015 2287.58,836978 2289.62,4.1943e+06 2291.66,742.518 \n  \n  \"/>\n<path clip-path=\"url(#clip800)\" d=\"\nM265.897 250.738 L534.209 250.738 L534.209 95.2176 L265.897 95.2176  Z\n  \" fill=\"#ffffff\" fill-rule=\"evenodd\" fill-opacity=\"1\"/>\n<polyline clip-path=\"url(#clip800)\" style=\"stroke:#000000; stroke-linecap:round; stroke-linejoin:round; stroke-width:4; stroke-opacity:1; fill:none\" points=\"\n  265.897,250.738 534.209,250.738 534.209,95.2176 265.897,95.2176 265.897,250.738 \n  \"/>\n<polyline clip-path=\"url(#clip800)\" style=\"stroke:#009af9; stroke-linecap:round; stroke-linejoin:round; stroke-width:4; stroke-opacity:1; fill:none\" points=\"\n  289.884,147.058 433.805,147.058 \n  \"/>\n<path clip-path=\"url(#clip800)\" d=\"M471.634 166.745 Q469.829 171.375 468.116 172.787 Q466.403 174.199 463.532 174.199 L460.13 174.199 L460.13 170.634 L462.63 170.634 Q464.389 170.634 465.361 169.8 Q466.333 168.967 467.514 165.865 L468.278 163.921 L457.792 138.412 L462.306 138.412 L470.407 158.689 L478.509 138.412 L483.023 138.412 L471.634 166.745 Z\" fill=\"#000000\" fill-rule=\"evenodd\" fill-opacity=\"1\" /><path clip-path=\"url(#clip800)\" d=\"M490.315 160.402 L497.954 160.402 L497.954 134.037 L489.643 135.703 L489.643 131.444 L497.907 129.778 L502.583 129.778 L502.583 160.402 L510.222 160.402 L510.222 164.338 L490.315 164.338 L490.315 160.402 Z\" fill=\"#000000\" fill-rule=\"evenodd\" fill-opacity=\"1\" /><polyline clip-path=\"url(#clip800)\" style=\"stroke:#e26f46; stroke-linecap:round; stroke-linejoin:round; stroke-width:4; stroke-opacity:1; fill:none\" points=\"\n  289.884,198.898 433.805,198.898 \n  \"/>\n<path clip-path=\"url(#clip800)\" d=\"M471.634 218.585 Q469.829 223.215 468.116 224.627 Q466.403 226.039 463.532 226.039 L460.13 226.039 L460.13 222.474 L462.63 222.474 Q464.389 222.474 465.361 221.64 Q466.333 220.807 467.514 217.705 L468.278 215.761 L457.792 190.252 L462.306 190.252 L470.407 210.529 L478.509 190.252 L483.023 190.252 L471.634 218.585 Z\" fill=\"#000000\" fill-rule=\"evenodd\" fill-opacity=\"1\" /><path clip-path=\"url(#clip800)\" d=\"M493.532 212.242 L509.852 212.242 L509.852 216.178 L487.907 216.178 L487.907 212.242 Q490.569 209.488 495.153 204.858 Q499.759 200.205 500.94 198.863 Q503.185 196.34 504.065 194.604 Q504.967 192.844 504.967 191.155 Q504.967 188.4 503.023 186.664 Q501.102 184.928 498 184.928 Q495.801 184.928 493.347 185.692 Q490.917 186.455 488.139 188.006 L488.139 183.284 Q490.963 182.15 493.417 181.571 Q495.87 180.993 497.907 180.993 Q503.278 180.993 506.472 183.678 Q509.666 186.363 509.666 190.854 Q509.666 192.983 508.856 194.905 Q508.069 196.803 505.963 199.395 Q505.384 200.067 502.282 203.284 Q499.18 206.479 493.532 212.242 Z\" fill=\"#000000\" fill-rule=\"evenodd\" fill-opacity=\"1\" /></svg>\n",
      "text/html": [
       "<?xml version=\"1.0\" encoding=\"utf-8\"?>\n",
       "<svg xmlns=\"http://www.w3.org/2000/svg\" xmlns:xlink=\"http://www.w3.org/1999/xlink\" width=\"600\" height=\"400\" viewBox=\"0 0 2400 1600\">\n",
       "<defs>\n",
       "  <clipPath id=\"clip850\">\n",
       "    <rect x=\"0\" y=\"0\" width=\"2400\" height=\"1600\"/>\n",
       "  </clipPath>\n",
       "</defs>\n",
       "<path clip-path=\"url(#clip850)\" d=\"\n",
       "M0 1600 L2400 1600 L2400 0 L0 0  Z\n",
       "  \" fill=\"#ffffff\" fill-rule=\"evenodd\" fill-opacity=\"1\"/>\n",
       "<defs>\n",
       "  <clipPath id=\"clip851\">\n",
       "    <rect x=\"480\" y=\"0\" width=\"1681\" height=\"1600\"/>\n",
       "  </clipPath>\n",
       "</defs>\n",
       "<path clip-path=\"url(#clip850)\" d=\"\n",
       "M193.936 1486.45 L2352.76 1486.45 L2352.76 47.2441 L193.936 47.2441  Z\n",
       "  \" fill=\"#ffffff\" fill-rule=\"evenodd\" fill-opacity=\"1\"/>\n",
       "<defs>\n",
       "  <clipPath id=\"clip852\">\n",
       "    <rect x=\"193\" y=\"47\" width=\"2160\" height=\"1440\"/>\n",
       "  </clipPath>\n",
       "</defs>\n",
       "<polyline clip-path=\"url(#clip852)\" style=\"stroke:#000000; stroke-linecap:round; stroke-linejoin:round; stroke-width:2; stroke-opacity:0.1; fill:none\" points=\"\n",
       "  255.035,1486.45 255.035,47.2441 \n",
       "  \"/>\n",
       "<polyline clip-path=\"url(#clip852)\" style=\"stroke:#000000; stroke-linecap:round; stroke-linejoin:round; stroke-width:2; stroke-opacity:0.1; fill:none\" points=\"\n",
       "  764.19,1486.45 764.19,47.2441 \n",
       "  \"/>\n",
       "<polyline clip-path=\"url(#clip852)\" style=\"stroke:#000000; stroke-linecap:round; stroke-linejoin:round; stroke-width:2; stroke-opacity:0.1; fill:none\" points=\"\n",
       "  1273.35,1486.45 1273.35,47.2441 \n",
       "  \"/>\n",
       "<polyline clip-path=\"url(#clip852)\" style=\"stroke:#000000; stroke-linecap:round; stroke-linejoin:round; stroke-width:2; stroke-opacity:0.1; fill:none\" points=\"\n",
       "  1782.5,1486.45 1782.5,47.2441 \n",
       "  \"/>\n",
       "<polyline clip-path=\"url(#clip852)\" style=\"stroke:#000000; stroke-linecap:round; stroke-linejoin:round; stroke-width:2; stroke-opacity:0.1; fill:none\" points=\"\n",
       "  2291.66,1486.45 2291.66,47.2441 \n",
       "  \"/>\n",
       "<polyline clip-path=\"url(#clip850)\" style=\"stroke:#000000; stroke-linecap:round; stroke-linejoin:round; stroke-width:4; stroke-opacity:1; fill:none\" points=\"\n",
       "  193.936,1486.45 2352.76,1486.45 \n",
       "  \"/>\n",
       "<polyline clip-path=\"url(#clip850)\" style=\"stroke:#000000; stroke-linecap:round; stroke-linejoin:round; stroke-width:4; stroke-opacity:1; fill:none\" points=\"\n",
       "  255.035,1486.45 255.035,1467.55 \n",
       "  \"/>\n",
       "<polyline clip-path=\"url(#clip850)\" style=\"stroke:#000000; stroke-linecap:round; stroke-linejoin:round; stroke-width:4; stroke-opacity:1; fill:none\" points=\"\n",
       "  764.19,1486.45 764.19,1467.55 \n",
       "  \"/>\n",
       "<polyline clip-path=\"url(#clip850)\" style=\"stroke:#000000; stroke-linecap:round; stroke-linejoin:round; stroke-width:4; stroke-opacity:1; fill:none\" points=\"\n",
       "  1273.35,1486.45 1273.35,1467.55 \n",
       "  \"/>\n",
       "<polyline clip-path=\"url(#clip850)\" style=\"stroke:#000000; stroke-linecap:round; stroke-linejoin:round; stroke-width:4; stroke-opacity:1; fill:none\" points=\"\n",
       "  1782.5,1486.45 1782.5,1467.55 \n",
       "  \"/>\n",
       "<polyline clip-path=\"url(#clip850)\" style=\"stroke:#000000; stroke-linecap:round; stroke-linejoin:round; stroke-width:4; stroke-opacity:1; fill:none\" points=\"\n",
       "  2291.66,1486.45 2291.66,1467.55 \n",
       "  \"/>\n",
       "<path clip-path=\"url(#clip850)\" d=\"M201.563 1532.02 L231.239 1532.02 L231.239 1535.95 L201.563 1535.95 L201.563 1532.02 Z\" fill=\"#000000\" fill-rule=\"evenodd\" fill-opacity=\"1\" /><path clip-path=\"url(#clip850)\" d=\"M242.141 1544.91 L249.78 1544.91 L249.78 1518.55 L241.47 1520.21 L241.47 1515.95 L249.734 1514.29 L254.41 1514.29 L254.41 1544.91 L262.049 1544.91 L262.049 1548.85 L242.141 1548.85 L242.141 1544.91 Z\" fill=\"#000000\" fill-rule=\"evenodd\" fill-opacity=\"1\" /><path clip-path=\"url(#clip850)\" d=\"M271.493 1542.97 L276.377 1542.97 L276.377 1548.85 L271.493 1548.85 L271.493 1542.97 Z\" fill=\"#000000\" fill-rule=\"evenodd\" fill-opacity=\"1\" /><path clip-path=\"url(#clip850)\" d=\"M296.562 1517.37 Q292.951 1517.37 291.122 1520.93 Q289.317 1524.47 289.317 1531.6 Q289.317 1538.71 291.122 1542.27 Q292.951 1545.82 296.562 1545.82 Q300.196 1545.82 302.002 1542.27 Q303.831 1538.71 303.831 1531.6 Q303.831 1524.47 302.002 1520.93 Q300.196 1517.37 296.562 1517.37 M296.562 1513.66 Q302.372 1513.66 305.428 1518.27 Q308.507 1522.85 308.507 1531.6 Q308.507 1540.33 305.428 1544.94 Q302.372 1549.52 296.562 1549.52 Q290.752 1549.52 287.673 1544.94 Q284.618 1540.33 284.618 1531.6 Q284.618 1522.85 287.673 1518.27 Q290.752 1513.66 296.562 1513.66 Z\" fill=\"#000000\" fill-rule=\"evenodd\" fill-opacity=\"1\" /><path clip-path=\"url(#clip850)\" d=\"M711.216 1532.02 L740.892 1532.02 L740.892 1535.95 L711.216 1535.95 L711.216 1532.02 Z\" fill=\"#000000\" fill-rule=\"evenodd\" fill-opacity=\"1\" /><path clip-path=\"url(#clip850)\" d=\"M760.984 1517.37 Q757.373 1517.37 755.545 1520.93 Q753.739 1524.47 753.739 1531.6 Q753.739 1538.71 755.545 1542.27 Q757.373 1545.82 760.984 1545.82 Q764.619 1545.82 766.424 1542.27 Q768.253 1538.71 768.253 1531.6 Q768.253 1524.47 766.424 1520.93 Q764.619 1517.37 760.984 1517.37 M760.984 1513.66 Q766.794 1513.66 769.85 1518.27 Q772.929 1522.85 772.929 1531.6 Q772.929 1540.33 769.85 1544.94 Q766.794 1549.52 760.984 1549.52 Q755.174 1549.52 752.095 1544.94 Q749.04 1540.33 749.04 1531.6 Q749.04 1522.85 752.095 1518.27 Q755.174 1513.66 760.984 1513.66 Z\" fill=\"#000000\" fill-rule=\"evenodd\" fill-opacity=\"1\" /><path clip-path=\"url(#clip850)\" d=\"M781.146 1542.97 L786.03 1542.97 L786.03 1548.85 L781.146 1548.85 L781.146 1542.97 Z\" fill=\"#000000\" fill-rule=\"evenodd\" fill-opacity=\"1\" /><path clip-path=\"url(#clip850)\" d=\"M796.262 1514.29 L814.618 1514.29 L814.618 1518.22 L800.544 1518.22 L800.544 1526.7 Q801.563 1526.35 802.581 1526.19 Q803.6 1526 804.618 1526 Q810.405 1526 813.785 1529.17 Q817.165 1532.34 817.165 1537.76 Q817.165 1543.34 813.692 1546.44 Q810.22 1549.52 803.901 1549.52 Q801.725 1549.52 799.456 1549.15 Q797.211 1548.78 794.804 1548.04 L794.804 1543.34 Q796.887 1544.47 799.109 1545.03 Q801.331 1545.58 803.808 1545.58 Q807.813 1545.58 810.151 1543.48 Q812.489 1541.37 812.489 1537.76 Q812.489 1534.15 810.151 1532.04 Q807.813 1529.94 803.808 1529.94 Q801.933 1529.94 800.058 1530.35 Q798.206 1530.77 796.262 1531.65 L796.262 1514.29 Z\" fill=\"#000000\" fill-rule=\"evenodd\" fill-opacity=\"1\" /><path clip-path=\"url(#clip850)\" d=\"M1250.73 1517.37 Q1247.12 1517.37 1245.29 1520.93 Q1243.49 1524.47 1243.49 1531.6 Q1243.49 1538.71 1245.29 1542.27 Q1247.12 1545.82 1250.73 1545.82 Q1254.36 1545.82 1256.17 1542.27 Q1258 1538.71 1258 1531.6 Q1258 1524.47 1256.17 1520.93 Q1254.36 1517.37 1250.73 1517.37 M1250.73 1513.66 Q1256.54 1513.66 1259.6 1518.27 Q1262.67 1522.85 1262.67 1531.6 Q1262.67 1540.33 1259.6 1544.94 Q1256.54 1549.52 1250.73 1549.52 Q1244.92 1549.52 1241.84 1544.94 Q1238.79 1540.33 1238.79 1531.6 Q1238.79 1522.85 1241.84 1518.27 Q1244.92 1513.66 1250.73 1513.66 Z\" fill=\"#000000\" fill-rule=\"evenodd\" fill-opacity=\"1\" /><path clip-path=\"url(#clip850)\" d=\"M1270.89 1542.97 L1275.78 1542.97 L1275.78 1548.85 L1270.89 1548.85 L1270.89 1542.97 Z\" fill=\"#000000\" fill-rule=\"evenodd\" fill-opacity=\"1\" /><path clip-path=\"url(#clip850)\" d=\"M1295.96 1517.37 Q1292.35 1517.37 1290.52 1520.93 Q1288.72 1524.47 1288.72 1531.6 Q1288.72 1538.71 1290.52 1542.27 Q1292.35 1545.82 1295.96 1545.82 Q1299.6 1545.82 1301.4 1542.27 Q1303.23 1538.71 1303.23 1531.6 Q1303.23 1524.47 1301.4 1520.93 Q1299.6 1517.37 1295.96 1517.37 M1295.96 1513.66 Q1301.77 1513.66 1304.83 1518.27 Q1307.91 1522.85 1307.91 1531.6 Q1307.91 1540.33 1304.83 1544.94 Q1301.77 1549.52 1295.96 1549.52 Q1290.15 1549.52 1287.07 1544.94 Q1284.02 1540.33 1284.02 1531.6 Q1284.02 1522.85 1287.07 1518.27 Q1290.15 1513.66 1295.96 1513.66 Z\" fill=\"#000000\" fill-rule=\"evenodd\" fill-opacity=\"1\" /><path clip-path=\"url(#clip850)\" d=\"M1760.38 1517.37 Q1756.77 1517.37 1754.94 1520.93 Q1753.14 1524.47 1753.14 1531.6 Q1753.14 1538.71 1754.94 1542.27 Q1756.77 1545.82 1760.38 1545.82 Q1764.02 1545.82 1765.82 1542.27 Q1767.65 1538.71 1767.65 1531.6 Q1767.65 1524.47 1765.82 1520.93 Q1764.02 1517.37 1760.38 1517.37 M1760.38 1513.66 Q1766.19 1513.66 1769.25 1518.27 Q1772.33 1522.85 1772.33 1531.6 Q1772.33 1540.33 1769.25 1544.94 Q1766.19 1549.52 1760.38 1549.52 Q1754.57 1549.52 1751.49 1544.94 Q1748.44 1540.33 1748.44 1531.6 Q1748.44 1522.85 1751.49 1518.27 Q1754.57 1513.66 1760.38 1513.66 Z\" fill=\"#000000\" fill-rule=\"evenodd\" fill-opacity=\"1\" /><path clip-path=\"url(#clip850)\" d=\"M1780.55 1542.97 L1785.43 1542.97 L1785.43 1548.85 L1780.55 1548.85 L1780.55 1542.97 Z\" fill=\"#000000\" fill-rule=\"evenodd\" fill-opacity=\"1\" /><path clip-path=\"url(#clip850)\" d=\"M1795.66 1514.29 L1814.02 1514.29 L1814.02 1518.22 L1799.94 1518.22 L1799.94 1526.7 Q1800.96 1526.35 1801.98 1526.19 Q1803 1526 1804.02 1526 Q1809.8 1526 1813.18 1529.17 Q1816.56 1532.34 1816.56 1537.76 Q1816.56 1543.34 1813.09 1546.44 Q1809.62 1549.52 1803.3 1549.52 Q1801.12 1549.52 1798.86 1549.15 Q1796.61 1548.78 1794.2 1548.04 L1794.2 1543.34 Q1796.29 1544.47 1798.51 1545.03 Q1800.73 1545.58 1803.21 1545.58 Q1807.21 1545.58 1809.55 1543.48 Q1811.89 1541.37 1811.89 1537.76 Q1811.89 1534.15 1809.55 1532.04 Q1807.21 1529.94 1803.21 1529.94 Q1801.33 1529.94 1799.46 1530.35 Q1797.61 1530.77 1795.66 1531.65 L1795.66 1514.29 Z\" fill=\"#000000\" fill-rule=\"evenodd\" fill-opacity=\"1\" /><path clip-path=\"url(#clip850)\" d=\"M2258.81 1544.91 L2266.45 1544.91 L2266.45 1518.55 L2258.14 1520.21 L2258.14 1515.95 L2266.4 1514.29 L2271.08 1514.29 L2271.08 1544.91 L2278.72 1544.91 L2278.72 1548.85 L2258.81 1548.85 L2258.81 1544.91 Z\" fill=\"#000000\" fill-rule=\"evenodd\" fill-opacity=\"1\" /><path clip-path=\"url(#clip850)\" d=\"M2288.16 1542.97 L2293.05 1542.97 L2293.05 1548.85 L2288.16 1548.85 L2288.16 1542.97 Z\" fill=\"#000000\" fill-rule=\"evenodd\" fill-opacity=\"1\" /><path clip-path=\"url(#clip850)\" d=\"M2313.23 1517.37 Q2309.62 1517.37 2307.79 1520.93 Q2305.99 1524.47 2305.99 1531.6 Q2305.99 1538.71 2307.79 1542.27 Q2309.62 1545.82 2313.23 1545.82 Q2316.87 1545.82 2318.67 1542.27 Q2320.5 1538.71 2320.5 1531.6 Q2320.5 1524.47 2318.67 1520.93 Q2316.87 1517.37 2313.23 1517.37 M2313.23 1513.66 Q2319.04 1513.66 2322.1 1518.27 Q2325.18 1522.85 2325.18 1531.6 Q2325.18 1540.33 2322.1 1544.94 Q2319.04 1549.52 2313.23 1549.52 Q2307.42 1549.52 2304.34 1544.94 Q2301.29 1540.33 2301.29 1531.6 Q2301.29 1522.85 2304.34 1518.27 Q2307.42 1513.66 2313.23 1513.66 Z\" fill=\"#000000\" fill-rule=\"evenodd\" fill-opacity=\"1\" /><polyline clip-path=\"url(#clip852)\" style=\"stroke:#000000; stroke-linecap:round; stroke-linejoin:round; stroke-width:2; stroke-opacity:0.1; fill:none\" points=\"\n",
       "  193.936,1486.45 2352.76,1486.45 \n",
       "  \"/>\n",
       "<polyline clip-path=\"url(#clip852)\" style=\"stroke:#000000; stroke-linecap:round; stroke-linejoin:round; stroke-width:2; stroke-opacity:0.1; fill:none\" points=\"\n",
       "  193.936,1126.65 2352.76,1126.65 \n",
       "  \"/>\n",
       "<polyline clip-path=\"url(#clip852)\" style=\"stroke:#000000; stroke-linecap:round; stroke-linejoin:round; stroke-width:2; stroke-opacity:0.1; fill:none\" points=\"\n",
       "  193.936,766.846 2352.76,766.846 \n",
       "  \"/>\n",
       "<polyline clip-path=\"url(#clip852)\" style=\"stroke:#000000; stroke-linecap:round; stroke-linejoin:round; stroke-width:2; stroke-opacity:0.1; fill:none\" points=\"\n",
       "  193.936,407.045 2352.76,407.045 \n",
       "  \"/>\n",
       "<polyline clip-path=\"url(#clip852)\" style=\"stroke:#000000; stroke-linecap:round; stroke-linejoin:round; stroke-width:2; stroke-opacity:0.1; fill:none\" points=\"\n",
       "  193.936,47.2441 2352.76,47.2441 \n",
       "  \"/>\n",
       "<polyline clip-path=\"url(#clip850)\" style=\"stroke:#000000; stroke-linecap:round; stroke-linejoin:round; stroke-width:4; stroke-opacity:1; fill:none\" points=\"\n",
       "  193.936,1486.45 193.936,47.2441 \n",
       "  \"/>\n",
       "<polyline clip-path=\"url(#clip850)\" style=\"stroke:#000000; stroke-linecap:round; stroke-linejoin:round; stroke-width:4; stroke-opacity:1; fill:none\" points=\"\n",
       "  193.936,1486.45 212.834,1486.45 \n",
       "  \"/>\n",
       "<polyline clip-path=\"url(#clip850)\" style=\"stroke:#000000; stroke-linecap:round; stroke-linejoin:round; stroke-width:4; stroke-opacity:1; fill:none\" points=\"\n",
       "  193.936,1126.65 212.834,1126.65 \n",
       "  \"/>\n",
       "<polyline clip-path=\"url(#clip850)\" style=\"stroke:#000000; stroke-linecap:round; stroke-linejoin:round; stroke-width:4; stroke-opacity:1; fill:none\" points=\"\n",
       "  193.936,766.846 212.834,766.846 \n",
       "  \"/>\n",
       "<polyline clip-path=\"url(#clip850)\" style=\"stroke:#000000; stroke-linecap:round; stroke-linejoin:round; stroke-width:4; stroke-opacity:1; fill:none\" points=\"\n",
       "  193.936,407.045 212.834,407.045 \n",
       "  \"/>\n",
       "<polyline clip-path=\"url(#clip850)\" style=\"stroke:#000000; stroke-linecap:round; stroke-linejoin:round; stroke-width:4; stroke-opacity:1; fill:none\" points=\"\n",
       "  193.936,47.2441 212.834,47.2441 \n",
       "  \"/>\n",
       "<path clip-path=\"url(#clip850)\" d=\"M50.9921 1486.9 L80.6679 1486.9 L80.6679 1490.83 L50.9921 1490.83 L50.9921 1486.9 Z\" fill=\"#000000\" fill-rule=\"evenodd\" fill-opacity=\"1\" /><path clip-path=\"url(#clip850)\" d=\"M91.5706 1499.79 L99.2095 1499.79 L99.2095 1473.43 L90.8993 1475.09 L90.8993 1470.83 L99.1632 1469.17 L103.839 1469.17 L103.839 1499.79 L111.478 1499.79 L111.478 1503.73 L91.5706 1503.73 L91.5706 1499.79 Z\" fill=\"#000000\" fill-rule=\"evenodd\" fill-opacity=\"1\" /><path clip-path=\"url(#clip850)\" d=\"M120.922 1497.85 L125.807 1497.85 L125.807 1503.73 L120.922 1503.73 L120.922 1497.85 Z\" fill=\"#000000\" fill-rule=\"evenodd\" fill-opacity=\"1\" /><path clip-path=\"url(#clip850)\" d=\"M145.992 1472.25 Q142.381 1472.25 140.552 1475.81 Q138.746 1479.35 138.746 1486.48 Q138.746 1493.59 140.552 1497.15 Q142.381 1500.7 145.992 1500.7 Q149.626 1500.7 151.431 1497.15 Q153.26 1493.59 153.26 1486.48 Q153.26 1479.35 151.431 1475.81 Q149.626 1472.25 145.992 1472.25 M145.992 1468.54 Q151.802 1468.54 154.857 1473.15 Q157.936 1477.73 157.936 1486.48 Q157.936 1495.21 154.857 1499.82 Q151.802 1504.4 145.992 1504.4 Q140.181 1504.4 137.103 1499.82 Q134.047 1495.21 134.047 1486.48 Q134.047 1477.73 137.103 1473.15 Q140.181 1468.54 145.992 1468.54 Z\" fill=\"#000000\" fill-rule=\"evenodd\" fill-opacity=\"1\" /><path clip-path=\"url(#clip850)\" d=\"M51.9875 1127.1 L81.6633 1127.1 L81.6633 1131.03 L51.9875 1131.03 L51.9875 1127.1 Z\" fill=\"#000000\" fill-rule=\"evenodd\" fill-opacity=\"1\" /><path clip-path=\"url(#clip850)\" d=\"M101.756 1112.45 Q98.1447 1112.45 96.316 1116.01 Q94.5104 1119.55 94.5104 1126.68 Q94.5104 1133.79 96.316 1137.35 Q98.1447 1140.89 101.756 1140.89 Q105.39 1140.89 107.196 1137.35 Q109.024 1133.79 109.024 1126.68 Q109.024 1119.55 107.196 1116.01 Q105.39 1112.45 101.756 1112.45 M101.756 1108.74 Q107.566 1108.74 110.621 1113.35 Q113.7 1117.93 113.7 1126.68 Q113.7 1135.41 110.621 1140.01 Q107.566 1144.6 101.756 1144.6 Q95.9456 1144.6 92.8669 1140.01 Q89.8114 1135.41 89.8114 1126.68 Q89.8114 1117.93 92.8669 1113.35 Q95.9456 1108.74 101.756 1108.74 Z\" fill=\"#000000\" fill-rule=\"evenodd\" fill-opacity=\"1\" /><path clip-path=\"url(#clip850)\" d=\"M121.918 1138.05 L126.802 1138.05 L126.802 1143.93 L121.918 1143.93 L121.918 1138.05 Z\" fill=\"#000000\" fill-rule=\"evenodd\" fill-opacity=\"1\" /><path clip-path=\"url(#clip850)\" d=\"M137.033 1109.37 L155.39 1109.37 L155.39 1113.3 L141.316 1113.3 L141.316 1121.77 Q142.334 1121.43 143.353 1121.27 Q144.371 1121.08 145.39 1121.08 Q151.177 1121.08 154.556 1124.25 Q157.936 1127.42 157.936 1132.84 Q157.936 1138.42 154.464 1141.52 Q150.992 1144.6 144.672 1144.6 Q142.496 1144.6 140.228 1144.23 Q137.982 1143.86 135.575 1143.12 L135.575 1138.42 Q137.658 1139.55 139.881 1140.11 Q142.103 1140.66 144.58 1140.66 Q148.584 1140.66 150.922 1138.56 Q153.26 1136.45 153.26 1132.84 Q153.26 1129.23 150.922 1127.12 Q148.584 1125.01 144.58 1125.01 Q142.705 1125.01 140.83 1125.43 Q138.978 1125.85 137.033 1126.73 L137.033 1109.37 Z\" fill=\"#000000\" fill-rule=\"evenodd\" fill-opacity=\"1\" /><path clip-path=\"url(#clip850)\" d=\"M100.76 752.645 Q97.1493 752.645 95.3206 756.209 Q93.515 759.751 93.515 766.881 Q93.515 773.987 95.3206 777.552 Q97.1493 781.094 100.76 781.094 Q104.395 781.094 106.2 777.552 Q108.029 773.987 108.029 766.881 Q108.029 759.751 106.2 756.209 Q104.395 752.645 100.76 752.645 M100.76 748.941 Q106.571 748.941 109.626 753.547 Q112.705 758.131 112.705 766.881 Q112.705 775.608 109.626 780.214 Q106.571 784.797 100.76 784.797 Q94.9502 784.797 91.8715 780.214 Q88.816 775.608 88.816 766.881 Q88.816 758.131 91.8715 753.547 Q94.9502 748.941 100.76 748.941 Z\" fill=\"#000000\" fill-rule=\"evenodd\" fill-opacity=\"1\" /><path clip-path=\"url(#clip850)\" d=\"M120.922 778.246 L125.807 778.246 L125.807 784.126 L120.922 784.126 L120.922 778.246 Z\" fill=\"#000000\" fill-rule=\"evenodd\" fill-opacity=\"1\" /><path clip-path=\"url(#clip850)\" d=\"M145.992 752.645 Q142.381 752.645 140.552 756.209 Q138.746 759.751 138.746 766.881 Q138.746 773.987 140.552 777.552 Q142.381 781.094 145.992 781.094 Q149.626 781.094 151.431 777.552 Q153.26 773.987 153.26 766.881 Q153.26 759.751 151.431 756.209 Q149.626 752.645 145.992 752.645 M145.992 748.941 Q151.802 748.941 154.857 753.547 Q157.936 758.131 157.936 766.881 Q157.936 775.608 154.857 780.214 Q151.802 784.797 145.992 784.797 Q140.181 784.797 137.103 780.214 Q134.047 775.608 134.047 766.881 Q134.047 758.131 137.103 753.547 Q140.181 748.941 145.992 748.941 Z\" fill=\"#000000\" fill-rule=\"evenodd\" fill-opacity=\"1\" /><path clip-path=\"url(#clip850)\" d=\"M101.756 392.844 Q98.1447 392.844 96.316 396.409 Q94.5104 399.95 94.5104 407.08 Q94.5104 414.186 96.316 417.751 Q98.1447 421.293 101.756 421.293 Q105.39 421.293 107.196 417.751 Q109.024 414.186 109.024 407.08 Q109.024 399.95 107.196 396.409 Q105.39 392.844 101.756 392.844 M101.756 389.14 Q107.566 389.14 110.621 393.746 Q113.7 398.33 113.7 407.08 Q113.7 415.807 110.621 420.413 Q107.566 424.996 101.756 424.996 Q95.9456 424.996 92.8669 420.413 Q89.8114 415.807 89.8114 407.08 Q89.8114 398.33 92.8669 393.746 Q95.9456 389.14 101.756 389.14 Z\" fill=\"#000000\" fill-rule=\"evenodd\" fill-opacity=\"1\" /><path clip-path=\"url(#clip850)\" d=\"M121.918 418.445 L126.802 418.445 L126.802 424.325 L121.918 424.325 L121.918 418.445 Z\" fill=\"#000000\" fill-rule=\"evenodd\" fill-opacity=\"1\" /><path clip-path=\"url(#clip850)\" d=\"M137.033 389.765 L155.39 389.765 L155.39 393.7 L141.316 393.7 L141.316 402.172 Q142.334 401.825 143.353 401.663 Q144.371 401.478 145.39 401.478 Q151.177 401.478 154.556 404.649 Q157.936 407.82 157.936 413.237 Q157.936 418.816 154.464 421.918 Q150.992 424.996 144.672 424.996 Q142.496 424.996 140.228 424.626 Q137.982 424.256 135.575 423.515 L135.575 418.816 Q137.658 419.95 139.881 420.506 Q142.103 421.061 144.58 421.061 Q148.584 421.061 150.922 418.955 Q153.26 416.848 153.26 413.237 Q153.26 409.626 150.922 407.52 Q148.584 405.413 144.58 405.413 Q142.705 405.413 140.83 405.83 Q138.978 406.246 137.033 407.126 L137.033 389.765 Z\" fill=\"#000000\" fill-rule=\"evenodd\" fill-opacity=\"1\" /><path clip-path=\"url(#clip850)\" d=\"M91.5706 60.5889 L99.2095 60.5889 L99.2095 34.2233 L90.8993 35.89 L90.8993 31.6308 L99.1632 29.9641 L103.839 29.9641 L103.839 60.5889 L111.478 60.5889 L111.478 64.5241 L91.5706 64.5241 L91.5706 60.5889 Z\" fill=\"#000000\" fill-rule=\"evenodd\" fill-opacity=\"1\" /><path clip-path=\"url(#clip850)\" d=\"M120.922 58.6445 L125.807 58.6445 L125.807 64.5241 L120.922 64.5241 L120.922 58.6445 Z\" fill=\"#000000\" fill-rule=\"evenodd\" fill-opacity=\"1\" /><path clip-path=\"url(#clip850)\" d=\"M145.992 33.0428 Q142.381 33.0428 140.552 36.6076 Q138.746 40.1492 138.746 47.2788 Q138.746 54.3853 140.552 57.9501 Q142.381 61.4917 145.992 61.4917 Q149.626 61.4917 151.431 57.9501 Q153.26 54.3853 153.26 47.2788 Q153.26 40.1492 151.431 36.6076 Q149.626 33.0428 145.992 33.0428 M145.992 29.3391 Q151.802 29.3391 154.857 33.9456 Q157.936 38.5289 157.936 47.2788 Q157.936 56.0056 154.857 60.6121 Q151.802 65.1954 145.992 65.1954 Q140.181 65.1954 137.103 60.6121 Q134.047 56.0056 134.047 47.2788 Q134.047 38.5289 137.103 33.9456 Q140.181 29.3391 145.992 29.3391 Z\" fill=\"#000000\" fill-rule=\"evenodd\" fill-opacity=\"1\" /><polyline clip-path=\"url(#clip852)\" style=\"stroke:#009af9; stroke-linecap:round; stroke-linejoin:round; stroke-width:4; stroke-opacity:1; fill:none\" points=\"\n",
       "  255.035,622.926 257.073,509.589 259.112,606.306 261.151,625.494 263.189,622.908 265.228,620.601 267.267,619.93 269.305,619.604 271.344,619.188 273.383,618.704 \n",
       "  275.421,618.212 277.46,617.727 279.499,617.243 281.537,616.757 283.576,616.268 285.615,615.776 287.653,615.282 289.692,614.786 291.731,614.288 293.769,613.788 \n",
       "  295.808,613.285 297.847,612.78 299.885,612.273 301.924,611.763 303.963,611.251 306.001,610.737 308.04,610.221 310.079,609.702 312.117,609.181 314.156,608.658 \n",
       "  316.195,608.132 318.233,607.604 320.272,607.073 322.31,606.54 324.349,606.005 326.388,605.467 328.426,604.927 330.465,604.384 332.504,603.839 334.542,603.291 \n",
       "  336.581,602.741 338.62,602.188 340.658,601.633 342.697,601.076 344.736,600.515 346.774,599.953 348.813,599.387 350.852,598.819 352.89,598.249 354.929,597.675 \n",
       "  356.968,597.1 359.006,596.521 361.045,595.94 363.084,595.356 365.122,594.77 367.161,594.181 369.2,593.589 371.238,592.994 373.277,592.397 375.316,591.797 \n",
       "  377.354,591.194 379.393,590.589 381.432,589.98 383.47,589.369 385.509,588.755 387.548,588.138 389.586,587.518 391.625,586.896 393.664,586.27 395.702,585.642 \n",
       "  397.741,585.011 399.78,584.376 401.818,583.739 403.857,583.099 405.896,582.456 407.934,581.81 409.973,581.161 412.012,580.509 414.05,579.853 416.089,579.195 \n",
       "  418.128,578.534 420.166,577.869 422.205,577.202 424.244,576.531 426.282,575.858 428.321,575.181 430.36,574.501 432.398,573.817 434.437,573.131 436.476,572.441 \n",
       "  438.514,571.748 440.553,571.052 442.592,570.353 444.63,569.65 446.669,568.944 448.707,568.235 450.746,567.522 452.785,566.806 454.823,566.087 456.862,565.364 \n",
       "  458.901,564.638 460.939,563.908 462.978,563.175 465.017,562.439 467.055,561.699 469.094,560.956 471.133,560.209 473.171,559.458 475.21,558.704 477.249,557.947 \n",
       "  479.287,557.186 481.326,556.421 483.365,555.653 485.403,554.881 487.442,554.105 489.481,553.326 491.519,552.543 493.558,551.756 495.597,550.966 497.635,550.172 \n",
       "  499.674,549.374 501.713,548.572 503.751,547.767 505.79,546.958 507.829,546.145 509.867,545.328 511.906,544.507 513.945,543.682 515.983,542.854 518.022,542.021 \n",
       "  520.061,541.185 522.099,540.344 524.138,539.5 526.177,538.652 528.215,537.799 530.254,536.943 532.293,536.082 534.331,535.218 536.37,534.349 538.409,533.476 \n",
       "  540.447,532.6 542.486,531.718 544.525,530.833 546.563,529.944 548.602,529.05 550.641,528.152 552.679,527.25 554.718,526.344 556.757,525.433 558.795,524.518 \n",
       "  560.834,523.599 562.873,522.675 564.911,521.747 566.95,520.815 568.989,519.878 571.027,518.937 573.066,517.992 575.104,517.041 577.143,516.087 579.182,515.128 \n",
       "  581.22,514.164 583.259,513.196 585.298,512.223 587.336,511.246 589.375,510.264 591.414,509.278 593.452,508.287 595.491,507.291 597.53,506.29 599.568,505.285 \n",
       "  601.607,504.275 603.646,503.261 605.684,502.241 607.723,501.217 609.762,500.188 611.8,499.155 613.839,498.116 615.878,497.073 617.916,496.025 619.955,494.971 \n",
       "  621.994,493.913 624.032,492.85 626.071,491.783 628.11,490.71 630.148,489.632 632.187,488.549 634.226,487.461 636.264,486.368 638.303,485.27 640.342,484.167 \n",
       "  642.38,483.059 644.419,481.946 646.458,480.828 648.496,479.704 650.535,478.576 652.574,477.442 654.612,476.303 656.651,475.159 658.69,474.009 660.728,472.855 \n",
       "  662.767,471.695 664.806,470.53 666.844,469.359 668.883,468.183 670.922,467.002 672.96,465.816 674.999,464.624 677.038,463.427 679.076,462.224 681.115,461.016 \n",
       "  683.154,459.803 685.192,458.584 687.231,457.36 689.27,456.13 691.308,454.895 693.347,453.654 695.385,452.408 697.424,451.156 699.463,449.899 701.501,448.636 \n",
       "  703.54,447.368 705.579,446.094 707.617,444.814 709.656,443.529 711.695,442.238 713.733,440.942 715.772,439.64 717.811,438.333 719.849,437.019 721.888,435.701 \n",
       "  723.927,434.376 725.965,433.046 728.004,431.71 730.043,430.368 732.081,429.021 734.12,427.668 736.159,426.309 738.197,424.945 740.236,423.575 742.275,422.199 \n",
       "  744.313,420.817 746.352,419.43 748.391,418.037 750.429,416.638 752.468,415.233 754.507,413.823 756.545,412.407 758.584,410.985 760.623,409.557 762.661,408.124 \n",
       "  764.7,406.685 766.739,405.24 768.777,403.789 770.816,402.333 772.855,400.87 774.893,399.402 776.932,397.928 778.971,396.449 781.009,394.964 783.048,393.472 \n",
       "  785.087,391.976 787.125,390.473 789.164,388.965 791.203,387.451 793.241,385.931 795.28,384.406 797.319,382.875 799.357,381.338 801.396,379.795 803.435,378.247 \n",
       "  805.473,376.694 807.512,375.134 809.551,373.569 811.589,371.998 813.628,370.422 815.667,368.84 817.705,367.253 819.744,365.66 821.782,364.062 823.821,362.458 \n",
       "  825.86,360.848 827.898,359.233 829.937,357.613 831.976,355.987 834.014,354.356 836.053,352.72 838.092,351.078 840.13,349.431 842.169,347.778 844.208,346.121 \n",
       "  846.246,344.458 848.285,342.79 850.324,341.117 852.362,339.438 854.401,337.755 856.44,336.066 858.478,334.373 860.517,332.675 862.556,330.971 864.594,329.263 \n",
       "  866.633,327.55 868.672,325.832 870.71,324.109 872.749,322.382 874.788,320.65 876.826,318.914 878.865,317.172 880.904,315.427 882.942,313.677 884.981,311.922 \n",
       "  887.02,310.163 889.058,308.4 891.097,306.633 893.136,304.861 895.174,303.085 897.213,301.306 899.252,299.522 901.29,297.734 903.329,295.943 905.368,294.148 \n",
       "  907.406,292.349 909.445,290.546 911.484,288.74 913.522,286.93 915.561,285.117 917.6,283.301 919.638,281.481 921.677,279.659 923.716,277.833 925.754,276.004 \n",
       "  927.793,274.172 929.832,272.337 931.87,270.5 933.909,268.66 935.948,266.818 937.986,264.973 940.025,263.125 942.064,261.276 944.102,259.424 946.141,257.57 \n",
       "  948.179,255.714 950.218,253.856 952.257,251.997 954.295,250.136 956.334,248.273 958.373,246.409 960.411,244.544 962.45,242.678 964.489,240.81 966.527,238.942 \n",
       "  968.566,237.073 970.605,235.203 972.643,233.332 974.682,231.461 976.721,229.59 978.759,227.719 980.798,225.847 982.837,223.976 984.875,222.105 986.914,220.234 \n",
       "  988.953,218.364 990.991,216.494 993.03,214.625 995.069,212.758 997.107,210.891 999.146,209.025 1001.18,207.161 1003.22,205.299 1005.26,203.438 1007.3,201.579 \n",
       "  1009.34,199.722 1011.38,197.867 1013.42,196.015 1015.46,194.165 1017.49,192.318 1019.53,190.473 1021.57,188.632 1023.61,186.794 1025.65,184.959 1027.69,183.128 \n",
       "  1029.73,181.3 1031.76,179.476 1033.8,177.657 1035.84,175.841 1037.88,174.03 1039.92,172.224 1041.96,170.423 1044,168.626 1046.04,166.835 1048.07,165.049 \n",
       "  1050.11,163.269 1052.15,161.494 1054.19,159.726 1056.23,157.963 1058.27,156.207 1060.31,154.457 1062.34,152.715 1064.38,150.979 1066.42,149.25 1068.46,147.529 \n",
       "  1070.5,145.815 1072.54,144.109 1074.58,142.411 1076.62,140.721 1078.65,139.04 1080.69,137.367 1082.73,135.703 1084.77,134.048 1086.81,132.402 1088.85,130.766 \n",
       "  1090.89,129.139 1092.92,127.522 1094.96,125.915 1097,124.319 1099.04,122.733 1101.08,121.158 1103.12,119.594 1105.16,118.041 1107.2,116.499 1109.23,114.969 \n",
       "  1111.27,113.45 1113.31,111.944 1115.35,110.45 1117.39,108.969 1119.43,107.5 1121.47,106.044 1123.5,104.601 1125.54,103.171 1127.58,101.755 1129.62,100.353 \n",
       "  1131.66,98.9641 1133.7,97.5898 1135.74,96.23 1137.77,94.8847 1139.81,93.5541 1141.85,92.2386 1143.89,90.9383 1145.93,89.6534 1147.97,88.3842 1150.01,87.1307 \n",
       "  1152.05,85.8933 1154.08,84.6721 1156.12,83.4673 1158.16,82.2791 1160.2,81.1077 1162.24,79.9534 1164.28,78.8163 1166.32,77.6965 1168.35,76.5943 1170.39,75.5099 \n",
       "  1172.43,74.4434 1174.47,73.3951 1176.51,72.3651 1178.55,71.3536 1180.59,70.3607 1182.63,69.3867 1184.66,68.4317 1186.7,67.4958 1188.74,66.5793 1190.78,65.6823 \n",
       "  1192.82,64.805 1194.86,63.9475 1196.9,63.1099 1198.93,62.2925 1200.97,61.4953 1203.01,60.7186 1205.05,59.9624 1207.09,59.2268 1209.13,58.5122 1211.17,57.8184 \n",
       "  1213.21,57.1458 1215.24,56.4943 1217.28,55.8642 1219.32,55.2556 1221.36,54.6685 1223.4,54.103 1225.44,53.5593 1227.48,53.0375 1229.51,52.5377 1231.55,52.06 \n",
       "  1233.59,51.6044 1235.63,51.171 1237.67,50.76 1239.71,50.3713 1241.75,50.0052 1243.79,49.6616 1245.82,49.3406 1247.86,49.0422 1249.9,48.7666 1251.94,48.5138 \n",
       "  1253.98,48.2838 1256.02,48.0767 1258.06,47.8925 1260.09,47.7312 1262.13,47.5929 1264.17,47.4777 1266.21,47.3854 1268.25,47.3162 1270.29,47.2701 1272.33,47.247 \n",
       "  1274.37,47.247 1276.4,47.2701 1278.44,47.3162 1280.48,47.3854 1282.52,47.4777 1284.56,47.5929 1286.6,47.7312 1288.64,47.8925 1290.67,48.0767 1292.71,48.2838 \n",
       "  1294.75,48.5138 1296.79,48.7666 1298.83,49.0422 1300.87,49.3405 1302.91,49.6616 1304.95,50.0052 1306.98,50.3713 1309.02,50.76 1311.06,51.171 1313.1,51.6044 \n",
       "  1315.14,52.06 1317.18,52.5377 1319.22,53.0375 1321.25,53.5593 1323.29,54.103 1325.33,54.6684 1327.37,55.2556 1329.41,55.8642 1331.45,56.4943 1333.49,57.1458 \n",
       "  1335.53,57.8184 1337.56,58.5121 1339.6,59.2268 1341.64,59.9623 1343.68,60.7185 1345.72,61.4953 1347.76,62.2925 1349.8,63.1099 1351.83,63.9474 1353.87,64.805 \n",
       "  1355.91,65.6823 1357.95,66.5793 1359.99,67.4958 1362.03,68.4317 1364.07,69.3867 1366.11,70.3607 1368.14,71.3536 1370.18,72.3651 1372.22,73.3951 1374.26,74.4434 \n",
       "  1376.3,75.5099 1378.34,76.5943 1380.38,77.6965 1382.41,78.8162 1384.45,79.9534 1386.49,81.1077 1388.53,82.2791 1390.57,83.4673 1392.61,84.672 1394.65,85.8933 \n",
       "  1396.68,87.1307 1398.72,88.3841 1400.76,89.6534 1402.8,90.9383 1404.84,92.2386 1406.88,93.5541 1408.92,94.8846 1410.96,96.2299 1412.99,97.5898 1415.03,98.9641 \n",
       "  1417.07,100.353 1419.11,101.755 1421.15,103.171 1423.19,104.601 1425.23,106.044 1427.26,107.5 1429.3,108.969 1431.34,110.45 1433.38,111.944 1435.42,113.45 \n",
       "  1437.46,114.969 1439.5,116.499 1441.54,118.041 1443.57,119.594 1445.61,121.158 1447.65,122.733 1449.69,124.319 1451.73,125.915 1453.77,127.522 1455.81,129.139 \n",
       "  1457.84,130.766 1459.88,132.402 1461.92,134.048 1463.96,135.703 1466,137.367 1468.04,139.04 1470.08,140.721 1472.12,142.411 1474.15,144.109 1476.19,145.815 \n",
       "  1478.23,147.529 1480.27,149.25 1482.31,150.979 1484.35,152.715 1486.39,154.457 1488.42,156.207 1490.46,157.963 1492.5,159.726 1494.54,161.494 1496.58,163.269 \n",
       "  1498.62,165.049 1500.66,166.835 1502.7,168.626 1504.73,170.423 1506.77,172.224 1508.81,174.03 1510.85,175.841 1512.89,177.657 1514.93,179.476 1516.97,181.3 \n",
       "  1519,183.128 1521.04,184.959 1523.08,186.794 1525.12,188.632 1527.16,190.473 1529.2,192.318 1531.24,194.165 1533.28,196.015 1535.31,197.867 1537.35,199.722 \n",
       "  1539.39,201.579 1541.43,203.438 1543.47,205.299 1545.51,207.161 1547.55,209.025 1549.58,210.891 1551.62,212.758 1553.66,214.625 1555.7,216.494 1557.74,218.364 \n",
       "  1559.78,220.234 1561.82,222.105 1563.86,223.976 1565.89,225.847 1567.93,227.719 1569.97,229.59 1572.01,231.461 1574.05,233.332 1576.09,235.203 1578.13,237.073 \n",
       "  1580.16,238.942 1582.2,240.81 1584.24,242.678 1586.28,244.544 1588.32,246.409 1590.36,248.273 1592.4,250.136 1594.44,251.997 1596.47,253.856 1598.51,255.714 \n",
       "  1600.55,257.57 1602.59,259.424 1604.63,261.275 1606.67,263.125 1608.71,264.973 1610.74,266.818 1612.78,268.66 1614.82,270.5 1616.86,272.337 1618.9,274.172 \n",
       "  1620.94,276.004 1622.98,277.833 1625.02,279.659 1627.05,281.481 1629.09,283.301 1631.13,285.117 1633.17,286.93 1635.21,288.74 1637.25,290.546 1639.29,292.349 \n",
       "  1641.32,294.148 1643.36,295.943 1645.4,297.734 1647.44,299.522 1649.48,301.306 1651.52,303.085 1653.56,304.861 1655.59,306.633 1657.63,308.4 1659.67,310.163 \n",
       "  1661.71,311.922 1663.75,313.677 1665.79,315.427 1667.83,317.172 1669.87,318.914 1671.9,320.65 1673.94,322.382 1675.98,324.109 1678.02,325.832 1680.06,327.55 \n",
       "  1682.1,329.263 1684.14,330.971 1686.17,332.675 1688.21,334.373 1690.25,336.066 1692.29,337.755 1694.33,339.438 1696.37,341.117 1698.41,342.79 1700.45,344.458 \n",
       "  1702.48,346.121 1704.52,347.778 1706.56,349.431 1708.6,351.078 1710.64,352.72 1712.68,354.356 1714.72,355.987 1716.75,357.613 1718.79,359.233 1720.83,360.848 \n",
       "  1722.87,362.458 1724.91,364.062 1726.95,365.66 1728.99,367.253 1731.03,368.84 1733.06,370.422 1735.1,371.998 1737.14,373.569 1739.18,375.134 1741.22,376.693 \n",
       "  1743.26,378.247 1745.3,379.795 1747.33,381.338 1749.37,382.875 1751.41,384.406 1753.45,385.931 1755.49,387.451 1757.53,388.965 1759.57,390.473 1761.61,391.976 \n",
       "  1763.64,393.472 1765.68,394.963 1767.72,396.449 1769.76,397.928 1771.8,399.402 1773.84,400.87 1775.88,402.332 1777.91,403.789 1779.95,405.24 1781.99,406.685 \n",
       "  1784.03,408.124 1786.07,409.557 1788.11,410.985 1790.15,412.407 1792.19,413.823 1794.22,415.233 1796.26,416.638 1798.3,418.037 1800.34,419.43 1802.38,420.817 \n",
       "  1804.42,422.199 1806.46,423.575 1808.49,424.945 1810.53,426.309 1812.57,427.668 1814.61,429.021 1816.65,430.368 1818.69,431.71 1820.73,433.046 1822.77,434.376 \n",
       "  1824.8,435.701 1826.84,437.019 1828.88,438.333 1830.92,439.64 1832.96,440.942 1835,442.238 1837.04,443.529 1839.07,444.814 1841.11,446.094 1843.15,447.368 \n",
       "  1845.19,448.636 1847.23,449.899 1849.27,451.156 1851.31,452.408 1853.35,453.654 1855.38,454.895 1857.42,456.13 1859.46,457.36 1861.5,458.584 1863.54,459.803 \n",
       "  1865.58,461.016 1867.62,462.224 1869.65,463.427 1871.69,464.624 1873.73,465.816 1875.77,467.002 1877.81,468.183 1879.85,469.359 1881.89,470.53 1883.92,471.695 \n",
       "  1885.96,472.855 1888,474.009 1890.04,475.159 1892.08,476.303 1894.12,477.442 1896.16,478.576 1898.2,479.704 1900.23,480.828 1902.27,481.946 1904.31,483.059 \n",
       "  1906.35,484.167 1908.39,485.27 1910.43,486.368 1912.47,487.461 1914.5,488.549 1916.54,489.632 1918.58,490.71 1920.62,491.783 1922.66,492.85 1924.7,493.913 \n",
       "  1926.74,494.971 1928.78,496.025 1930.81,497.073 1932.85,498.116 1934.89,499.155 1936.93,500.188 1938.97,501.217 1941.01,502.241 1943.05,503.261 1945.08,504.275 \n",
       "  1947.12,505.285 1949.16,506.29 1951.2,507.291 1953.24,508.287 1955.28,509.278 1957.32,510.264 1959.36,511.246 1961.39,512.223 1963.43,513.196 1965.47,514.164 \n",
       "  1967.51,515.128 1969.55,516.087 1971.59,517.041 1973.63,517.992 1975.66,518.937 1977.7,519.878 1979.74,520.815 1981.78,521.747 1983.82,522.675 1985.86,523.599 \n",
       "  1987.9,524.518 1989.94,525.433 1991.97,526.344 1994.01,527.25 1996.05,528.152 1998.09,529.05 2000.13,529.944 2002.17,530.833 2004.21,531.718 2006.24,532.6 \n",
       "  2008.28,533.476 2010.32,534.349 2012.36,535.218 2014.4,536.082 2016.44,536.943 2018.48,537.799 2020.52,538.652 2022.55,539.5 2024.59,540.344 2026.63,541.185 \n",
       "  2028.67,542.021 2030.71,542.854 2032.75,543.682 2034.79,544.507 2036.82,545.328 2038.86,546.145 2040.9,546.958 2042.94,547.767 2044.98,548.572 2047.02,549.374 \n",
       "  2049.06,550.172 2051.1,550.966 2053.13,551.756 2055.17,552.543 2057.21,553.326 2059.25,554.105 2061.29,554.881 2063.33,555.653 2065.37,556.421 2067.4,557.186 \n",
       "  2069.44,557.947 2071.48,558.704 2073.52,559.458 2075.56,560.209 2077.6,560.956 2079.64,561.699 2081.68,562.439 2083.71,563.175 2085.75,563.908 2087.79,564.638 \n",
       "  2089.83,565.364 2091.87,566.087 2093.91,566.806 2095.95,567.522 2097.98,568.235 2100.02,568.944 2102.06,569.65 2104.1,570.353 2106.14,571.052 2108.18,571.748 \n",
       "  2110.22,572.441 2112.26,573.131 2114.29,573.817 2116.33,574.501 2118.37,575.181 2120.41,575.858 2122.45,576.531 2124.49,577.202 2126.53,577.869 2128.56,578.534 \n",
       "  2130.6,579.195 2132.64,579.853 2134.68,580.509 2136.72,581.161 2138.76,581.81 2140.8,582.456 2142.83,583.099 2144.87,583.739 2146.91,584.376 2148.95,585.011 \n",
       "  2150.99,585.642 2153.03,586.27 2155.07,586.896 2157.11,587.518 2159.14,588.138 2161.18,588.755 2163.22,589.369 2165.26,589.98 2167.3,590.589 2169.34,591.194 \n",
       "  2171.38,591.797 2173.41,592.397 2175.45,592.995 2177.49,593.589 2179.53,594.181 2181.57,594.77 2183.61,595.357 2185.65,595.94 2187.69,596.521 2189.72,597.1 \n",
       "  2191.76,597.676 2193.8,598.249 2195.84,598.819 2197.88,599.387 2199.92,599.953 2201.96,600.515 2203.99,601.076 2206.03,601.633 2208.07,602.188 2210.11,602.741 \n",
       "  2212.15,603.291 2214.19,603.839 2216.23,604.384 2218.27,604.927 2220.3,605.467 2222.34,606.005 2224.38,606.54 2226.42,607.073 2228.46,607.604 2230.5,608.132 \n",
       "  2232.54,608.658 2234.57,609.181 2236.61,609.702 2238.65,610.221 2240.69,610.737 2242.73,611.251 2244.77,611.763 2246.81,612.273 2248.85,612.78 2250.88,613.285 \n",
       "  2252.92,613.787 2254.96,614.288 2257,614.786 2259.04,615.282 2261.08,615.776 2263.12,616.267 2265.15,616.757 2267.19,617.245 2269.23,617.73 2271.27,618.212 \n",
       "  2273.31,618.687 2275.35,619.164 2277.39,619.668 2279.43,620.21 2281.46,620.592 2283.5,620.251 2285.54,619.795 2287.58,628.871 2289.62,671.894 2291.66,622.926 \n",
       "  \n",
       "  \"/>\n",
       "<polyline clip-path=\"url(#clip852)\" style=\"stroke:#e26f46; stroke-linecap:round; stroke-linejoin:round; stroke-width:4; stroke-opacity:1; fill:none\" points=\"\n",
       "  255.035,739.088 257.073,-4.1943e+06 259.112,-1.30181e+06 261.151,323448 263.189,148014 265.228,1181.8 267.267,-14035.1 269.305,-2568.32 271.344,1948.48 273.383,1547.34 \n",
       "  275.421,741.927 277.46,578.643 279.499,685.41 281.537,757.607 283.576,758.511 285.615,739.069 287.653,731.033 289.692,733.13 291.731,736.928 293.769,737.549 \n",
       "  295.808,736.346 297.847,734.683 299.885,733.908 301.924,733.95 303.963,733.692 306.001,733.485 308.04,733.461 310.079,733.605 312.117,734.723 314.156,735.648 \n",
       "  316.195,736.555 318.233,736.844 320.272,736.711 322.31,735.854 324.349,734.835 326.388,733.802 328.426,732.992 330.465,732.662 332.504,732.661 334.542,733.027 \n",
       "  336.581,733.48 338.62,733.932 340.658,734.225 342.697,734.301 344.736,734.079 346.774,733.668 348.813,733.166 350.852,732.57 352.89,732 354.929,731.468 \n",
       "  356.968,731.051 359.006,730.725 361.045,730.521 363.084,730.368 365.122,730.317 367.161,730.277 369.2,730.273 371.238,730.266 373.277,730.259 375.316,730.225 \n",
       "  377.354,730.185 379.393,730.112 381.432,730.028 383.47,729.925 385.509,729.81 387.548,729.689 389.586,729.561 391.625,729.43 393.664,729.304 395.702,729.179 \n",
       "  397.741,729.061 399.78,728.946 401.818,728.832 403.857,728.723 405.896,728.606 407.934,728.482 409.973,728.34 412.012,728.181 414.05,727.998 416.089,727.791 \n",
       "  418.128,727.559 420.166,727.302 422.205,727.021 424.244,726.724 426.282,726.415 428.321,726.1 430.36,725.79 432.398,725.488 434.437,725.202 436.476,724.94 \n",
       "  438.514,724.703 440.553,724.497 442.592,724.322 444.63,724.175 446.669,724.056 448.707,723.961 450.746,723.883 452.785,723.816 454.823,723.754 456.862,723.689 \n",
       "  458.901,723.616 460.939,723.526 462.978,723.417 465.017,723.283 467.055,723.121 469.094,722.93 471.133,722.711 473.171,722.463 475.21,722.19 477.249,721.895 \n",
       "  479.287,721.581 481.326,721.254 483.365,720.917 485.403,720.577 487.442,720.237 489.481,719.901 491.519,719.574 493.558,719.257 495.597,718.954 497.635,718.665 \n",
       "  499.674,718.391 501.713,718.132 503.751,717.886 505.79,717.652 507.829,717.427 509.867,717.21 511.906,716.997 513.945,716.786 515.983,716.574 518.022,716.357 \n",
       "  520.061,716.134 522.099,715.902 524.138,715.66 526.177,715.406 528.215,715.14 530.254,714.86 532.293,714.568 534.331,714.262 536.37,713.945 538.409,713.617 \n",
       "  540.447,713.28 542.486,712.935 544.525,712.583 546.563,712.227 548.602,711.867 550.641,711.506 552.679,711.145 554.718,710.784 556.757,710.425 558.795,710.068 \n",
       "  560.834,709.715 562.873,709.364 564.911,709.016 566.95,708.671 568.989,708.328 571.027,707.986 573.066,707.645 575.104,707.304 577.143,706.961 579.182,706.615 \n",
       "  581.22,706.266 583.259,705.913 585.298,705.553 587.336,705.188 589.375,704.815 591.414,704.435 593.452,704.048 595.491,703.652 597.53,703.247 599.568,702.835 \n",
       "  601.607,702.416 603.646,701.989 605.684,701.556 607.723,701.117 609.762,700.673 611.8,700.225 613.839,699.775 615.878,699.322 617.916,698.869 619.955,698.416 \n",
       "  621.994,697.964 624.032,697.514 626.071,697.068 628.11,696.624 630.148,696.185 632.187,695.751 634.226,695.322 636.264,694.898 638.303,694.48 640.342,694.067 \n",
       "  642.38,693.66 644.419,693.257 646.458,692.859 648.496,692.465 650.535,692.074 652.574,691.686 654.612,691.3 656.651,690.916 658.69,690.532 660.728,690.148 \n",
       "  662.767,689.762 664.806,689.375 666.844,688.985 668.883,688.592 670.922,688.194 672.96,687.792 674.999,687.385 677.038,686.972 679.076,686.553 681.115,686.127 \n",
       "  683.154,685.695 685.192,685.256 687.231,684.81 689.27,684.357 691.308,683.897 693.347,683.43 695.385,682.956 697.424,682.475 699.463,681.989 701.501,681.496 \n",
       "  703.54,680.997 705.579,680.493 707.617,679.983 709.656,679.468 711.695,678.949 713.733,678.424 715.772,677.896 717.811,677.363 719.849,676.826 721.888,676.284 \n",
       "  723.927,675.739 725.965,675.189 728.004,674.636 730.043,674.077 732.081,673.515 734.12,672.948 736.159,672.376 738.197,671.799 740.236,671.216 742.275,670.627 \n",
       "  744.313,670.032 746.352,669.431 748.391,668.823 750.429,668.207 752.468,667.583 754.507,666.951 756.545,666.31 758.584,665.661 760.623,665.002 762.661,664.333 \n",
       "  764.7,663.654 766.739,662.966 768.777,662.266 770.816,661.556 772.855,660.835 774.893,660.103 776.932,659.361 778.971,658.607 781.009,657.842 783.048,657.066 \n",
       "  785.087,656.28 787.125,655.483 789.164,654.675 791.203,653.858 793.241,653.03 795.28,652.193 797.319,651.346 799.357,650.491 801.396,649.626 803.435,648.754 \n",
       "  805.473,647.873 807.512,646.985 809.551,646.089 811.589,645.187 813.628,644.277 815.667,643.362 817.705,642.44 819.744,641.513 821.782,640.579 823.821,639.641 \n",
       "  825.86,638.697 827.898,637.747 829.937,636.793 831.976,635.833 834.014,634.869 836.053,633.899 838.092,632.923 840.13,631.942 842.169,630.956 844.208,629.963 \n",
       "  846.246,628.964 848.285,627.959 850.324,626.947 852.362,625.927 854.401,624.899 856.44,623.863 858.478,622.819 860.517,621.765 862.556,620.701 864.594,619.626 \n",
       "  866.633,618.541 868.672,617.445 870.71,616.336 872.749,615.214 874.788,614.079 876.826,612.93 878.865,611.767 880.904,610.588 882.942,609.394 884.981,608.184 \n",
       "  887.02,606.957 889.058,605.712 891.097,604.45 893.136,603.17 895.174,601.871 897.213,600.554 899.252,599.216 901.29,597.859 903.329,596.482 905.368,595.084 \n",
       "  907.406,593.666 909.445,592.226 911.484,590.766 913.522,589.284 915.561,587.78 917.6,586.255 919.638,584.708 921.677,583.139 923.716,581.548 925.754,579.935 \n",
       "  927.793,578.3 929.832,576.643 931.87,574.964 933.909,573.262 935.948,571.539 937.986,569.793 940.025,568.025 942.064,566.235 944.102,564.422 946.141,562.588 \n",
       "  948.179,560.732 950.218,558.853 952.257,556.952 954.295,555.029 956.334,553.084 958.373,551.117 960.411,549.128 962.45,547.116 964.489,545.082 966.527,543.025 \n",
       "  968.566,540.946 970.605,538.844 972.643,536.719 974.682,534.571 976.721,532.4 978.759,530.206 980.798,527.987 982.837,525.745 984.875,523.479 986.914,521.188 \n",
       "  988.953,518.873 990.991,516.532 993.03,514.166 995.069,511.775 997.107,509.357 999.146,506.913 1001.18,504.442 1003.22,501.944 1005.26,499.419 1007.3,496.866 \n",
       "  1009.34,494.284 1011.38,491.674 1013.42,489.035 1015.46,486.366 1017.49,483.668 1019.53,480.939 1021.57,478.18 1023.61,475.389 1025.65,472.567 1027.69,469.714 \n",
       "  1029.73,466.828 1031.76,463.91 1033.8,460.959 1035.84,457.975 1037.88,454.958 1039.92,451.907 1041.96,448.822 1044,445.702 1046.04,442.548 1048.07,439.36 \n",
       "  1050.11,436.136 1052.15,432.877 1054.19,429.583 1056.23,426.253 1058.27,422.888 1060.31,419.487 1062.34,416.05 1064.38,412.577 1066.42,409.068 1068.46,405.523 \n",
       "  1070.5,401.943 1072.54,398.326 1074.58,394.673 1076.62,390.985 1078.65,387.261 1080.69,383.501 1082.73,379.706 1084.77,375.876 1086.81,372.011 1088.85,368.111 \n",
       "  1090.89,364.176 1092.92,360.208 1094.96,356.205 1097,352.169 1099.04,348.1 1101.08,343.999 1103.12,339.865 1105.16,335.7 1107.2,331.504 1109.23,327.277 \n",
       "  1111.27,323.021 1113.31,318.735 1115.35,314.422 1117.39,310.08 1119.43,305.712 1121.47,301.319 1123.5,296.9 1125.54,292.458 1127.58,287.992 1129.62,283.506 \n",
       "  1131.66,278.998 1133.7,274.472 1135.74,269.927 1137.77,265.366 1139.81,260.79 1141.85,256.2 1143.89,251.598 1145.93,246.985 1147.97,242.364 1150.01,237.736 \n",
       "  1152.05,233.103 1154.08,228.467 1156.12,223.83 1158.16,219.194 1160.2,214.561 1162.24,209.934 1164.28,205.314 1166.32,200.705 1168.35,196.108 1170.39,191.526 \n",
       "  1172.43,186.963 1174.47,182.419 1176.51,177.899 1178.55,173.405 1180.59,168.94 1182.63,164.507 1184.66,160.109 1186.7,155.749 1188.74,151.43 1190.78,147.156 \n",
       "  1192.82,142.928 1194.86,138.752 1196.9,134.629 1198.93,130.564 1200.97,126.56 1203.01,122.619 1205.05,118.746 1207.09,114.943 1209.13,111.215 1211.17,107.564 \n",
       "  1213.21,103.993 1215.24,100.507 1217.28,97.1084 1219.32,93.8003 1221.36,90.5862 1223.4,87.4691 1225.44,84.4523 1227.48,81.5388 1229.51,78.7315 1231.55,76.0336 \n",
       "  1233.59,73.4477 1235.63,70.9767 1237.67,68.6232 1239.71,66.3898 1241.75,64.2789 1243.79,62.293 1245.82,60.4341 1247.86,58.7045 1249.9,57.106 1251.94,55.6405 \n",
       "  1253.98,54.3098 1256.02,53.1153 1258.06,52.0585 1260.09,51.1405 1262.13,50.3625 1264.17,49.7254 1266.21,49.23 1268.25,48.8769 1270.29,48.6664 1272.33,48.599 \n",
       "  1274.37,48.6746 1276.4,48.8932 1278.44,49.2546 1280.48,49.7583 1282.52,50.4038 1284.56,51.1904 1286.6,52.1171 1288.64,53.1829 1290.67,54.3865 1292.71,55.7266 \n",
       "  1294.75,57.2017 1296.79,58.8101 1298.83,60.5499 1300.87,62.4192 1302.91,64.4159 1304.95,66.5379 1306.98,68.7826 1309.02,71.1478 1311.06,73.6308 1313.1,76.229 \n",
       "  1315.14,78.9396 1317.18,81.7597 1319.22,84.6864 1321.25,87.7167 1323.29,90.8475 1325.33,94.0756 1327.37,97.398 1329.41,100.811 1331.45,104.312 1333.49,107.897 \n",
       "  1335.53,111.564 1337.56,115.307 1339.6,119.126 1341.64,123.015 1343.68,126.971 1345.72,130.992 1347.76,135.073 1349.8,139.212 1351.83,143.406 1353.87,147.65 \n",
       "  1355.91,151.942 1357.95,156.279 1359.99,160.657 1362.03,165.073 1364.07,169.525 1366.11,174.009 1368.14,178.522 1370.18,183.062 1372.22,187.626 1374.26,192.211 \n",
       "  1376.3,196.815 1378.34,201.435 1380.38,206.068 1382.41,210.712 1384.45,215.365 1386.49,220.024 1388.53,224.688 1390.57,229.354 1392.61,234.02 1394.65,238.685 \n",
       "  1396.68,243.346 1398.72,248.001 1400.76,252.649 1402.8,257.289 1404.84,261.918 1406.88,266.535 1408.92,271.138 1410.96,275.727 1412.99,280.3 1415.03,284.855 \n",
       "  1417.07,289.391 1419.11,293.908 1421.15,298.404 1423.19,302.877 1425.23,307.328 1427.26,311.754 1429.3,316.156 1431.34,320.531 1433.38,324.88 1435.42,329.201 \n",
       "  1437.46,333.494 1439.5,337.757 1441.54,341.991 1443.57,346.194 1445.61,350.366 1447.65,354.507 1449.69,358.614 1451.73,362.689 1453.77,366.731 1455.81,370.738 \n",
       "  1457.84,374.711 1459.88,378.649 1461.92,382.552 1463.96,386.419 1466,390.25 1468.04,394.045 1470.08,397.802 1472.12,401.523 1474.15,405.207 1476.19,408.853 \n",
       "  1478.23,412.462 1480.27,416.032 1482.31,419.565 1484.35,423.06 1486.39,426.516 1488.42,429.935 1490.46,433.315 1492.5,436.658 1494.54,439.962 1496.58,443.229 \n",
       "  1498.62,446.458 1500.66,449.649 1502.7,452.803 1504.73,455.919 1506.77,458.999 1508.81,462.042 1510.85,465.049 1512.89,468.02 1514.93,470.955 1516.97,473.856 \n",
       "  1519,476.721 1521.04,479.552 1523.08,482.35 1525.12,485.114 1527.16,487.845 1529.2,490.543 1531.24,493.21 1533.28,495.846 1535.31,498.451 1537.35,501.026 \n",
       "  1539.39,503.571 1541.43,506.087 1543.47,508.574 1545.51,511.034 1547.55,513.466 1549.58,515.871 1551.62,518.25 1553.66,520.603 1555.7,522.93 1557.74,525.233 \n",
       "  1559.78,527.511 1561.82,529.765 1563.86,531.996 1565.89,534.204 1567.93,536.388 1569.97,538.551 1572.01,540.691 1574.05,542.81 1576.09,544.907 1578.13,546.983 \n",
       "  1580.16,549.038 1582.2,551.072 1584.24,553.085 1586.28,555.079 1588.32,557.052 1590.36,559.004 1592.4,560.937 1594.44,562.85 1596.47,564.743 1598.51,566.617 \n",
       "  1600.55,568.47 1602.59,570.304 1604.63,572.118 1606.67,573.913 1608.71,575.688 1610.74,577.443 1612.78,579.179 1614.82,580.895 1616.86,582.591 1618.9,584.268 \n",
       "  1620.94,585.926 1622.98,587.564 1625.02,589.182 1627.05,590.781 1629.09,592.361 1631.13,593.922 1633.17,595.463 1635.21,596.985 1637.25,598.489 1639.29,599.973 \n",
       "  1641.32,601.439 1643.36,602.887 1645.4,604.316 1647.44,605.727 1649.48,607.121 1651.52,608.497 1653.56,609.856 1655.59,611.197 1657.63,612.522 1659.67,613.83 \n",
       "  1661.71,615.123 1663.75,616.399 1665.79,617.659 1667.83,618.905 1669.87,620.135 1671.9,621.351 1673.94,622.553 1675.98,623.74 1678.02,624.914 1680.06,626.074 \n",
       "  1682.1,627.221 1684.14,628.355 1686.17,629.477 1688.21,630.586 1690.25,631.683 1692.29,632.768 1694.33,633.841 1696.37,634.903 1698.41,635.953 1700.45,636.992 \n",
       "  1702.48,638.02 1704.52,639.037 1706.56,640.043 1708.6,641.038 1710.64,642.022 1712.68,642.996 1714.72,643.959 1716.75,644.911 1718.79,645.853 1720.83,646.784 \n",
       "  1722.87,647.704 1724.91,648.614 1726.95,649.514 1728.99,650.402 1731.03,651.28 1733.06,652.148 1735.1,653.005 1737.14,653.852 1739.18,654.688 1741.22,655.513 \n",
       "  1743.26,656.328 1745.3,657.133 1747.33,657.927 1749.37,658.711 1751.41,659.486 1753.45,660.25 1755.49,661.004 1757.53,661.749 1759.57,662.484 1761.61,663.21 \n",
       "  1763.64,663.927 1765.68,664.635 1767.72,665.335 1769.76,666.026 1771.8,666.709 1773.84,667.384 1775.88,668.052 1777.91,668.712 1779.95,669.365 1781.99,670.012 \n",
       "  1784.03,670.652 1786.07,671.285 1788.11,671.913 1790.15,672.534 1792.19,673.151 1794.22,673.762 1796.26,674.367 1798.3,674.968 1800.34,675.564 1802.38,676.155 \n",
       "  1804.42,676.741 1806.46,677.323 1808.49,677.9 1810.53,678.473 1812.57,679.041 1814.61,679.605 1816.65,680.164 1818.69,680.718 1820.73,681.267 1822.77,681.812 \n",
       "  1824.8,682.351 1826.84,682.885 1828.88,683.414 1830.92,683.937 1832.96,684.454 1835,684.966 1837.04,685.471 1839.07,685.969 1841.11,686.461 1843.15,686.947 \n",
       "  1845.19,687.425 1847.23,687.896 1849.27,688.36 1851.31,688.817 1853.35,689.266 1855.38,689.709 1857.42,690.143 1859.46,690.57 1861.5,690.99 1863.54,691.403 \n",
       "  1865.58,691.809 1867.62,692.207 1869.65,692.599 1871.69,692.985 1873.73,693.365 1875.77,693.738 1877.81,694.107 1879.85,694.47 1881.89,694.829 1883.92,695.183 \n",
       "  1885.96,695.534 1888,695.881 1890.04,696.226 1892.08,696.569 1894.12,696.909 1896.16,697.248 1898.2,697.586 1900.23,697.924 1902.27,698.261 1904.31,698.599 \n",
       "  1906.35,698.937 1908.39,699.276 1910.43,699.617 1912.47,699.958 1914.5,700.301 1916.54,700.645 1918.58,700.991 1920.62,701.338 1922.66,701.686 1924.7,702.036 \n",
       "  1926.74,702.387 1928.78,702.739 1930.81,703.092 1932.85,703.445 1934.89,703.799 1936.93,704.152 1938.97,704.506 1941.01,704.858 1943.05,705.211 1945.08,705.562 \n",
       "  1947.12,705.912 1949.16,706.261 1951.2,706.61 1953.24,706.957 1955.28,707.303 1957.32,707.649 1959.36,707.994 1961.39,708.34 1963.43,708.686 1965.47,709.033 \n",
       "  1967.51,709.382 1969.55,709.733 1971.59,710.087 1973.63,710.445 1975.66,710.807 1977.7,711.175 1979.74,711.549 1981.78,711.929 1983.82,712.315 1985.86,712.709 \n",
       "  1987.9,713.111 1989.94,713.52 1991.97,713.937 1994.01,714.36 1996.05,714.79 1998.09,715.226 2000.13,715.667 2002.17,716.112 2004.21,716.558 2006.24,717.006 \n",
       "  2008.28,717.452 2010.32,717.895 2012.36,718.334 2014.4,718.765 2016.44,719.188 2018.48,719.6 2020.52,720 2022.55,720.386 2024.59,720.757 2026.63,721.111 \n",
       "  2028.67,721.447 2030.71,721.767 2032.75,722.068 2034.79,722.352 2036.82,722.62 2038.86,722.873 2040.9,723.111 2042.94,723.337 2044.98,723.553 2047.02,723.761 \n",
       "  2049.06,723.963 2051.1,724.161 2053.13,724.358 2055.17,724.556 2057.21,724.755 2059.25,724.958 2061.29,725.166 2063.33,725.378 2065.37,725.595 2067.4,725.816 \n",
       "  2069.44,726.041 2071.48,726.266 2073.52,726.492 2075.56,726.715 2077.6,726.932 2079.64,727.142 2081.68,727.341 2083.71,727.528 2085.75,727.7 2087.79,727.855 \n",
       "  2089.83,727.991 2091.87,728.109 2093.91,728.207 2095.95,728.286 2097.98,728.347 2100.02,728.389 2102.06,728.417 2104.1,728.43 2106.14,728.431 2108.18,728.422 \n",
       "  2110.22,728.408 2112.26,728.388 2114.29,728.365 2116.33,728.343 2118.37,728.324 2120.41,728.307 2122.45,728.3 2124.49,728.301 2126.53,728.312 2128.56,728.337 \n",
       "  2130.6,728.372 2132.64,728.422 2134.68,728.486 2136.72,728.561 2138.76,728.643 2140.8,728.731 2142.83,728.814 2144.87,728.886 2146.91,728.941 2148.95,728.967 \n",
       "  2150.99,728.953 2153.03,728.904 2155.07,728.798 2157.11,728.654 2159.14,728.464 2161.18,728.242 2163.22,728.01 2165.26,727.789 2167.3,727.597 2169.34,727.48 \n",
       "  2171.38,727.426 2173.41,727.503 2175.45,727.689 2177.49,728.005 2179.53,728.419 2181.57,728.932 2183.61,729.459 2185.65,729.981 2187.69,730.481 2189.72,730.872 \n",
       "  2191.76,731.176 2193.8,731.381 2195.84,731.444 2197.88,731.473 2199.92,731.503 2201.96,731.553 2203.99,731.653 2206.03,731.849 2208.07,732.088 2210.11,732.226 \n",
       "  2212.15,732.445 2214.19,732.515 2216.23,732.548 2218.27,732.504 2220.3,732.617 2222.34,732.861 2224.38,733.471 2226.42,734.275 2228.46,735.257 2230.5,736.251 \n",
       "  2232.54,736.918 2234.57,737.04 2236.61,736.734 2238.65,736.675 2240.69,737.015 2242.73,737.988 2244.77,739.709 2246.81,740.756 2248.85,740.668 2250.88,738.603 \n",
       "  2252.92,736.586 2254.96,736.991 2257,741.311 2259.04,744.93 2261.08,740.563 2263.12,726.342 2265.15,726.114 2267.19,780.2 2269.23,857.881 2271.27,736.501 \n",
       "  2273.31,168.39 2275.35,-101.397 2277.39,2985.65 2279.43,10632.7 2281.46,448.726 2283.5,-95439.9 2285.54,-208015 2287.58,836978 2289.62,4.1943e+06 2291.66,742.518 \n",
       "  \n",
       "  \"/>\n",
       "<path clip-path=\"url(#clip850)\" d=\"\n",
       "M265.897 250.738 L534.209 250.738 L534.209 95.2176 L265.897 95.2176  Z\n",
       "  \" fill=\"#ffffff\" fill-rule=\"evenodd\" fill-opacity=\"1\"/>\n",
       "<polyline clip-path=\"url(#clip850)\" style=\"stroke:#000000; stroke-linecap:round; stroke-linejoin:round; stroke-width:4; stroke-opacity:1; fill:none\" points=\"\n",
       "  265.897,250.738 534.209,250.738 534.209,95.2176 265.897,95.2176 265.897,250.738 \n",
       "  \"/>\n",
       "<polyline clip-path=\"url(#clip850)\" style=\"stroke:#009af9; stroke-linecap:round; stroke-linejoin:round; stroke-width:4; stroke-opacity:1; fill:none\" points=\"\n",
       "  289.884,147.058 433.805,147.058 \n",
       "  \"/>\n",
       "<path clip-path=\"url(#clip850)\" d=\"M471.634 166.745 Q469.829 171.375 468.116 172.787 Q466.403 174.199 463.532 174.199 L460.13 174.199 L460.13 170.634 L462.63 170.634 Q464.389 170.634 465.361 169.8 Q466.333 168.967 467.514 165.865 L468.278 163.921 L457.792 138.412 L462.306 138.412 L470.407 158.689 L478.509 138.412 L483.023 138.412 L471.634 166.745 Z\" fill=\"#000000\" fill-rule=\"evenodd\" fill-opacity=\"1\" /><path clip-path=\"url(#clip850)\" d=\"M490.315 160.402 L497.954 160.402 L497.954 134.037 L489.643 135.703 L489.643 131.444 L497.907 129.778 L502.583 129.778 L502.583 160.402 L510.222 160.402 L510.222 164.338 L490.315 164.338 L490.315 160.402 Z\" fill=\"#000000\" fill-rule=\"evenodd\" fill-opacity=\"1\" /><polyline clip-path=\"url(#clip850)\" style=\"stroke:#e26f46; stroke-linecap:round; stroke-linejoin:round; stroke-width:4; stroke-opacity:1; fill:none\" points=\"\n",
       "  289.884,198.898 433.805,198.898 \n",
       "  \"/>\n",
       "<path clip-path=\"url(#clip850)\" d=\"M471.634 218.585 Q469.829 223.215 468.116 224.627 Q466.403 226.039 463.532 226.039 L460.13 226.039 L460.13 222.474 L462.63 222.474 Q464.389 222.474 465.361 221.64 Q466.333 220.807 467.514 217.705 L468.278 215.761 L457.792 190.252 L462.306 190.252 L470.407 210.529 L478.509 190.252 L483.023 190.252 L471.634 218.585 Z\" fill=\"#000000\" fill-rule=\"evenodd\" fill-opacity=\"1\" /><path clip-path=\"url(#clip850)\" d=\"M493.532 212.242 L509.852 212.242 L509.852 216.178 L487.907 216.178 L487.907 212.242 Q490.569 209.488 495.153 204.858 Q499.759 200.205 500.94 198.863 Q503.185 196.34 504.065 194.604 Q504.967 192.844 504.967 191.155 Q504.967 188.4 503.023 186.664 Q501.102 184.928 498 184.928 Q495.801 184.928 493.347 185.692 Q490.917 186.455 488.139 188.006 L488.139 183.284 Q490.963 182.15 493.417 181.571 Q495.87 180.993 497.907 180.993 Q503.278 180.993 506.472 183.678 Q509.666 186.363 509.666 190.854 Q509.666 192.983 508.856 194.905 Q508.069 196.803 505.963 199.395 Q505.384 200.067 502.282 203.284 Q499.18 206.479 493.532 212.242 Z\" fill=\"#000000\" fill-rule=\"evenodd\" fill-opacity=\"1\" /></svg>\n"
      ]
     },
     "metadata": {},
     "output_type": "display_data"
    }
   ],
   "source": [
    "# TODO: repeat the experiment with `n = 400` and observe what has changed.\n",
    "n = 400\n",
    "𝐱 = range(-1, 1; length=n)\n",
    "𝐠 = range(-1, 1; length=1000) # plotting grid\n",
    "\n",
    "V_x = vandermonde(𝐱, n)\n",
    "V_g = vandermonde(𝐠, n)\n",
    "f_4 = x -> 1/(4x^2 + 1)\n",
    "𝐜_4 = V_x \\ f_4.(𝐱)\n",
    "f_25 = x -> 1/(25x^2 + 1)\n",
    "𝐜_25 = V_x \\ f_25.(𝐱)\n",
    "\n",
    "plot(𝐠, V_g*𝐜_4; ylims=(-1,1))\n",
    "plot!(𝐠, V_g*𝐜_25)"
   ]
  },
  {
   "attachments": {},
   "cell_type": "markdown",
   "metadata": {},
   "source": [
    "**??? Problem 1.3** Repeat the previous problem but now using _least squares_: instead of interpolating,\n",
    "use least squares on a large grid: choose the coefficients of a degree $(n-1)$ polynomial so that\n",
    "$$\n",
    "    \\left\\| \\begin{bmatrix} p(x_1) \\\\ ⋮ \\\\ p(x_m) \\end{bmatrix} - \\begin{bmatrix} f(x_1) \\\\ ⋮ \\\\ f(x_m) \\end{bmatrix} \\right \\|.\n",
    "$$\n",
    "is minimised.\n",
    "Does this improve the convergence properties? Do you think convergence for a least squares approximation\n",
    "is dictated by the radius of convergence of the corresponding Taylor series?\n",
    "Hint: use the rectangular Vandermonde matrix to setup the Least squares system."
   ]
  },
  {
   "cell_type": "code",
   "execution_count": 5,
   "metadata": {},
   "outputs": [
    {
     "data": {
      "text/plain": [
       "-1.0:0.0010005002501250625:1.0"
      ]
     },
     "execution_count": 5,
     "metadata": {},
     "output_type": "execute_result"
    }
   ],
   "source": [
    "n = 50 # use basis [1,x,…,x^(49)]\n",
    "𝐱 = range(-1, 1; length=500) # least squares grid\n",
    "𝐠 = range(-1, 1; length=2000) # plotting grid\n",
    "\n",
    "# TODO: interpolate 1/(10x^2 + 1) and 1/(25x^2 + 1) at $𝐱$, plotting both solutions evaluated at\n",
    "# the grid 𝐠. Hint: use a rectangular Vandermonde matrix to evaluate your polynomial on 𝐠. Remember\n",
    "# `plot(𝐱, 𝐟)` will create a new plot whilst `plot!(𝐱, 𝐟)` will add to an existing plot.\n",
    "\n",
    "# ???"
   ]
  },
  {
   "cell_type": "markdown",
   "metadata": {},
   "source": [
    "-------"
   ]
  },
  {
   "cell_type": "markdown",
   "metadata": {},
   "source": [
    "In lectures we did a quick-and-dirty implementation of Householder QR.\n",
    "One major issue though: it used $O(m^2 n^2)$ operations, which is too many!\n",
    "By being more careful about how we apply and store reflections we can avoid this,\n",
    "in particular, taking advantage of the types `Reflection` and `Reflections` we developed\n",
    "last lab."
   ]
  },
  {
   "attachments": {},
   "cell_type": "markdown",
   "metadata": {},
   "source": [
    "**??? Problem 2** Complete the following function that implements\n",
    "Householder QR for a real matrix $A ∈ ℝ^{m × n}$ where $m ≥ n$ using only $O(mn^2)$ operations, using\n",
    " `Reflection` and `Reflections` from PS5.\n",
    "Hint: We have added the overload functions `*(::Reflection, ::AbstractMatrix)` and\n",
    "`*(::Reflections, ::AbstractMatrix)` so that they can be multiplied by an $m × n$ matrix in $O(mn)$ operations."
   ]
  },
  {
   "cell_type": "code",
   "execution_count": 6,
   "metadata": {},
   "outputs": [
    {
     "data": {
      "text/plain": [
       "\u001b[33m\u001b[1mTest Broken\u001b[22m\u001b[39m\n",
       "  Expression: Q * R ≈ A"
      ]
     },
     "execution_count": 6,
     "metadata": {},
     "output_type": "execute_result"
    }
   ],
   "source": [
    "import Base: *, size, getindex\n",
    "\n",
    "struct Reflection{T} <: AbstractMatrix{T}\n",
    "    v::Vector{T}\n",
    "end\n",
    "\n",
    "Reflection(x::Vector{T}) where T = Reflection{T}(x/norm(x))\n",
    "\n",
    "function size(Q::Reflection)\n",
    "    (length(Q.v),length(Q.v))\n",
    "end\n",
    "\n",
    "# getindex(Q, k, j) is synonym for Q[k,j]\n",
    "function getindex(Q::Reflection, k::Int, j::Int)\n",
    "    # TODO: implement Q[k,j] == (I - 2v*v')[k,j] but using O(1) operations.\n",
    "    # Hint: the function `conj` gives the complex-conjugate\n",
    "    # SOLUTION\n",
    "    if k == j\n",
    "        1 - 2Q.v[k]*conj(Q.v[j])\n",
    "    else\n",
    "        - 2Q.v[k]*conj(Q.v[j])\n",
    "    end\n",
    "    # END\n",
    "end\n",
    "function *(Q::Reflection, x::AbstractVector)\n",
    "    # TODO: implement Q*x, equivalent to (I - 2v*v')*x but using only O(n) operations\n",
    "    # SOLUTION\n",
    "    x - 2*Q.v * dot(Q.v,x) # (Q.v'*x) also works instead of dot\n",
    "    # END\n",
    "end\n",
    "\n",
    "function householderreflection(s::Bool, x::AbstractVector)\n",
    "    # TODO: return a `Reflection` corresponding to a Householder reflection\n",
    "    # SOLUTION\n",
    "    y = copy(x) # don't modify `x`\n",
    "    if s\n",
    "        y[1] -= norm(x)\n",
    "    else\n",
    "        y[1] += norm(x)\n",
    "    end\n",
    "    Reflection(y)\n",
    "    # END\n",
    "end\n",
    "\n",
    "struct Reflections{T} <: AbstractMatrix{T}\n",
    "    V::Matrix{T}\n",
    "end\n",
    "\n",
    "size(Q::Reflections) = (size(Q.V,1), size(Q.V,1))\n",
    "\n",
    "\n",
    "function *(Q::Reflections, x::AbstractVector)\n",
    "    # TODO: Apply Q in O(mn) operations by applying\n",
    "    # the reflection corresponding to each column of Q.V to x\n",
    "\n",
    "    # SOLUTION\n",
    "    m,n = size(Q.V)\n",
    "    for j = n:-1:1\n",
    "        x = Reflection(Q.V[:, j]) * x\n",
    "    end\n",
    "    # END\n",
    "\n",
    "    x\n",
    "end\n",
    "\n",
    "function getindex(Q::Reflections, k::Int, j::Int)\n",
    "    # TODO: Return Q[k,j] in O(mn) operations (hint: use *)\n",
    "\n",
    "    # SOLUTION\n",
    "    T = eltype(Q.V)\n",
    "    m,n = size(Q)\n",
    "    ej = zeros(T, m)\n",
    "    ej[j] = one(T)\n",
    "    return (Q*ej)[k]\n",
    "    # END\n",
    "end\n",
    "\n",
    "## Implementations of Reflection * AbstractMatrix\n",
    "function *(Q::Reflection, X::AbstractMatrix)\n",
    "    T = promote_type(eltype(Q), eltype(X))\n",
    "    m,n = size(X)\n",
    "    ret = zeros(T, m, n)\n",
    "    for j = 1:n\n",
    "        ret[:,j] = Q * X[:,j]\n",
    "    end\n",
    "    ret\n",
    "end\n",
    "\n",
    "## Implementations of Reflections * AbstractMatrix\n",
    "function *(Q::Reflections, X::AbstractMatrix)\n",
    "    T = promote_type(eltype(Q), eltype(X))\n",
    "    m,n = size(X)\n",
    "    ret = zeros(T, m, n)\n",
    "    for j = 1:n\n",
    "        ret[:,j] = Q * X[:,j]\n",
    "    end\n",
    "    ret\n",
    "end\n",
    "\n",
    "function householderqr(A)\n",
    "    T = eltype(A)\n",
    "    m,n = size(A)\n",
    "    if n > m\n",
    "        error(\"More columns than rows is not supported\")\n",
    "    end\n",
    "\n",
    "    R = zeros(T, m, n)\n",
    "    Q = Reflections(zeros(T, m, n))\n",
    "    Aⱼ = copy(A)\n",
    "\n",
    "    for j = 1:n\n",
    "        # TODO: rewrite householder QR to use Reflection and\n",
    "        # Reflections, in a way that one achieves O(mn^2) operations\n",
    "        a₁ = Aⱼ[:, j]\n",
    "        Q₁ = \n",
    "    end\n",
    "    Q,R\n",
    "end\n",
    "\n",
    "A = randn(600,400)\n",
    "Q,R = householderqr(A)\n",
    "@test Q*R ≈ A"
   ]
  },
  {
   "cell_type": "markdown",
   "metadata": {},
   "source": [
    "--------"
   ]
  },
  {
   "cell_type": "markdown",
   "metadata": {},
   "source": [
    "We now consider a Cholesky factorisation for tridiagonal matrices. Since we are assuming the\n",
    "matrix is symmetric, we will use a special type `SymTridiagonal` that captures the symmetry.\n",
    "In particular, `SymTridiagonal(dv, eu) == Tridiagonal(ev, dv, ev)`."
   ]
  },
  {
   "cell_type": "markdown",
   "metadata": {},
   "source": [
    "**Problem 3** Complete the following\n",
    "implementation of `mycholesky` to return a `Bidiagonal` cholesky factor in $O(n)$ operations."
   ]
  },
  {
   "cell_type": "code",
   "execution_count": 7,
   "metadata": {},
   "outputs": [
    {
     "data": {
      "text/plain": [
       "\u001b[33m\u001b[1mTest Broken\u001b[22m\u001b[39m\n",
       "  Expression: L * L' ≈ A"
      ]
     },
     "execution_count": 7,
     "metadata": {},
     "output_type": "execute_result"
    }
   ],
   "source": [
    "# return a Bidiagonal L such that L'L == A (up to machine precision)\n",
    "# You are allowed to change A\n",
    "function mycholesky(A::SymTridiagonal)\n",
    "    d = A.dv # diagonal entries of A\n",
    "    u = A.ev # sub/super-diagonal entries of A\n",
    "    T = float(eltype(A)) # return type, make float in case A has Ints\n",
    "    n = length(d)\n",
    "    ld = zeros(T, n) # diagonal entries of L\n",
    "    ll = zeros(T, n-1) # sub-diagonal entries of L\n",
    "\n",
    "    ## TODO: populate the diagonal entries ld and the sub-diagonal entries ll\n",
    "    # of L so that L*L' ≈ A\n",
    "\n",
    "\n",
    "    Bidiagonal(ld, ll, :L)\n",
    "end\n",
    "\n",
    "n = 1000\n",
    "A = SymTridiagonal(2*ones(n),-ones(n-1))\n",
    "L = mycholesky(A)\n",
    "@test_broken L*L' ≈ A"
   ]
  },
  {
   "cell_type": "markdown",
   "metadata": {},
   "source": [
    "------"
   ]
  },
  {
   "cell_type": "markdown",
   "metadata": {},
   "source": [
    "## Advanced"
   ]
  },
  {
   "cell_type": "markdown",
   "metadata": {},
   "source": [
    "This last problem is advanced so may be considered optional."
   ]
  },
  {
   "cell_type": "markdown",
   "metadata": {},
   "source": [
    "An alternative to using reflections to introduce zeros is to use rotations.\n",
    "This is particularly convenient for tridiagonal matrices, where one needs to only\n",
    "make one sub-diagonal zero. Here we explore a tridiagonal QR built from rotations\n",
    "in a way that the factorisation can be computed in $O(n)$ operations."
   ]
  },
  {
   "cell_type": "markdown",
   "metadata": {},
   "source": [
    "**Problem 4.1** Complete the implementation of `Rotations`, which represents an orthogonal matrix `Q` that is a product\n",
    "of rotations of angle `θ[k]`, each acting on the entries `k:k+1`. That is, it returns $Q = Q_1⋯Q_k$ such that\n",
    "$$\n",
    "Q_k[k:k+1,k:k+1] =\n",
    "\\begin{bmatrix}\n",
    "\\cos θ[k] & -\\sin θ[k]\\\\\n",
    "\\sin θ[k] & \\cos θ[k]\n",
    "\\end{bmatrix}\n",
    "$$"
   ]
  },
  {
   "cell_type": "code",
   "execution_count": 8,
   "metadata": {},
   "outputs": [
    {
     "data": {
      "text/plain": [
       "\u001b[33m\u001b[1mTest Broken\u001b[22m\u001b[39m\n",
       "  Expression: Rotations([π / 2, -π / 2]) ≈ [0 0 -1; 1 0 0; 0 -1 0]"
      ]
     },
     "execution_count": 8,
     "metadata": {},
     "output_type": "execute_result"
    }
   ],
   "source": [
    "struct Rotations{T} <: AbstractMatrix{T}\n",
    "    θ::Vector{T} # a vector of angles\n",
    "end\n",
    "\n",
    "import Base: *, size, getindex\n",
    "\n",
    "# we use the number of rotations to deduce the dimensions of the matrix\n",
    "size(Q::Rotations) = (length(Q.θ)+1, length(Q.θ)+1)\n",
    "\n",
    "function *(Q::Rotations, x::AbstractVector)\n",
    "    T = promote_type(eltype(Q), eltype(x))\n",
    "    y = Vector{T}(x) # copies x to a new Vector whose eltype is T\n",
    "    # TODO: Apply Q in O(n) operations, modifying y in-place\n",
    "\n",
    "\n",
    "\n",
    "    y\n",
    "end\n",
    "\n",
    "function getindex(Q::Rotations, k::Int, j::Int)\n",
    "    # TODO: Return Q[k,j] in O(n) operations (hint: use *)\n",
    "\n",
    "\n",
    "end\n",
    "\n",
    "θ1 = randn(5)\n",
    "Q = Rotations(θ1)\n",
    "@test_broken Q'Q ≈ I\n",
    "@test_broken Rotations([π/2, -π/2]) ≈ [0 0 -1; 1 0 0; 0 -1 0]"
   ]
  },
  {
   "cell_type": "markdown",
   "metadata": {},
   "source": [
    "When one computes a tridiagonal QR, we introduce entries in the\n",
    "second super-diagonal. Thus we will use the `UpperTridiagonal` type\n",
    "from Lab 4:"
   ]
  },
  {
   "cell_type": "code",
   "execution_count": 9,
   "metadata": {},
   "outputs": [
    {
     "data": {
      "text/plain": [
       "setindex! (generic function with 135 methods)"
      ]
     },
     "execution_count": 9,
     "metadata": {},
     "output_type": "execute_result"
    }
   ],
   "source": [
    "import Base: *, size, getindex, setindex!\n",
    "struct UpperTridiagonal{T} <: AbstractMatrix{T}\n",
    "    d::Vector{T}   # diagonal entries\n",
    "    du::Vector{T}  # super-diagonal enries\n",
    "    du2::Vector{T} # second-super-diagonal entries\n",
    "end\n",
    "\n",
    "size(U::UpperTridiagonal) = (length(U.d),length(U.d))\n",
    "\n",
    "function getindex(U::UpperTridiagonal, k::Int, j::Int)\n",
    "    d,du,du2 = U.d,U.du,U.du2\n",
    "    if j - k == 0\n",
    "        d[j]\n",
    "    elseif j - k == 1\n",
    "        du[k]\n",
    "    elseif j - k == 2\n",
    "        du2[k]\n",
    "    else\n",
    "        0\n",
    "    end\n",
    "end\n",
    "\n",
    "function setindex!(U::UpperTridiagonal, v, k::Int, j::Int)\n",
    "    d,du,du2 = U.d,U.du,U.du2\n",
    "    if j > k+2\n",
    "        error(\"Cannot modify off-band\")\n",
    "    end\n",
    "    if j - k == 0\n",
    "        d[k] = v\n",
    "    elseif j - k == 1\n",
    "        du[k] = v\n",
    "    elseif j - k == 2\n",
    "        du2[k] = v\n",
    "    else\n",
    "        error(\"Cannot modify off-band\")\n",
    "    end\n",
    "    U # by convention we return the matrix\n",
    "end"
   ]
  },
  {
   "cell_type": "markdown",
   "metadata": {},
   "source": [
    "**Problem 4.2** Combine `Rotations` and `UpperTridiagonal` from last problem sheet\n",
    "to implement a banded QR decomposition, `bandedqr`, that only takes $O(n)$ operations. Hint: the\n",
    "`atan(y,x)` function gives the angle of a vector `[x,y]`."
   ]
  },
  {
   "cell_type": "code",
   "execution_count": 10,
   "metadata": {},
   "outputs": [
    {
     "data": {
      "text/plain": [
       "\u001b[33m\u001b[1mTest Broken\u001b[22m\u001b[39m\n",
       "  Expression: Q * R ≈ A"
      ]
     },
     "execution_count": 10,
     "metadata": {},
     "output_type": "execute_result"
    }
   ],
   "source": [
    "function bandedqr(A::Tridiagonal)\n",
    "    n = size(A, 1)\n",
    "    Q = Rotations(zeros(n - 1)) # Assume Float64\n",
    "    R = UpperTridiagonal(zeros(n), zeros(n - 1), zeros(n - 2))\n",
    "\n",
    "    # TODO: Populate Q and R by looping through the columns of A.\n",
    "\n",
    "\n",
    "    Q, R\n",
    "end\n",
    "\n",
    "A = Tridiagonal([1, 2, 3, 4], [1, 2, 3, 4, 5], [1, 2, 3, 4])\n",
    "Q, R = bandedqr(A)\n",
    "@test_broken Q*R ≈ A"
   ]
  },
  {
   "cell_type": "markdown",
   "metadata": {},
   "source": [
    "---\n",
    "\n",
    "*This notebook was generated using [Literate.jl](https://github.com/fredrikekre/Literate.jl).*"
   ]
  }
 ],
 "metadata": {
  "kernelspec": {
   "display_name": "Julia 1.8.5",
   "language": "julia",
   "name": "julia-1.8"
  },
  "language_info": {
   "file_extension": ".jl",
   "mimetype": "application/julia",
   "name": "julia",
   "version": "1.8.5"
  }
 },
 "nbformat": 4,
 "nbformat_minor": 3
}
