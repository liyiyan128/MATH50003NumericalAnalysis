{
 "cells": [
  {
   "cell_type": "code",
   "execution_count": 1,
   "metadata": {},
   "outputs": [],
   "source": [
    "using LinearAlgebra, Plots, SetRounding, ColorBitstring, Test\n",
    "\n",
    "import Base: getindex, setindex!, size, *, \\"
   ]
  },
  {
   "attachments": {},
   "cell_type": "markdown",
   "metadata": {},
   "source": [
    "### Reflection"
   ]
  },
  {
   "cell_type": "code",
   "execution_count": null,
   "metadata": {},
   "outputs": [],
   "source": [
    "# Represents I - 2v*v'\n",
    "struct Reflection{T} <: AbstractMatrix{T}\n",
    "    v::Vector{T}\n",
    "end\n",
    "\n",
    "Reflection(x::Vector{T}) where T = Reflection{T}(x/norm(x))\n",
    "\n",
    "function size(Q::Reflection)\n",
    "    (length(Q.v),length(Q.v))\n",
    "end\n",
    "\n",
    "# getindex(Q, k, j) is synonym for Q[k,j]\n",
    "function getindex(Q::Reflection, k::Int, j::Int)\n",
    "    # Implement Q[k,j] == (I - 2v*v')[k,j] but using O(1) operations.\n",
    "    # Hint: the function `conj` gives the complex-conjugate\n",
    "    if k == j\n",
    "        1 - 2Q.v[k]*conj(Q.v[j])\n",
    "    else\n",
    "        - 2Q.v[k]*conj(Q.v[j])\n",
    "    end\n",
    "end\n",
    "function *(Q::Reflection, x::AbstractVector)\n",
    "    # Implement Q*x, equivalent to (I - 2v*v')*x\n",
    "    # but using only O(n) operations\n",
    "    x - 2*Q.v * dot(Q.v,x) # (Q.v'*x) also works instead of dot\n",
    "end"
   ]
  },
  {
   "attachments": {},
   "cell_type": "markdown",
   "metadata": {},
   "source": [
    "### Reflections"
   ]
  },
  {
   "cell_type": "code",
   "execution_count": null,
   "metadata": {},
   "outputs": [],
   "source": [
    "struct Reflections{T} <: AbstractMatrix{T}\n",
    "    V::Matrix{T}\n",
    "end\n",
    "\n",
    "size(Q::Reflections) = (size(Q.V,1), size(Q.V,1))\n",
    "\n",
    "function *(Q::Reflections, x::AbstractVector)\n",
    "    # Apply Q in O(mn) operations by applying\n",
    "    # the reflection corresponding to each column of Q.V to x\n",
    "    m,n = size(Q.V)\n",
    "    for j = n:-1:1\n",
    "        x = Reflection(Q.V[:, j]) * x\n",
    "    end\n",
    "\n",
    "    x\n",
    "end\n",
    "\n",
    "function getindex(Q::Reflections, k::Int, j::Int)\n",
    "    # Return Q[k,j] in O(mn) operations (hint: use *)\n",
    "    T = eltype(Q.V)\n",
    "    m,n = size(Q)\n",
    "    ej = zeros(T, m)\n",
    "    ej[j] = one(T)\n",
    "    return (Q*ej)[k]\n",
    "end"
   ]
  },
  {
   "attachments": {},
   "cell_type": "markdown",
   "metadata": {},
   "source": [
    "### Householder reflection"
   ]
  },
  {
   "cell_type": "code",
   "execution_count": null,
   "metadata": {},
   "outputs": [],
   "source": [
    "function householderreflection(s::Bool, x::AbstractVector)\n",
    "    # Return a `Reflection` corresponding to a Householder reflection\n",
    "    y = copy(x) # don't modify `x`\n",
    "    if s\n",
    "        y[1] -= norm(x)\n",
    "    else\n",
    "        y[1] += norm(x)\n",
    "    end\n",
    "    Reflection(y)\n",
    "end"
   ]
  },
  {
   "attachments": {},
   "cell_type": "markdown",
   "metadata": {},
   "source": [
    "### QR (Householder)\n",
    "$O(mn^{2})$ using `Reflection` and `Reflections`"
   ]
  },
  {
   "cell_type": "code",
   "execution_count": null,
   "metadata": {},
   "outputs": [],
   "source": [
    "function householderqr(A)\n",
    "    T = eltype(A)\n",
    "    m,n = size(A)\n",
    "    if n > m\n",
    "        error(\"More columns than rows is not supported\")\n",
    "    end\n",
    "\n",
    "    R = zeros(T, m, n)\n",
    "    Q = Reflections(zeros(T, m, n))\n",
    "    Aⱼ = copy(A)\n",
    "\n",
    "    for j = 1:n\n",
    "        # Rewrite householder QR to use Reflection and Reflections,\n",
    "        # in a way that one achieves O(mn^2) operations\n",
    "        𝐚₁ = Aⱼ[:,1] # first columns of Aⱼ\n",
    "        Q₁ = householderreflection(𝐚₁[1] < 0, 𝐚₁)\n",
    "        Q₁Aⱼ = Q₁*Aⱼ\n",
    "        α,𝐰 = Q₁Aⱼ[1,1],Q₁Aⱼ[1,2:end]\n",
    "        Aⱼ₊₁ = Q₁Aⱼ[2:end,2:end]\n",
    "\n",
    "        # populate returned data\n",
    "        R[j,j] = α\n",
    "        R[j,j+1:end] = 𝐰\n",
    "\n",
    "        Q.V[j:end, j] = Q₁.v\n",
    "\n",
    "        Aⱼ = Aⱼ₊₁ # this is the \"induction\"\n",
    "    end\n",
    "    Q,R\n",
    "end"
   ]
  },
  {
   "cell_type": "code",
   "execution_count": 39,
   "metadata": {},
   "outputs": [
    {
     "data": {
      "text/plain": [
       "myqr (generic function with 1 method)"
      ]
     },
     "metadata": {},
     "output_type": "display_data"
    }
   ],
   "source": [
    "function myqr(A)\n",
    "    T = eltype(A)\n",
    "    m, n = size(A)\n",
    "    m >= n || error(\"m < n\")\n",
    "\n",
    "    R = copy(A)\n",
    "    Q = Matrix(one(T)*I, m, m)\n",
    "    for j = 1:n \n",
    "        y = R[j:end, j]\n",
    "        y[1] -= norm(y)\n",
    "        w = y / norm(y)\n",
    "\n",
    "        Qₓ = I - 2 * w * w'\n",
    "        R[j:end, j:end] = Qₓ * R[j:end, j:end]\n",
    "        Q[:, j:end] = Q[:, j:end] * Qₓ\n",
    "    end\n",
    "\n",
    "    Q, R\n",
    "end"
   ]
  },
  {
   "attachments": {},
   "cell_type": "markdown",
   "metadata": {},
   "source": [
    "### Cholesky\n",
    "for tridiagonal matrices, use `SymTridiagonal`\n",
    "\n",
    "`SymTridiagonal(dv, eu) == Tridiagonal(ev, dv, ev)`\n"
   ]
  },
  {
   "cell_type": "code",
   "execution_count": null,
   "metadata": {},
   "outputs": [],
   "source": [
    "# Return a Bidiagonal L such that L'L == A (up to machine precision)\n",
    "function mycholesky(A::SymTridiagonal)\n",
    "    d = A.dv # diagonal entries of A\n",
    "    u = A.ev # sub/super-diagonal entries of A\n",
    "    T = float(eltype(A)) # return type, make float in case A has Ints\n",
    "    n = length(d)\n",
    "    ld = zeros(T, n) # diagonal entries of L\n",
    "    ll = zeros(T, n-1) # sub-diagonal entries of L\n",
    "\n",
    "    # Populate the diagonal entries ld and\n",
    "    # the sub-diagonal entries ll of L so that L*L' ≈ A\n",
    "    ld[1] = sqrt(d[1])\n",
    "    for k = 1:n-1\n",
    "        ll[k] = u[k]/ld[k]\n",
    "        ld[k+1] = sqrt(d[k+1]-ll[k]^2)\n",
    "    end\n",
    "\n",
    "    Bidiagonal(ld, ll, :L)\n",
    "end"
   ]
  },
  {
   "cell_type": "code",
   "execution_count": 4,
   "metadata": {},
   "outputs": [
    {
     "data": {
      "text/plain": [
       "mycholesky (generic function with 1 method)"
      ]
     },
     "metadata": {},
     "output_type": "display_data"
    }
   ],
   "source": [
    "function mycholesky(A)\n",
    "    T = eltype(A)\n",
    "    n, m = size(A)\n",
    "    n == m || error(\"Not square\")\n",
    "    A == A' || error(\"Not symmetric\")\n",
    "\n",
    "    L = LowerTriangular(zeros(T, n, n))\n",
    "    Aⱼ = copy(A)\n",
    "    for j = 1:n \n",
    "        α, 𝐯 = Aⱼ[1, 1], Aⱼ[2:end, 1]\n",
    "        α > 0 || error(\"Not SPD\")\n",
    "\n",
    "        L[j, j] = sqrt(α)\n",
    "        L[j+1:end, j] = 𝐯 / sqrt(α)\n",
    "\n",
    "        Aⱼ = Aⱼ[2:end, 2:end] - 𝐯*𝐯'/α\n",
    "    end\n",
    "    L\n",
    "end"
   ]
  },
  {
   "attachments": {},
   "cell_type": "markdown",
   "metadata": {},
   "source": [
    "### SVD best rank approximation"
   ]
  },
  {
   "cell_type": "code",
   "execution_count": null,
   "metadata": {},
   "outputs": [],
   "source": [
    "function svdcompress(A::Matrix, k::Integer)\n",
    "    U,σ,V = svd(A)\n",
    "    U[:,1:k] * Diagonal(σ[1:k]) * V[:,1:k]'\n",
    "end"
   ]
  },
  {
   "attachments": {},
   "cell_type": "markdown",
   "metadata": {},
   "source": [
    "### Numerical rank\n",
    "the smallest integer `k` s.t. `opnorm(A - svdcompress(A, k)) ≤ ε`"
   ]
  },
  {
   "cell_type": "code",
   "execution_count": null,
   "metadata": {},
   "outputs": [],
   "source": [
    "function svdcompress_rank(A::Matrix, ε::Real)\n",
    "    # Determine and return rank-k approximation\n",
    "    σ = svdvals(A)\n",
    "    for k = 1:length(σ)\n",
    "        if σ[k] ≤ ε\n",
    "            return k-1\n",
    "        end\n",
    "    end\n",
    "    return length(σ)\n",
    "end"
   ]
  },
  {
   "attachments": {},
   "cell_type": "markdown",
   "metadata": {},
   "source": [
    "### SVD pseudo-inverse $A^+$"
   ]
  },
  {
   "cell_type": "code",
   "execution_count": null,
   "metadata": {},
   "outputs": [],
   "source": [
    "function pseudoinv(A)\n",
    "    m,n = size(A)\n",
    "    m == n || error(\"A must be square\")\n",
    "    tol = 1E-15 # threshold below which we assume a singular value is zero\n",
    "    # Construct and return the pseudo inverse of A\n",
    "    U,σ,V = svd(A)\n",
    "    r = 0\n",
    "    for k = 1:length(σ)\n",
    "        if σ[k] > tol\n",
    "            r += 1\n",
    "        end\n",
    "    end\n",
    "    V[:,1:r] * Diagonal(inv.(σ[1:r])) * U[:,1:r]'\n",
    "end"
   ]
  },
  {
   "attachments": {},
   "cell_type": "markdown",
   "metadata": {},
   "source": [
    "Vandermonde matrix"
   ]
  },
  {
   "cell_type": "code",
   "execution_count": null,
   "metadata": {},
   "outputs": [],
   "source": [
    "function vandermonde(𝐱, n) # 𝐱 = [x_1,…,x_m]\n",
    "    # [𝐱[j]^k for j = 1:m, k = 0:n-1]\n",
    "    𝐱 .^ (0:(n-1))'\n",
    "end"
   ]
  },
  {
   "attachments": {},
   "cell_type": "markdown",
   "metadata": {},
   "source": [
    "`ql(A)`, where `Q` is orthogonal and `L` is lower triangular"
   ]
  },
  {
   "cell_type": "code",
   "execution_count": null,
   "metadata": {},
   "outputs": [],
   "source": [
    "function lowerhouseholderreflection(x)\n",
    "    ## Implement the householder reflector\n",
    "    y = copy(x)\n",
    "    y[end] += norm(x)\n",
    "    w = y/norm(y)\n",
    "    I - 2w*w'\n",
    "end\n",
    "\n",
    "function ql(A) # assume A is square\n",
    "    m,n = size(A)\n",
    "    m == n || error(\"not square\")\n",
    "    # Create Q and L such that Q'Q == I and L is lower triangular\n",
    "    L = copy(A)\n",
    "    Q = Matrix(1.0I, n, n)\n",
    "    for j = n:-1:2\n",
    "        Qⱼ = lowerhouseholderreflection(L[1:j, j])\n",
    "        L[1:j, 1:j] = Qⱼ * L[1:j, 1:j]\n",
    "        Q[:,1:j] = Q[:,1:j]*Qⱼ\n",
    "    end\n",
    "    Q,L\n",
    "end"
   ]
  },
  {
   "attachments": {},
   "cell_type": "markdown",
   "metadata": {},
   "source": [
    "`lq(A)`, where `L` is lower triangular and `Q` is orthogonal\n",
    "\n",
    "consider a Householder reflection s.t. $𝐱^⊤ Q = \\|𝐱\\|𝐞_1^⊤$"
   ]
  },
  {
   "cell_type": "code",
   "execution_count": 2,
   "metadata": {},
   "outputs": [
    {
     "data": {
      "text/plain": [
       "\u001b[32m\u001b[1mTest Passed\u001b[22m\u001b[39m"
      ]
     },
     "metadata": {},
     "output_type": "display_data"
    }
   ],
   "source": [
    "function lq(A)\n",
    "    m,n = size(A)\n",
    "    m == n || error(\"not square\")\n",
    "    # Create Q and L such that A = L*Q, Q'Q == I and L is lower triangular\n",
    "    L = copy(A)\n",
    "    Q = Matrix(1.0I, n, n)\n",
    "    for k = 1:n-1\n",
    "        y = L[k, k:end]\n",
    "        y[1] -= norm(y)\n",
    "        w = y / norm(y)\n",
    "        Qₖ = I - 2 * w * w'\n",
    "        L[k:end, k:end] = L[k:end, k:end] * Qₖ\n",
    "        Q[k:end, :] = Qₖ * Q[k:end, :]\n",
    "    end\n",
    "    L,Q\n",
    "end\n",
    "\n",
    "A = [1.0 2 3; 1 4 9; 1 1 1]\n",
    "L,Q = lq(A)\n",
    "@test Q'Q ≈ I\n",
    "@test L*Q ≈ A\n",
    "@test L ≈ tril(L) # it is acceptable to have small non-zero entries in L"
   ]
  },
  {
   "cell_type": "code",
   "execution_count": null,
   "metadata": {},
   "outputs": [],
   "source": []
  }
 ],
 "metadata": {
  "kernelspec": {
   "display_name": "Julia 1.8.5",
   "language": "julia",
   "name": "julia-1.8"
  },
  "language_info": {
   "file_extension": ".jl",
   "mimetype": "application/julia",
   "name": "julia",
   "version": "1.8.5"
  },
  "orig_nbformat": 4
 },
 "nbformat": 4,
 "nbformat_minor": 2
}
