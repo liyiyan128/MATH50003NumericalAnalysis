{
 "cells": [
  {
   "cell_type": "markdown",
   "metadata": {},
   "source": [
    "# MATH50003 Numerical Analysis (2022–2023)\n",
    "# Computer-based Exam"
   ]
  },
  {
   "cell_type": "markdown",
   "metadata": {},
   "source": [
    "Instructions for uploading and downloading:"
   ]
  },
  {
   "cell_type": "markdown",
   "metadata": {},
   "source": [
    "1. Rename the file to include your CID.\n",
    "2. You have 15 mins to download the exam beginning at 12:00 on 17 March.\n",
    "2. You have 1 hour to complete the exam beginning at 12:15 on 17 March.\n",
    "3. Deadline is 13:30 on 17 March to upload the completed Jupyter notebook (`.ipynb`) to Blackboard.\n",
    "Please inform an invigilator if you experience difficulty.\n",
    "5. Once uploaded, re-download the file before the final submission time to confirm it is correct.\n",
    "You are allowed to upload additional submissions but only the last valid upload before 13:15 will be used\n",
    "unless permission is given by an invigilator to upload late.\n",
    "6. If uploading via Blackboard fails you may e-mail the UG Office after consulting with\n",
    "an invigilator: maths.exams@imperial.ac.uk"
   ]
  },
  {
   "cell_type": "markdown",
   "metadata": {},
   "source": [
    "Instructions for the exam:"
   ]
  },
  {
   "cell_type": "markdown",
   "metadata": {},
   "source": [
    "1. For each problem, replace the `# TODO` to complete the question.\n",
    "The unit tests are provided to help you test your answers.\n",
    "3. Problems are marked A/B/C to indicate difficulty (\"A\" being most difficult).\n",
    "Partial credit will be awarded for reasonable attempts even if the tests\n",
    "are not passed. A and B questions are worth 12 marks while C questions are worth 10 marks.\n",
    "3. If you have technical queries please email s.olver@imperial.ac.uk. Any other queries\n",
    "should be discussed with an invigilator or sent to the UG Office: maths.exams@imperial.ac.uk\n",
    "4. You may use existing code from anywhere\n",
    "but you are **REQUIRED** to cite the source if it is not part of the module material,\n",
    "by including a weblink in a comment.\n",
    "5. You **MUST NOT** ask for help online or\n",
    "communicate with others within or outside the module.\n",
    "Failure to follow these rules will be considered misconduct.\n",
    "6. You **MUST NOT** use handwritten notes but may use provided paper.\n",
    "7. **NO USAGE of AI tools** such as ChatGPT or GitHub Co-Pilot."
   ]
  },
  {
   "cell_type": "markdown",
   "metadata": {},
   "source": [
    "You should **ONLY USE** the following packages:"
   ]
  },
  {
   "cell_type": "code",
   "execution_count": 1,
   "metadata": {},
   "outputs": [],
   "source": [
    "using LinearAlgebra, SetRounding, Test"
   ]
  },
  {
   "cell_type": "markdown",
   "metadata": {},
   "source": [
    "**WARNING** It may be necessary to restart the kernel if issues arise. Remember to reload the packages\n",
    "when you do so."
   ]
  },
  {
   "cell_type": "markdown",
   "metadata": {},
   "source": [
    "## I.1 Integers"
   ]
  },
  {
   "cell_type": "markdown",
   "metadata": {},
   "source": [
    "**Problem 1 (C)** Complete the following function that returns an 8-bit signed integer whose bits are `11111110`."
   ]
  },
  {
   "cell_type": "code",
   "execution_count": 2,
   "metadata": {},
   "outputs": [
    {
     "data": {
      "text/plain": [
       "\u001b[32m\u001b[1mTest Passed\u001b[22m\u001b[39m"
      ]
     },
     "metadata": {},
     "output_type": "display_data"
    }
   ],
   "source": [
    "function bits11111110()\n",
    "    # TODO: return an `Int8` whose bits are all 11111110\n",
    "    reinterpret(Int8, 0b11111110)\n",
    "end\n",
    "\n",
    "@test bits11111110() isa Int8\n",
    "@test bitstring(bits11111110()) == \"11111110\""
   ]
  },
  {
   "cell_type": "markdown",
   "metadata": {},
   "source": [
    "## I.2 Reals"
   ]
  },
  {
   "cell_type": "markdown",
   "metadata": {},
   "source": [
    "**Problem 2 (A)**\n",
    "An alternative to interval arithmetic is ball arithmetic, which represents an interval by a centre $x$\n",
    "and a neighbourhood bounded by $b$, that is, it represents the interval $A = \\{x + δ : |δ| ≤ b \\} = [x-b,x+b]$\n",
    "by storing $x$ and $b$.\n",
    "Complete the following implementation of ball arithmetic (`+` and `*`)\n",
    "where the centre arithmetic is the default round-to-nearest\n",
    "floating point arithmetic but the returned bounds are determined to be rigorously correct, and sharp so that the tests pass.\n",
    "You may assume numbers are in the normalised range and should use the following bound for rounding (which is\n",
    "a slight variant of the \"round bound\"):\n",
    "$x = {\\rm fl}(x) + δ_a$ where $|δ_a| ≤ |{\\rm fl}(x)| ϵ_{\\rm m}/2$.\n",
    "Hint: Recall that `eps()` returns $ϵ_{\\rm m}$. Use `setrounding` to ensure that the bounds are rounded up appropriately.\n",
    "To deduce the bound for addition one would want to deduce the bounds by writing\n",
    "$$\n",
    "(x + δ_x) + (y + δ_y) = {\\rm fl}(x+y) + δ_a + δ_x + δ_y\n",
    "$$\n",
    "where the bounds on the errors are rounded up."
   ]
  },
  {
   "cell_type": "code",
   "execution_count": 10,
   "metadata": {},
   "outputs": [
    {
     "name": "stdout",
     "output_type": "stream",
     "text": [
      "\u001b[91m\u001b[1mError During Test\u001b[22m\u001b[39m at \u001b[39m\u001b[1md:\\OneDrive - Imperial College London\\# Jupyter\\VS Code\\Numerical Analysis\\MATH50003NumericalAnalysis\\exams\\02025140.ipynb:33\u001b[22m\n",
      "  Test threw exception\n",
      "  Expression: Ball(2.0 ^ -5, 2.0 ^ -10) + Ball(2.0 ^ -4, 2.0 ^ -11) == Ball(2.0 ^ -5 + 2.0 ^ -4, 0.0014648437500000104)\n",
      "  UndefVarError: float64 not defined\n",
      "  Stacktrace:\n",
      "    [1] \u001b[0m\u001b[1m+\u001b[22m\u001b[0m\u001b[1m(\u001b[22m\u001b[90mA\u001b[39m::\u001b[0mBall, \u001b[90mB\u001b[39m::\u001b[0mBall\u001b[0m\u001b[1m)\u001b[22m\n",
      "  \u001b[90m    @ \u001b[39m\u001b[35mMain\u001b[39m \u001b[90md:\\OneDrive - Imperial College London\\# Jupyter\\VS Code\\Numerical Analysis\\MATH50003NumericalAnalysis\\exams\\\u001b[39m\u001b[90m\u001b[4m02025140.ipynb:12\u001b[24m\u001b[39m\n",
      "    [2] top-level scope\n",
      "  \u001b[90m    @ \u001b[39m\u001b[90mD:\\APP_I\\Julia-1.8.5\\share\\julia\\stdlib\\v1.8\\Test\\src\\\u001b[39m\u001b[90m\u001b[4mTest.jl:464\u001b[24m\u001b[39m\n",
      "    [3] \u001b[0m\u001b[1meval\u001b[22m\n",
      "  \u001b[90m    @ \u001b[39m\u001b[90m.\\\u001b[39m\u001b[90m\u001b[4mboot.jl:368\u001b[24m\u001b[39m\u001b[90m [inlined]\u001b[39m\n",
      "    [4] \u001b[0m\u001b[1minclude_string\u001b[22m\u001b[0m\u001b[1m(\u001b[22m\u001b[90mmapexpr\u001b[39m::\u001b[0mtypeof(REPL.softscope), \u001b[90mmod\u001b[39m::\u001b[0mModule, \u001b[90mcode\u001b[39m::\u001b[0mString, \u001b[90mfilename\u001b[39m::\u001b[0mString\u001b[0m\u001b[1m)\u001b[22m\n",
      "  \u001b[90m    @ \u001b[39m\u001b[90mBase\u001b[39m \u001b[90m.\\\u001b[39m\u001b[90m\u001b[4mloading.jl:1428\u001b[24m\u001b[39m\n",
      "    [5] \u001b[0m\u001b[1m#invokelatest#2\u001b[22m\n",
      "  \u001b[90m    @ \u001b[39m\u001b[90m.\\\u001b[39m\u001b[90m\u001b[4messentials.jl:729\u001b[24m\u001b[39m\u001b[90m [inlined]\u001b[39m\n",
      "    [6] \u001b[0m\u001b[1minvokelatest\u001b[22m\n",
      "  \u001b[90m    @ \u001b[39m\u001b[90m.\\\u001b[39m\u001b[90m\u001b[4messentials.jl:726\u001b[24m\u001b[39m\u001b[90m [inlined]\u001b[39m\n",
      "    [7] \u001b[0m\u001b[1m(::VSCodeServer.var\"#198#199\"{VSCodeServer.NotebookRunCellArguments, String})\u001b[22m\u001b[0m\u001b[1m(\u001b[22m\u001b[0m\u001b[1m)\u001b[22m\n",
      "  \u001b[90m    @ \u001b[39m\u001b[36mVSCodeServer\u001b[39m \u001b[90mc:\\Users\\liyiy\\.vscode\\extensions\\julialang.language-julia-1.38.2\\scripts\\packages\\VSCodeServer\\src\\\u001b[39m\u001b[90m\u001b[4mserve_notebook.jl:19\u001b[24m\u001b[39m\n",
      "    [8] \u001b[0m\u001b[1mwithpath\u001b[22m\u001b[0m\u001b[1m(\u001b[22m\u001b[90mf\u001b[39m::\u001b[0mVSCodeServer.var\"#198#199\"\u001b[90m{VSCodeServer.NotebookRunCellArguments, String}\u001b[39m, \u001b[90mpath\u001b[39m::\u001b[0mString\u001b[0m\u001b[1m)\u001b[22m\n",
      "  \u001b[90m    @ \u001b[39m\u001b[36mVSCodeServer\u001b[39m \u001b[90mc:\\Users\\liyiy\\.vscode\\extensions\\julialang.language-julia-1.38.2\\scripts\\packages\\VSCodeServer\\src\\\u001b[39m\u001b[90m\u001b[4mrepl.jl:249\u001b[24m\u001b[39m\n",
      "    [9] \u001b[0m\u001b[1mnotebook_runcell_request\u001b[22m\u001b[0m\u001b[1m(\u001b[22m\u001b[90mconn\u001b[39m::\u001b[0mVSCodeServer.JSONRPC.JSONRPCEndpoint\u001b[90m{Base.PipeEndpoint, Base.PipeEndpoint}\u001b[39m, \u001b[90mparams\u001b[39m::\u001b[0mVSCodeServer.NotebookRunCellArguments\u001b[0m\u001b[1m)\u001b[22m\n",
      "  \u001b[90m    @ \u001b[39m\u001b[36mVSCodeServer\u001b[39m \u001b[90mc:\\Users\\liyiy\\.vscode\\extensions\\julialang.language-julia-1.38.2\\scripts\\packages\\VSCodeServer\\src\\\u001b[39m\u001b[90m\u001b[4mserve_notebook.jl:13\u001b[24m\u001b[39m\n",
      "   [10] \u001b[0m\u001b[1mdispatch_msg\u001b[22m\u001b[0m\u001b[1m(\u001b[22m\u001b[90mx\u001b[39m::\u001b[0mVSCodeServer.JSONRPC.JSONRPCEndpoint\u001b[90m{Base.PipeEndpoint, Base.PipeEndpoint}\u001b[39m, \u001b[90mdispatcher\u001b[39m::\u001b[0mVSCodeServer.JSONRPC.MsgDispatcher, \u001b[90mmsg\u001b[39m::\u001b[0mDict\u001b[90m{String, Any}\u001b[39m\u001b[0m\u001b[1m)\u001b[22m\n",
      "  \u001b[90m    @ \u001b[39m\u001b[36mVSCodeServer.JSONRPC\u001b[39m \u001b[90mc:\\Users\\liyiy\\.vscode\\extensions\\julialang.language-julia-1.38.2\\scripts\\packages\\JSONRPC\\src\\\u001b[39m\u001b[90m\u001b[4mtyped.jl:67\u001b[24m\u001b[39m\n",
      "   [11] \u001b[0m\u001b[1mserve_notebook\u001b[22m\u001b[0m\u001b[1m(\u001b[22m\u001b[90mpipename\u001b[39m::\u001b[0mString, \u001b[90moutputchannel_logger\u001b[39m::\u001b[0mBase.CoreLogging.SimpleLogger; \u001b[90mcrashreporting_pipename\u001b[39m::\u001b[0mString\u001b[0m\u001b[1m)\u001b[22m\n",
      "  \u001b[90m    @ \u001b[39m\u001b[36mVSCodeServer\u001b[39m \u001b[90mc:\\Users\\liyiy\\.vscode\\extensions\\julialang.language-julia-1.38.2\\scripts\\packages\\VSCodeServer\\src\\\u001b[39m\u001b[90m\u001b[4mserve_notebook.jl:139\u001b[24m\u001b[39m\n",
      "   [12] top-level scope\n",
      "  \u001b[90m    @ \u001b[39m\u001b[90mc:\\Users\\liyiy\\.vscode\\extensions\\julialang.language-julia-1.38.2\\scripts\\notebook\\\u001b[39m\u001b[90m\u001b[4mnotebook.jl:32\u001b[24m\u001b[39m\n",
      "   [13] \u001b[0m\u001b[1minclude\u001b[22m\u001b[0m\u001b[1m(\u001b[22m\u001b[90mmod\u001b[39m::\u001b[0mModule, \u001b[90m_path\u001b[39m::\u001b[0mString\u001b[0m\u001b[1m)\u001b[22m\n",
      "  \u001b[90m    @ \u001b[39m\u001b[90mBase\u001b[39m \u001b[90m.\\\u001b[39m\u001b[90m\u001b[4mBase.jl:419\u001b[24m\u001b[39m\n",
      "   [14] \u001b[0m\u001b[1mexec_options\u001b[22m\u001b[0m\u001b[1m(\u001b[22m\u001b[90mopts\u001b[39m::\u001b[0mBase.JLOptions\u001b[0m\u001b[1m)\u001b[22m\n",
      "  \u001b[90m    @ \u001b[39m\u001b[90mBase\u001b[39m \u001b[90m.\\\u001b[39m\u001b[90m\u001b[4mclient.jl:303\u001b[24m\u001b[39m\n",
      "   [15] \u001b[0m\u001b[1m_start\u001b[22m\u001b[0m\u001b[1m(\u001b[22m\u001b[0m\u001b[1m)\u001b[22m\n",
      "  \u001b[90m    @ \u001b[39m\u001b[90mBase\u001b[39m \u001b[90m.\\\u001b[39m\u001b[90m\u001b[4mclient.jl:522\u001b[24m\u001b[39m\n"
     ]
    },
    {
     "ename": "Test.FallbackTestSetException",
     "evalue": "Test.FallbackTestSetException(\"There was an error during testing\")",
     "output_type": "error",
     "traceback": [
      "Test.FallbackTestSetException(\"There was an error during testing\")\n",
      "\n",
      "Stacktrace:\n",
      " [1] record(ts::Test.FallbackTestSet, t::Union{Test.Error, Test.Fail})\n",
      "   @ Test D:\\APP_I\\Julia-1.8.5\\share\\julia\\stdlib\\v1.8\\Test\\src\\Test.jl:946\n",
      " [2] do_test(result::Test.ExecutionResult, orig_expr::Any)\n",
      "   @ Test D:\\APP_I\\Julia-1.8.5\\share\\julia\\stdlib\\v1.8\\Test\\src\\Test.jl:656\n",
      " [3] top-level scope\n",
      "   @ D:\\APP_I\\Julia-1.8.5\\share\\julia\\stdlib\\v1.8\\Test\\src\\Test.jl:464"
     ]
    }
   ],
   "source": [
    "struct Ball\n",
    "    x::Float64\n",
    "    b::Float64 # bound on the neighbourhood |δ| ≤ b\n",
    "end\n",
    "\n",
    "import Base: +, *\n",
    "\n",
    "function +(A::Ball, B::Ball)\n",
    "    # TODO: Return a Ball whose centre is `A.x + B.x` (computed with default rounding)\n",
    "    # and whose neighbourhood size precisely equals the bound from rounding the centre\n",
    "    # plus the sum of `A.b + B.b` rounded up.\n",
    "    δₐ = setrounding(float64, RoundUp) do\n",
    "        abs(A.x + B.x) * eps() / 2\n",
    "    end\n",
    "    b = setrounding(float64, RoundUp) do \n",
    "        A.b + B.b + 4*δₐ\n",
    "    end\n",
    "    Ball(A.x + B.x, b)\n",
    "end\n",
    "\n",
    "function *(A::Ball, B::Ball)\n",
    "    # TODO: Return a Ball whose centre is `A.x * B.x` (computed with default rounding)\n",
    "    # where the neighbourhood is deduced from the neighbourhoods of the inputs alongside the\n",
    "    # error in rounding `A.x * B.x`.\n",
    "    b = setrounding(float64, RoundUp) do \n",
    "        A.b*B.b + 10*abs(A.b*B.b)*eps()\n",
    "    end\n",
    "    Ball(A.x * B.x, b)\n",
    "end\n",
    "\n",
    "\n",
    "\n",
    "@test Ball(2.0^(-5), 2.0^(-10)) + Ball(2.0^(-4), 2.0^(-11)) == Ball(2.0^(-5) + 2.0^(-4), 0.0014648437500000104)\n",
    "@test Ball(2.0^(-5), 2.0^(-10)) * Ball(2.0^(-4), 2.0^(-11)) == Ball(2.0^(-5) * 2.0^(-4), 7.677078247070334e-5)\n",
    "@test (Ball(1.1,0.0) + Ball(1.2,0.0)) * Ball(1.3, 0.0) == Ball((1.1+1.2)*1.3, 6.639133687258437e-16)"
   ]
  },
  {
   "cell_type": "markdown",
   "metadata": {},
   "source": [
    "## I.3 Divided Differences"
   ]
  },
  {
   "attachments": {},
   "cell_type": "markdown",
   "metadata": {},
   "source": [
    "**Problem 3 (C)** Use central differences\n",
    "with an appropriately chosen $h$ to approximate the first derivative of\n",
    "$$\n",
    "f(x) = \\cos(x^2)\n",
    "$$\n",
    "at $x = 0.1$ to 5 digits accuracy. Note you are not required to choose a \"quasi-optimal\"\n",
    "value for $h$, as long as your choice achieves 5 digits of accuracy."
   ]
  },
  {
   "cell_type": "code",
   "execution_count": 3,
   "metadata": {},
   "outputs": [
    {
     "data": {
      "text/plain": [
       "\u001b[32m\u001b[1mTest Passed\u001b[22m\u001b[39m"
      ]
     },
     "metadata": {},
     "output_type": "display_data"
    }
   ],
   "source": [
    "function fd(x)\n",
    "    # TODO: implement a central-difference rule\n",
    "    # to approximate f'(x)\n",
    "    # for f(x) = cos(x^2)\n",
    "    # with step-size h chosen to get sufficient accuracy\n",
    "    f = x -> cos(x^2)\n",
    "    h = sqrt(eps())\n",
    "\n",
    "    (f(x + h) - f(x - h)) / 2h\n",
    "end\n",
    "\n",
    "\n",
    "@test abs(fd(0.1) + 2*0.1*sin(0.1^2)) ≤ 1E-5"
   ]
  },
  {
   "cell_type": "markdown",
   "metadata": {},
   "source": [
    "## I.4 Dual Numbers"
   ]
  },
  {
   "cell_type": "markdown",
   "metadata": {},
   "source": [
    "**Problem 4 (B)** Implement powers of dual numbers to a float $(a+bε)^c$ and\n",
    "to a dual number $(a+bε)^{c+dε}$, in a way that is consistent with a \"dual-extension\",\n",
    "e.g. if $f(x) = x^{3/2}$ or $f(x) = x^x$ then we want to define the power function so that\n",
    "in both cases $f(a + bϵ) = f(a) + bf'(a)ϵ$.\n",
    "Hint: for the second part recall $x^y = \\exp(y \\log x)$ which reduces the problem\n",
    "to single-argument functions where the \"dual-extension\" is easy to define."
   ]
  },
  {
   "cell_type": "code",
   "execution_count": 13,
   "metadata": {},
   "outputs": [
    {
     "name": "stdout",
     "output_type": "stream",
     "text": [
      "\u001b[91m\u001b[1mTest Failed\u001b[22m\u001b[39m at \u001b[39m\u001b[1md:\\OneDrive - Imperial College London\\# Jupyter\\VS Code\\Numerical Analysis\\MATH50003NumericalAnalysis\\exams\\02025140.ipynb:29\u001b[22m\n",
      "  Expression: Dual(2.0, 1.0) ^ Dual(3.0, 1.0) ≈ Dual(8.0, 8 * (3 / 2 + log(2)))\n",
      "   Evaluated: Dual(8.0, 12.0) ≈ Dual(8.0, 17.545177444479563)\n"
     ]
    },
    {
     "ename": "Test.FallbackTestSetException",
     "evalue": "Test.FallbackTestSetException(\"There was an error during testing\")",
     "output_type": "error",
     "traceback": [
      "Test.FallbackTestSetException(\"There was an error during testing\")\n",
      "\n",
      "Stacktrace:\n",
      " [1] record(ts::Test.FallbackTestSet, t::Union{Test.Error, Test.Fail})\n",
      "   @ Test D:\\APP_I\\Julia-1.8.5\\share\\julia\\stdlib\\v1.8\\Test\\src\\Test.jl:946\n",
      " [2] do_test(result::Test.ExecutionResult, orig_expr::Any)\n",
      "   @ Test D:\\APP_I\\Julia-1.8.5\\share\\julia\\stdlib\\v1.8\\Test\\src\\Test.jl:656\n",
      " [3] top-level scope\n",
      "   @ D:\\APP_I\\Julia-1.8.5\\share\\julia\\stdlib\\v1.8\\Test\\src\\Test.jl:464"
     ]
    }
   ],
   "source": [
    "# Represents a + b*ε\n",
    "struct Dual\n",
    "    a::Float64\n",
    "    b::Float64\n",
    "end\n",
    "\n",
    "import Base: ^, *, isapprox\n",
    "*(x::Dual, y::Dual) = Dual(x.a*y.a, x.a*y.b + x.b*y.a)\n",
    "isapprox(x::Dual, y::Dual) = x.a ≈ y.a && x.b ≈ y.b # used in tests\n",
    "\n",
    "function ^(x::Dual, c::Real)\n",
    "    # TODO: Implement Dual(a,b)^c returning a Dual whose b-component is consistent\n",
    "    # with differentiation.\n",
    "    Dual(x.a^c, c * x.a^(c-1) * x.b)\n",
    "end\n",
    "\n",
    "@test Dual(1.0,2.0)^0.0 == Dual(1.0, 0.0)\n",
    "@test Dual(1.0,2.0)^0.5 == Dual(1.0, 1.0)\n",
    "@test Dual(1.0,2.0)^(-0.5) == Dual(1.0, -1.0)\n",
    "\n",
    "function ^(x::Dual, y::Dual)\n",
    "    # TODO: Implement Dual(a,b)^Dual(c,d), returning a `Dual` in a way that is consistent with\n",
    "    # differentiation: i.e. for the function `f(x) = x^x`, `f(Dual(2,1))` should return\n",
    "    # `Dual(f(2), f′(2))` where `f′(x)` denotes the derivative of `f`.\n",
    "    \n",
    "    # Two part: Dual^Real * Dual^Dual\n",
    "    x^y.a\n",
    "end\n",
    "\n",
    "\n",
    "@test Dual(2.0, 1.0) ^ Dual(3.0, 1.0) ≈ Dual(8.0,8*(3/2 + log(2)))"
   ]
  },
  {
   "cell_type": "markdown",
   "metadata": {},
   "source": [
    "## II.2 Orthogonal Matrices"
   ]
  },
  {
   "cell_type": "markdown",
   "metadata": {},
   "source": [
    "**Problem 5 (A)** Complete the definition of `BidiagReflections` which supports a sequence of reflections,\n",
    "that is,\n",
    "$$\n",
    "Q = Q_{𝐯_1} ⋯ Q_{𝐯_n}\n",
    "$$\n",
    "where the vectors are stored as a matrix $V ∈ ℝ^{n × n}$ whose $j$-th column is $𝐯_j ∈ ℝ^n$, and\n",
    "$$\n",
    "Q_{𝐯_j} = I - 2 𝐯_j 𝐯_j^⊤\n",
    "$$\n",
    "is a reflection. In this case, `V` is a lower bidiagonal matrix (that is, $𝐯_j$ is zero apart from the $j$ and $(j+1)th$ entry).\n",
    "Multiplication of `Q` times a vector must take only $O(n)$ operations.\n",
    "Hint: you shouldn't use the `Reflection` type from the lab solutions as that would increase the\n",
    "cost to $O(n^2)$ operations. Note also the tests do not verify that the solution takes only $O(n)$ operations\n",
    "so do not depend on the tests passing for correctness."
   ]
  },
  {
   "cell_type": "code",
   "execution_count": 15,
   "metadata": {},
   "outputs": [
    {
     "name": "stdout",
     "output_type": "stream",
     "text": [
      "\u001b[91m\u001b[1mError During Test\u001b[22m\u001b[39m at \u001b[39m\u001b[1md:\\OneDrive - Imperial College London\\# Jupyter\\VS Code\\Numerical Analysis\\MATH50003NumericalAnalysis\\exams\\02025140.ipynb:41\u001b[22m\n",
      "  Test threw exception\n",
      "  Expression: Q ≈ (I - (2 * V[:, 1]) * (V[:, 1])') * (I - (2 * V[:, 2]) * (V[:, 2])') * (I - (2 * V[:, 3]) * (V[:, 3])') * (I - (2 * V[:, 4]) * (V[:, 4])')\n",
      "  StackOverflowError:\n",
      "  Stacktrace:\n",
      "       [1] \u001b[0m\u001b[1msize\u001b[22m\u001b[0m\u001b[1m(\u001b[22m\u001b[90mQ\u001b[39m::\u001b[0mBidiagReflections\u001b[0m\u001b[1m)\u001b[22m\n",
      "  \u001b[90m       @ \u001b[39m\u001b[35mMain\u001b[39m \u001b[90md:\\OneDrive - Imperial College London\\# Jupyter\\VS Code\\Numerical Analysis\\MATH50003NumericalAnalysis\\exams\\\u001b[39m\u001b[90m\u001b[4m02025140.ipynb:6\u001b[24m\u001b[39m\n",
      "       [2] \u001b[0m\u001b[1maxes\u001b[22m\n",
      "  \u001b[90m       @ \u001b[39m\u001b[90m.\\\u001b[39m\u001b[90m\u001b[4mabstractarray.jl:95\u001b[24m\u001b[39m\u001b[90m [inlined]\u001b[39m\n",
      "       [3] \u001b[0m\u001b[1mcheckbounds\u001b[22m\n",
      "  \u001b[90m       @ \u001b[39m\u001b[90m.\\\u001b[39m\u001b[90m\u001b[4mabstractarray.jl:647\u001b[24m\u001b[39m\u001b[90m [inlined]\u001b[39m\n",
      "       [4] \u001b[0m\u001b[1mcheckbounds\u001b[22m\n",
      "  \u001b[90m       @ \u001b[39m\u001b[90m.\\\u001b[39m\u001b[90m\u001b[4mabstractarray.jl:668\u001b[24m\u001b[39m\u001b[90m [inlined]\u001b[39m\n",
      "       [5] \u001b[0m\u001b[1m_getindex\u001b[22m\u001b[0m\u001b[1m(\u001b[22m::\u001b[0mIndexCartesian, ::\u001b[0mBidiagReflections, ::\u001b[0mBase.Slice\u001b[90m{Base.OneTo{Int64}}\u001b[39m, ::\u001b[0mInt64\u001b[0m\u001b[1m)\u001b[22m\n",
      "  \u001b[90m       @ \u001b[39m\u001b[36mBase\u001b[39m \u001b[90m.\\\u001b[39m\u001b[90m\u001b[4mmultidimensional.jl:874\u001b[24m\u001b[39m\n",
      "       [6] \u001b[0m\u001b[1mgetindex\u001b[22m\n",
      "  \u001b[90m       @ \u001b[39m\u001b[90m.\\\u001b[39m\u001b[90m\u001b[4mabstractarray.jl:1241\u001b[24m\u001b[39m\u001b[90m [inlined]\u001b[39m\n",
      "       [7] \u001b[0m\u001b[1m*\u001b[22m\u001b[0m\u001b[1m(\u001b[22m\u001b[90mQ\u001b[39m::\u001b[0mBidiagReflections, \u001b[90mx\u001b[39m::\u001b[0mVector\u001b[90m{Float64}\u001b[39m\u001b[0m\u001b[1m)\u001b[22m\n",
      "  \u001b[90m       @ \u001b[39m\u001b[35mMain\u001b[39m \u001b[90md:\\OneDrive - Imperial College London\\# Jupyter\\VS Code\\Numerical Analysis\\MATH50003NumericalAnalysis\\exams\\\u001b[39m\u001b[90m\u001b[4m02025140.ipynb:24\u001b[24m\u001b[39m\n",
      "       [8] \u001b[0m\u001b[1mgetindex\u001b[22m\u001b[0m\u001b[1m(\u001b[22m\u001b[90mQ\u001b[39m::\u001b[0mBidiagReflections, \u001b[90mk\u001b[39m::\u001b[0mInt64, \u001b[90mj\u001b[39m::\u001b[0mInt64\u001b[0m\u001b[1m)\u001b[22m\n",
      "  \u001b[90m       @ \u001b[39m\u001b[35mMain\u001b[39m \u001b[90md:\\OneDrive - Imperial College London\\# Jupyter\\VS Code\\Numerical Analysis\\MATH50003NumericalAnalysis\\exams\\\u001b[39m\u001b[90m\u001b[4m02025140.ipynb:35\u001b[24m\u001b[39m\n",
      "       [9] \u001b[0m\u001b[1mmacro expansion\u001b[22m\n",
      "  \u001b[90m       @ \u001b[39m\u001b[90m.\\\u001b[39m\u001b[90m\u001b[4mmultidimensional.jl:903\u001b[24m\u001b[39m\u001b[90m [inlined]\u001b[39m\n",
      "      [10] \u001b[0m\u001b[1mmacro expansion\u001b[22m\n",
      "  \u001b[90m       @ \u001b[39m\u001b[90m.\\\u001b[39m\u001b[90m\u001b[4mcartesian.jl:64\u001b[24m\u001b[39m\u001b[90m [inlined]\u001b[39m\n",
      "      [11] \u001b[0m\u001b[1m_unsafe_getindex!\u001b[22m\n",
      "  \u001b[90m       @ \u001b[39m\u001b[90m.\\\u001b[39m\u001b[90m\u001b[4mmultidimensional.jl:898\u001b[24m\u001b[39m\u001b[90m [inlined]\u001b[39m\n",
      "      [12] \u001b[0m\u001b[1m_unsafe_getindex\u001b[22m\u001b[0m\u001b[1m(\u001b[22m::\u001b[0mIndexCartesian, ::\u001b[0mBidiagReflections, ::\u001b[0mBase.Slice\u001b[90m{Base.OneTo{Int64}}\u001b[39m, ::\u001b[0mInt64\u001b[0m\u001b[1m)\u001b[22m\n",
      "  \u001b[90m       @ \u001b[39m\u001b[36mBase\u001b[39m \u001b[90m.\\\u001b[39m\u001b[90m\u001b[4mmultidimensional.jl:889\u001b[24m\u001b[39m\n",
      "      [13] \u001b[0m\u001b[1m_getindex\u001b[22m\u001b[0m\u001b[1m(\u001b[22m::\u001b[0mIndexCartesian, ::\u001b[0mBidiagReflections, ::\u001b[0mBase.Slice\u001b[90m{Base.OneTo{Int64}}\u001b[39m, ::\u001b[0mInt64\u001b[0m\u001b[1m)\u001b[22m\n",
      "  \u001b[90m       @ \u001b[39m\u001b[36mBase\u001b[39m \u001b[90m.\\\u001b[39m\u001b[90m\u001b[4mmultidimensional.jl:875\u001b[24m\u001b[39m\n",
      "  \u001b[90m--- the last 8 lines are repeated 5324 more times ---\u001b[39m\n",
      "   [42606] \u001b[0m\u001b[1mgetindex\u001b[22m\n",
      "  \u001b[90m       @ \u001b[39m\u001b[90m.\\\u001b[39m\u001b[90m\u001b[4mabstractarray.jl:1241\u001b[24m\u001b[39m\u001b[90m [inlined]\u001b[39m\n",
      "   [42607] \u001b[0m\u001b[1m*\u001b[22m\u001b[0m\u001b[1m(\u001b[22m\u001b[90mQ\u001b[39m::\u001b[0mBidiagReflections, \u001b[90mx\u001b[39m::\u001b[0mVector\u001b[90m{Float64}\u001b[39m\u001b[0m\u001b[1m)\u001b[22m\n",
      "  \u001b[90m       @ \u001b[39m\u001b[35mMain\u001b[39m \u001b[90md:\\OneDrive - Imperial College London\\# Jupyter\\VS Code\\Numerical Analysis\\MATH50003NumericalAnalysis\\exams\\\u001b[39m\u001b[90m\u001b[4m02025140.ipynb:24\u001b[24m\u001b[39m\n",
      "   [42608] \u001b[0m\u001b[1mgetindex\u001b[22m\u001b[0m\u001b[1m(\u001b[22m\u001b[90mQ\u001b[39m::\u001b[0mBidiagReflections, \u001b[90mk\u001b[39m::\u001b[0mInt64, \u001b[90mj\u001b[39m::\u001b[0mInt64\u001b[0m\u001b[1m)\u001b[22m\n",
      "  \u001b[90m       @ \u001b[39m\u001b[35mMain\u001b[39m \u001b[90md:\\OneDrive - Imperial College London\\# Jupyter\\VS Code\\Numerical Analysis\\MATH50003NumericalAnalysis\\exams\\\u001b[39m\u001b[90m\u001b[4m02025140.ipynb:35\u001b[24m\u001b[39m\n",
      "   [42609] \u001b[0m\u001b[1m_getindex\u001b[22m\n",
      "  \u001b[90m       @ \u001b[39m\u001b[90m.\\\u001b[39m\u001b[90m\u001b[4mabstractarray.jl:1291\u001b[24m\u001b[39m\u001b[90m [inlined]\u001b[39m\n",
      "   [42610] \u001b[0m\u001b[1mgetindex\u001b[22m\n",
      "  \u001b[90m       @ \u001b[39m\u001b[90m.\\\u001b[39m\u001b[90m\u001b[4mabstractarray.jl:1241\u001b[24m\u001b[39m\u001b[90m [inlined]\u001b[39m\n",
      "   [42611] \u001b[0m\u001b[1m_broadcast_getindex\u001b[22m\n",
      "  \u001b[90m       @ \u001b[39m\u001b[90m.\\\u001b[39m\u001b[90m\u001b[4mbroadcast.jl:636\u001b[24m\u001b[39m\u001b[90m [inlined]\u001b[39m\n",
      "   [42612] \u001b[0m\u001b[1m_getindex\u001b[22m\n",
      "  \u001b[90m       @ \u001b[39m\u001b[90m.\\\u001b[39m\u001b[90m\u001b[4mbroadcast.jl:666\u001b[24m\u001b[39m\u001b[90m [inlined]\u001b[39m\n",
      "   [42613] \u001b[0m\u001b[1m_broadcast_getindex\u001b[22m\u001b[0m\u001b[1m(\u001b[22m\u001b[90mbc\u001b[39m::\u001b[0mBase.Broadcast.Broadcasted\u001b[90m{Nothing, Tuple{Base.OneTo{Int64}, Base.OneTo{Int64}}, typeof(-), Tuple{Base.Broadcast.Extruded{BidiagReflections, Tuple{Bool, Bool}, Tuple{Int64, Int64}}, Base.Broadcast.Extruded{Matrix{Float64}, Tuple{Bool, Bool}, Tuple{Int64, Int64}}}}\u001b[39m, \u001b[90mI\u001b[39m::\u001b[0mCartesianIndex\u001b[90m{2}\u001b[39m\u001b[0m\u001b[1m)\u001b[22m\n",
      "  \u001b[90m       @ \u001b[39m\u001b[36mBase.Broadcast\u001b[39m \u001b[90m.\\\u001b[39m\u001b[90m\u001b[4mbroadcast.jl:642\u001b[24m\u001b[39m\n",
      "   [42614] \u001b[0m\u001b[1mgetindex\u001b[22m\n",
      "  \u001b[90m       @ \u001b[39m\u001b[90m.\\\u001b[39m\u001b[90m\u001b[4mbroadcast.jl:597\u001b[24m\u001b[39m\u001b[90m [inlined]\u001b[39m\n",
      "   [42615] \u001b[0m\u001b[1mmacro expansion\u001b[22m\n",
      "  \u001b[90m       @ \u001b[39m\u001b[90m.\\\u001b[39m\u001b[90m\u001b[4mbroadcast.jl:961\u001b[24m\u001b[39m\u001b[90m [inlined]\u001b[39m\n",
      "   [42616] \u001b[0m\u001b[1mmacro expansion\u001b[22m\n",
      "  \u001b[90m       @ \u001b[39m\u001b[90m.\\\u001b[39m\u001b[90m\u001b[4msimdloop.jl:77\u001b[24m\u001b[39m\u001b[90m [inlined]\u001b[39m\n",
      "   [42617] \u001b[0m\u001b[1mcopyto!\u001b[22m\n",
      "  \u001b[90m       @ \u001b[39m\u001b[90m.\\\u001b[39m\u001b[90m\u001b[4mbroadcast.jl:960\u001b[24m\u001b[39m\u001b[90m [inlined]\u001b[39m\n",
      "   [42618] \u001b[0m\u001b[1mcopyto!\u001b[22m\n",
      "  \u001b[90m       @ \u001b[39m\u001b[90m.\\\u001b[39m\u001b[90m\u001b[4mbroadcast.jl:913\u001b[24m\u001b[39m\u001b[90m [inlined]\u001b[39m\n",
      "   [42619] \u001b[0m\u001b[1mcopy\u001b[22m\n",
      "  \u001b[90m       @ \u001b[39m\u001b[90m.\\\u001b[39m\u001b[90m\u001b[4mbroadcast.jl:885\u001b[24m\u001b[39m\u001b[90m [inlined]\u001b[39m\n",
      "   [42620] \u001b[0m\u001b[1mmaterialize\u001b[22m\n",
      "  \u001b[90m       @ \u001b[39m\u001b[90m.\\\u001b[39m\u001b[90m\u001b[4mbroadcast.jl:860\u001b[24m\u001b[39m\u001b[90m [inlined]\u001b[39m\n",
      "   [42621] \u001b[0m\u001b[1mbroadcast_preserving_zero_d\u001b[22m\n",
      "  \u001b[90m       @ \u001b[39m\u001b[90m.\\\u001b[39m\u001b[90m\u001b[4mbroadcast.jl:849\u001b[24m\u001b[39m\u001b[90m [inlined]\u001b[39m\n",
      "   [42622] \u001b[0m\u001b[1m-\u001b[22m\u001b[0m\u001b[1m(\u001b[22m\u001b[90mA\u001b[39m::\u001b[0mBidiagReflections, \u001b[90mB\u001b[39m::\u001b[0mMatrix\u001b[90m{Float64}\u001b[39m\u001b[0m\u001b[1m)\u001b[22m\n",
      "  \u001b[90m       @ \u001b[39m\u001b[36mBase\u001b[39m \u001b[90m.\\\u001b[39m\u001b[90m\u001b[4marraymath.jl:8\u001b[24m\u001b[39m\n",
      "   [42623] \u001b[0m\u001b[1misapprox\u001b[22m\u001b[0m\u001b[1m(\u001b[22m\u001b[90mx\u001b[39m::\u001b[0mBidiagReflections, \u001b[90my\u001b[39m::\u001b[0mMatrix\u001b[90m{Float64}\u001b[39m; \u001b[90matol\u001b[39m::\u001b[0mInt64, \u001b[90mrtol\u001b[39m::\u001b[0mFloat64, \u001b[90mnans\u001b[39m::\u001b[0mBool, \u001b[90mnorm\u001b[39m::\u001b[0mtypeof(norm)\u001b[0m\u001b[1m)\u001b[22m\n",
      "  \u001b[90m       @ \u001b[39m\u001b[32mLinearAlgebra\u001b[39m \u001b[90mD:\\APP_I\\Julia-1.8.5\\share\\julia\\stdlib\\v1.8\\LinearAlgebra\\src\\\u001b[39m\u001b[90m\u001b[4mgeneric.jl:1700\u001b[24m\u001b[39m\n",
      "   [42624] \u001b[0m\u001b[1misapprox\u001b[22m\u001b[0m\u001b[1m(\u001b[22m\u001b[90mx\u001b[39m::\u001b[0mBidiagReflections, \u001b[90my\u001b[39m::\u001b[0mMatrix\u001b[90m{Float64}\u001b[39m\u001b[0m\u001b[1m)\u001b[22m\n",
      "  \u001b[90m       @ \u001b[39m\u001b[32mLinearAlgebra\u001b[39m \u001b[90mD:\\APP_I\\Julia-1.8.5\\share\\julia\\stdlib\\v1.8\\LinearAlgebra\\src\\\u001b[39m\u001b[90m\u001b[4mgeneric.jl:1696\u001b[24m\u001b[39m\n",
      "   [42625] \u001b[0m\u001b[1meval_test\u001b[22m\u001b[0m\u001b[1m(\u001b[22m\u001b[90mevaluated\u001b[39m::\u001b[0mExpr, \u001b[90mquoted\u001b[39m::\u001b[0mExpr, \u001b[90msource\u001b[39m::\u001b[0mLineNumberNode, \u001b[90mnegate\u001b[39m::\u001b[0mBool\u001b[0m\u001b[1m)\u001b[22m\n",
      "  \u001b[90m       @ \u001b[39m\u001b[33mTest\u001b[39m \u001b[90mD:\\APP_I\\Julia-1.8.5\\share\\julia\\stdlib\\v1.8\\Test\\src\\\u001b[39m\u001b[90m\u001b[4mTest.jl:307\u001b[24m\u001b[39m\n",
      "   [42626] \u001b[0m\u001b[1meval\u001b[22m\n",
      "  \u001b[90m       @ \u001b[39m\u001b[90m.\\\u001b[39m\u001b[90m\u001b[4mboot.jl:368\u001b[24m\u001b[39m\u001b[90m [inlined]\u001b[39m\n",
      "   [42627] \u001b[0m\u001b[1minclude_string\u001b[22m\u001b[0m\u001b[1m(\u001b[22m\u001b[90mmapexpr\u001b[39m::\u001b[0mtypeof(REPL.softscope), \u001b[90mmod\u001b[39m::\u001b[0mModule, \u001b[90mcode\u001b[39m::\u001b[0mString, \u001b[90mfilename\u001b[39m::\u001b[0mString\u001b[0m\u001b[1m)\u001b[22m\n",
      "  \u001b[90m       @ \u001b[39m\u001b[36mBase\u001b[39m \u001b[90m.\\\u001b[39m\u001b[90m\u001b[4mloading.jl:1428\u001b[24m\u001b[39m\n",
      "   [42628] \u001b[0m\u001b[1m#invokelatest#2\u001b[22m\n",
      "  \u001b[90m       @ \u001b[39m\u001b[90m.\\\u001b[39m\u001b[90m\u001b[4messentials.jl:729\u001b[24m\u001b[39m\u001b[90m [inlined]\u001b[39m\n",
      "   [42629] \u001b[0m\u001b[1minvokelatest\u001b[22m\n",
      "  \u001b[90m       @ \u001b[39m\u001b[90m.\\\u001b[39m\u001b[90m\u001b[4messentials.jl:726\u001b[24m\u001b[39m\u001b[90m [inlined]\u001b[39m\n",
      "   [42630] \u001b[0m\u001b[1m(::VSCodeServer.var\"#198#199\"{VSCodeServer.NotebookRunCellArguments, String})\u001b[22m\u001b[0m\u001b[1m(\u001b[22m\u001b[0m\u001b[1m)\u001b[22m\n",
      "  \u001b[90m       @ \u001b[39m\u001b[35mVSCodeServer\u001b[39m \u001b[90mc:\\Users\\liyiy\\.vscode\\extensions\\julialang.language-julia-1.38.2\\scripts\\packages\\VSCodeServer\\src\\\u001b[39m\u001b[90m\u001b[4mserve_notebook.jl:19\u001b[24m\u001b[39m\n",
      "   [42631] \u001b[0m\u001b[1mwithpath\u001b[22m\u001b[0m\u001b[1m(\u001b[22m\u001b[90mf\u001b[39m::\u001b[0mVSCodeServer.var\"#198#199\"\u001b[90m{VSCodeServer.NotebookRunCellArguments, String}\u001b[39m, \u001b[90mpath\u001b[39m::\u001b[0mString\u001b[0m\u001b[1m)\u001b[22m\n",
      "  \u001b[90m       @ \u001b[39m\u001b[35mVSCodeServer\u001b[39m \u001b[90mc:\\Users\\liyiy\\.vscode\\extensions\\julialang.language-julia-1.38.2\\scripts\\packages\\VSCodeServer\\src\\\u001b[39m\u001b[90m\u001b[4mrepl.jl:249\u001b[24m\u001b[39m\n",
      "   [42632] \u001b[0m\u001b[1mnotebook_runcell_request\u001b[22m\u001b[0m\u001b[1m(\u001b[22m\u001b[90mconn\u001b[39m::\u001b[0mVSCodeServer.JSONRPC.JSONRPCEndpoint\u001b[90m{Base.PipeEndpoint, Base.PipeEndpoint}\u001b[39m, \u001b[90mparams\u001b[39m::\u001b[0mVSCodeServer.NotebookRunCellArguments\u001b[0m\u001b[1m)\u001b[22m\n",
      "  \u001b[90m       @ \u001b[39m\u001b[35mVSCodeServer\u001b[39m \u001b[90mc:\\Users\\liyiy\\.vscode\\extensions\\julialang.language-julia-1.38.2\\scripts\\packages\\VSCodeServer\\src\\\u001b[39m\u001b[90m\u001b[4mserve_notebook.jl:13\u001b[24m\u001b[39m\n",
      "   [42633] \u001b[0m\u001b[1mdispatch_msg\u001b[22m\u001b[0m\u001b[1m(\u001b[22m\u001b[90mx\u001b[39m::\u001b[0mVSCodeServer.JSONRPC.JSONRPCEndpoint\u001b[90m{Base.PipeEndpoint, Base.PipeEndpoint}\u001b[39m, \u001b[90mdispatcher\u001b[39m::\u001b[0mVSCodeServer.JSONRPC.MsgDispatcher, \u001b[90mmsg\u001b[39m::\u001b[0mDict\u001b[90m{String, Any}\u001b[39m\u001b[0m\u001b[1m)\u001b[22m\n",
      "  \u001b[90m       @ \u001b[39m\u001b[35mVSCodeServer.JSONRPC\u001b[39m \u001b[90mc:\\Users\\liyiy\\.vscode\\extensions\\julialang.language-julia-1.38.2\\scripts\\packages\\JSONRPC\\src\\\u001b[39m\u001b[90m\u001b[4mtyped.jl:67\u001b[24m\u001b[39m\n",
      "   [42634] \u001b[0m\u001b[1mserve_notebook\u001b[22m\u001b[0m\u001b[1m(\u001b[22m\u001b[90mpipename\u001b[39m::\u001b[0mString, \u001b[90moutputchannel_logger\u001b[39m::\u001b[0mBase.CoreLogging.SimpleLogger; \u001b[90mcrashreporting_pipename\u001b[39m::\u001b[0mString\u001b[0m\u001b[1m)\u001b[22m\n",
      "  \u001b[90m       @ \u001b[39m\u001b[35mVSCodeServer\u001b[39m \u001b[90mc:\\Users\\liyiy\\.vscode\\extensions\\julialang.language-julia-1.38.2\\scripts\\packages\\VSCodeServer\\src\\\u001b[39m\u001b[90m\u001b[4mserve_notebook.jl:139\u001b[24m\u001b[39m\n",
      "   [42635] top-level scope\n",
      "  \u001b[90m       @ \u001b[39m\u001b[90mc:\\Users\\liyiy\\.vscode\\extensions\\julialang.language-julia-1.38.2\\scripts\\notebook\\\u001b[39m\u001b[90m\u001b[4mnotebook.jl:32\u001b[24m\u001b[39m\n",
      "   [42636] \u001b[0m\u001b[1minclude\u001b[22m\u001b[0m\u001b[1m(\u001b[22m\u001b[90mmod\u001b[39m::\u001b[0mModule, \u001b[90m_path\u001b[39m::\u001b[0mString\u001b[0m\u001b[1m)\u001b[22m\n",
      "  \u001b[90m       @ \u001b[39m\u001b[36mBase\u001b[39m \u001b[90m.\\\u001b[39m\u001b[90m\u001b[4mBase.jl:419\u001b[24m\u001b[39m\n",
      "   [42637] \u001b[0m\u001b[1mexec_options\u001b[22m\u001b[0m\u001b[1m(\u001b[22m\u001b[90mopts\u001b[39m::\u001b[0mBase.JLOptions\u001b[0m\u001b[1m)\u001b[22m"
     ]
    },
    {
     "name": "stdout",
     "output_type": "stream",
     "text": [
      "\n",
      "  \u001b[90m       @ \u001b[39m\u001b[36mBase\u001b[39m \u001b[90m.\\\u001b[39m\u001b[90m\u001b[4mclient.jl:303\u001b[24m\u001b[39m\n"
     ]
    },
    {
     "ename": "Test.FallbackTestSetException",
     "evalue": "Test.FallbackTestSetException(\"There was an error during testing\")",
     "output_type": "error",
     "traceback": [
      "Test.FallbackTestSetException(\"There was an error during testing\")\n",
      "\n",
      "Stacktrace:\n",
      " [1] record(ts::Test.FallbackTestSet, t::Union{Test.Error, Test.Fail})\n",
      "   @ Test D:\\APP_I\\Julia-1.8.5\\share\\julia\\stdlib\\v1.8\\Test\\src\\Test.jl:946\n",
      " [2] do_test(result::Test.ExecutionResult, orig_expr::Any)\n",
      "   @ Test D:\\APP_I\\Julia-1.8.5\\share\\julia\\stdlib\\v1.8\\Test\\src\\Test.jl:656\n",
      " [3] top-level scope\n",
      "   @ D:\\APP_I\\Julia-1.8.5\\share\\julia\\stdlib\\v1.8\\Test\\src\\Test.jl:464"
     ]
    }
   ],
   "source": [
    "struct BidiagReflections <: AbstractMatrix{Float64}\n",
    "    V::Bidiagonal\n",
    "end\n",
    "\n",
    "import Base: size, *, getindex\n",
    "size(Q::BidiagReflections) = (size(Q.V,1), size(Q.V,1))\n",
    "\n",
    "\n",
    "function *(Q::BidiagReflections, x::AbstractVector)\n",
    "    if Q.V.uplo ≠ 'L'\n",
    "        error(\"only supports lower bidiagonal\")\n",
    "    end\n",
    "    m,n = size(Q.V) # m == n by definition of bidiag\n",
    "    for j = 1:n\n",
    "        if !(norm(Q.V[j:min(j+1,n),j]) ≈ 1)\n",
    "            error(\"Columns of Q.V must be normalised\")\n",
    "        end\n",
    "    end\n",
    "\n",
    "    # TODO: Apply Q in O(n) operations by applying\n",
    "    # the reflection corresponding to each column of Q.V to x\n",
    "    # in O(1) operations\n",
    "    for i = n:-1:1\n",
    "        v = Q[:, i]\n",
    "        x -= 2*v*v'\n",
    "    end\n",
    "end\n",
    "\n",
    "function getindex(Q::BidiagReflections, k::Int, j::Int)\n",
    "    # TODO: Return Q[k,j] in O(n) operations (hint: use *)\n",
    "    T = eltype(Q.V)\n",
    "    m, n = size(Q)\n",
    "    ej = zeros(T, m)\n",
    "    ej[j] = one(T)\n",
    "    return (Q*ej)[k]\n",
    "end\n",
    "\n",
    "Y = Bidiagonal(randn(4,4), :L)\n",
    "V = Y * Diagonal([1/norm(Y[:,j]) for j=1:4])\n",
    "Q = BidiagReflections(V)\n",
    "@test Q ≈ (I - 2V[:,1]*V[:,1]')*(I - 2V[:,2]*V[:,2]')*(I - 2V[:,3]*V[:,3]')*(I - 2V[:,4]*V[:,4]')\n",
    "@test Q'Q ≈ I"
   ]
  },
  {
   "cell_type": "markdown",
   "metadata": {},
   "source": [
    "## II.3 QR Factorisation"
   ]
  },
  {
   "cell_type": "markdown",
   "metadata": {},
   "source": [
    "**Problem 6 (C)** Approximate $\\exp x$ by a degree $n$ polynomial by interpolating\n",
    "  when sampled at $n$ evenly spaced points in $[0,1]$,\n",
    "that is, $x_k = (k-1)/(n-1)$ for $k = 1,…,n$,\n",
    "returning the coefficients in the monomial basis."
   ]
  },
  {
   "cell_type": "code",
   "execution_count": 4,
   "metadata": {},
   "outputs": [
    {
     "data": {
      "text/plain": [
       "\u001b[32m\u001b[1mTest Passed\u001b[22m\u001b[39m"
      ]
     },
     "metadata": {},
     "output_type": "display_data"
    }
   ],
   "source": [
    "function expinterp(n)\n",
    "    # TODO: return the coefficients [c_0,…,c_{n-1}] of the polynomial\n",
    "    # c_0 + ⋯ + c_{n-1}*x^{n-1} that equals exp(x) at x_k defined above.\n",
    "    x = [(k-1)/(n-1) for k = 1:n]\n",
    "    f = exp.(x)\n",
    "    V = x .^ (0:(n-1))'\n",
    "\n",
    "    V \\ f\n",
    "end\n",
    "\n",
    "n = 22\n",
    "c = expinterp(n)\n",
    "x = 0.1\n",
    "@test c'*[x^k for k=0:n-1] ≈ exp(x)"
   ]
  },
  {
   "cell_type": "markdown",
   "metadata": {},
   "source": [
    "## II.4 PLU and Cholesky"
   ]
  },
  {
   "cell_type": "markdown",
   "metadata": {},
   "source": [
    "**Problem 7 (B)** Implement `reversecholesky(A)` that returns an upper-triangular matrix `U` such that `U*U' ≈ A`.\n",
    "You may assume the input is symmetric positive definite and has `Float64` values. You must not use the inbuilt `cholesky`\n",
    "function or in any other way reduce the problem to a standard Cholesky decomposition."
   ]
  },
  {
   "cell_type": "code",
   "execution_count": 8,
   "metadata": {},
   "outputs": [
    {
     "data": {
      "text/plain": [
       "\u001b[33m\u001b[1mTest Broken\u001b[22m\u001b[39m\n",
       "  Expression: U * U' ≈ A"
      ]
     },
     "execution_count": 8,
     "metadata": {},
     "output_type": "execute_result"
    }
   ],
   "source": [
    "function reversecholesky(A)\n",
    "    T = eltype(A)\n",
    "    n,m = size(A)\n",
    "    if n ≠ m\n",
    "        error(\"Matrix must be square\")\n",
    "    end\n",
    "    if A ≠ A'\n",
    "        error(\"Matrix must be symmetric\")\n",
    "    end\n",
    "    U = UpperTriangular(zeros(n,n))\n",
    "    # TODO: populate U so that U'U ≈ A\n",
    "    \n",
    "    U\n",
    "end\n",
    "\n",
    "A = [2 1 0; 1 2 1; 0 1 2]\n",
    "U = reversecholesky(A)\n",
    "@test U*U' ≈ A"
   ]
  },
  {
   "cell_type": "markdown",
   "metadata": {},
   "source": [
    "## II.6 Singular Value Decomposition"
   ]
  },
  {
   "cell_type": "markdown",
   "metadata": {},
   "source": [
    "**Problem 8 (B)** Implement `issvdfactors(U, σ, V)` which checks if the inputs satisfy the\n",
    "conditions of a SVD, permitting small errors due to round-off errors.\n",
    "Use the definition of the SVD as defined in notes/lectures, where the length of `σ` is equal to the rank of the\n",
    "corresponding matrix. Hint: when checking if a matrix `A` equals the identity matrix (up-to-roundoff errors)\n",
    "a simple way to check is that `A ≈ I` or equivalently `isapprox(A, I)`."
   ]
  },
  {
   "cell_type": "code",
   "execution_count": 9,
   "metadata": {},
   "outputs": [
    {
     "data": {
      "text/plain": [
       "\u001b[33m\u001b[1mTest Broken\u001b[22m\u001b[39m\n",
       "  Expression: !(issvdfactors(U[:, 2:-1:1], σ[2:-1:1], V[:, 2:-1:1]))"
      ]
     },
     "execution_count": 9,
     "metadata": {},
     "output_type": "execute_result"
    }
   ],
   "source": [
    "function issvdfactors(U::AbstractMatrix, σ::AbstractVector, V::AbstractMatrix)\n",
    "    # TODO: return `true` if the inputs are in the correct format for an SVD. Otherwise return `false`\n",
    "    ret = true\n",
    "\n",
    "    r = length(σ)\n",
    "    for i = 1:r\n",
    "        if σ[i] < σ[i+1]\n",
    "            ret = false\n",
    "        end\n",
    "    end\n",
    "\n",
    "    ret\n",
    "end\n",
    "\n",
    "A = [1 2 3;\n",
    "     4 5 6;\n",
    "     7 8 9]\n",
    "\n",
    "U, σ, V = svd(A)\n",
    "@test !issvdfactors(U, [σ[1:2]; 0], V)\n",
    "@test issvdfactors(U[:,1:2], σ[1:2], V[:,1:2])\n",
    "@test !issvdfactors(U[:,2:-1:1], σ[2:-1:1], V[:,2:-1:1])"
   ]
  },
  {
   "cell_type": "markdown",
   "metadata": {},
   "source": [
    "## II.7 Condition Numbers"
   ]
  },
  {
   "cell_type": "markdown",
   "metadata": {},
   "source": [
    "**Problem 9 (C)** Implement the following `matcond(A)` function that is able to compute the\n",
    "2-norm condition number of `A`. You must not use the inbuilt `cond`\n",
    "or `opnorm` functions, but may use the `svdvals` function."
   ]
  },
  {
   "cell_type": "code",
   "execution_count": 5,
   "metadata": {},
   "outputs": [
    {
     "data": {
      "text/plain": [
       "\u001b[32m\u001b[1mTest Passed\u001b[22m\u001b[39m"
      ]
     },
     "metadata": {},
     "output_type": "display_data"
    }
   ],
   "source": [
    "function matcond(A)\n",
    "    # TODO: Use `svdvals` to return the 2-norm condition number of `A`.\n",
    "    σ = svdvals(A)\n",
    "    σ[1] / σ[end]\n",
    "end\n",
    "\n",
    "A = [1 2 3;\n",
    "     4 5 6;\n",
    "     7 8 8]\n",
    "@test matcond(A) ≈ 120.50662309164431"
   ]
  },
  {
   "cell_type": "markdown",
   "metadata": {},
   "source": [
    "---\n",
    "\n",
    "*This notebook was generated using [Literate.jl](https://github.com/fredrikekre/Literate.jl).*"
   ]
  }
 ],
 "metadata": {
  "kernelspec": {
   "display_name": "Julia 1.8.5",
   "language": "julia",
   "name": "julia-1.8"
  },
  "language_info": {
   "file_extension": ".jl",
   "mimetype": "application/julia",
   "name": "julia",
   "version": "1.8.5"
  }
 },
 "nbformat": 4,
 "nbformat_minor": 3
}
